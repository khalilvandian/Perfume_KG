{
 "cells": [
  {
   "cell_type": "markdown",
   "metadata": {},
   "source": [
    "## Load Ontology"
   ]
  },
  {
   "cell_type": "code",
   "execution_count": 1,
   "metadata": {},
   "outputs": [],
   "source": [
    "from rdflib import Graph\n",
    "from owlready2 import get_ontology"
   ]
  },
  {
   "cell_type": "code",
   "execution_count": 2,
   "metadata": {},
   "outputs": [],
   "source": [
    "ontology_path = 'ontology/RefactoredPerfumeOntology.rdf'"
   ]
  },
  {
   "cell_type": "code",
   "execution_count": 3,
   "metadata": {},
   "outputs": [
    {
     "name": "stdout",
     "output_type": "stream",
     "text": [
      "RefactoredPerfumeOntology.Perfume\n",
      "RefactoredPerfumeOntology.Accord\n",
      "RefactoredPerfumeOntology.Note\n",
      "RefactoredPerfumeOntology.SmellGroup\n",
      "RefactoredPerfumeOntology.Platform\n",
      "RefactoredPerfumeOntology.Brand\n",
      "RefactoredPerfumeOntology.Person\n",
      "RefactoredPerfumeOntology.Nose\n",
      "RefactoredPerfumeOntology.Perfume_Eau_Fraiche\n",
      "RefactoredPerfumeOntology.Perfume_Eau_de_Cologne\n",
      "RefactoredPerfumeOntology.Perfume_Eau_de_Perfume\n",
      "RefactoredPerfumeOntology.Perfume_Eau_de_Toilette\n",
      "RefactoredPerfumeOntology.Perfume_Perfume\n",
      "RefactoredPerfumeOntology.Perfume_Perfume_Oil\n"
     ]
    }
   ],
   "source": [
    "# Load the OWL ontology\n",
    "onto = get_ontology(ontology_path).load()\n",
    "\n",
    "# Access classes, properties, etc.\n",
    "for cls in onto.classes():\n",
    "    print(cls)"
   ]
  },
  {
   "cell_type": "markdown",
   "metadata": {},
   "source": [
    "## Define Classes"
   ]
  },
  {
   "cell_type": "code",
   "execution_count": 4,
   "metadata": {},
   "outputs": [],
   "source": [
    "Perfume = onto.Perfume\n",
    "Accord = onto.Accord\n",
    "Note = onto.Note\n",
    "SmellGroup = onto.SmellGroup\n",
    "Platform = onto.Platform\n",
    "Brand = onto.Brand\n",
    "Person = onto.Person\n",
    "Nose = onto.Nose\n",
    "Perfume_Eau_Fraiche = onto.Perfume_Eau_Fraiche\n",
    "Perfume_Eau_de_Cologne = onto.Perfume_Eau_de_Cologne\n",
    "Perfume_Eau_de_Perfume = onto.Perfume_Eau_de_Perfume\n",
    "Perfume_Eau_de_Toilette = onto.Perfume_Eau_de_Toilette\n",
    "Perfume_Perfume = onto.Perfume_Perfume\n",
    "Perfume_Perfume_Oil = onto.Perfume_Perfume_Oil"
   ]
  },
  {
   "cell_type": "code",
   "execution_count": 5,
   "metadata": {},
   "outputs": [
    {
     "name": "stdout",
     "output_type": "stream",
     "text": [
      "[RefactoredPerfumeOntology.Perfume, RefactoredPerfumeOntology.Accord, RefactoredPerfumeOntology.Note, RefactoredPerfumeOntology.SmellGroup, RefactoredPerfumeOntology.Platform, RefactoredPerfumeOntology.Brand, RefactoredPerfumeOntology.Person, RefactoredPerfumeOntology.Nose, RefactoredPerfumeOntology.Perfume_Eau_Fraiche, RefactoredPerfumeOntology.Perfume_Eau_de_Cologne, RefactoredPerfumeOntology.Perfume_Eau_de_Perfume, RefactoredPerfumeOntology.Perfume_Eau_de_Toilette, RefactoredPerfumeOntology.Perfume_Perfume, RefactoredPerfumeOntology.Perfume_Perfume_Oil]\n"
     ]
    }
   ],
   "source": [
    "print(list(onto.classes()))"
   ]
  },
  {
   "cell_type": "markdown",
   "metadata": {},
   "source": [
    "# Load Data\n",
    "Perfume data have been exported from the database as a json file."
   ]
  },
  {
   "cell_type": "code",
   "execution_count": 6,
   "metadata": {},
   "outputs": [],
   "source": [
    "# load json file \n",
    "import json\n",
    "\n",
    "with open('Babak_Data\\Perfume_Database.Fragrances.json') as f:\n",
    "    data = json.load(f)"
   ]
  },
  {
   "cell_type": "code",
   "execution_count": 7,
   "metadata": {},
   "outputs": [
    {
     "data": {
      "text/plain": [
       "{'_id': {'$oid': '65a54ac72b32912eefb9ea54'},\n",
       " 'name': 'maai',\n",
       " 'company': 'bogue',\n",
       " 'image': 'https://fimgs.net/mdimg/perfume/375x500.26681.jpg',\n",
       " 'gender': 'for women and men',\n",
       " 'rating': 4.18,\n",
       " 'number_votes': 602,\n",
       " 'main accords': {'musky': 100,\n",
       "  'white floral': 81.0897,\n",
       "  'animalic': 80.9679,\n",
       "  'aldehydic': 71.419,\n",
       "  'amber': 70.8567,\n",
       "  'tuberose': 63.1727,\n",
       "  'powdery': 62.7979,\n",
       "  'fresh': 57.3066,\n",
       "  'rose': 45.3681,\n",
       "  'balsamic': 44.2436},\n",
       " 'description': 'Maai by Bogue is a Floral Woody Musk fragrance for women and men. Maai was launched in 2014. The nose behind this fragrance is Antonio Gardoni. Top notes are Aldehydes and Tuberose; middle notes are Jasmine and Rose; base notes are Civet, Resins and Musk. .',\n",
       " 'top notes': ['aldehydes', 'tuberose'],\n",
       " 'middle notes': ['jasmine', 'rose'],\n",
       " 'base notes': ['civet', 'resins', 'musk'],\n",
       " 'longevity': {'very weak': 23,\n",
       "  'weak': 9,\n",
       "  'moderate': 28,\n",
       "  'long lasting': 140,\n",
       "  'eternal': 69},\n",
       " 'sillage': {'intimate': 27, 'moderate': 69, 'strong': 146, 'enormous': 76},\n",
       " 'gender_vote': {'average': 0.2, 'votes_count': 130},\n",
       " 'price value': {'way overpriced': 5,\n",
       "  'overpriced': 19,\n",
       "  'ok': 49,\n",
       "  'good value': 25,\n",
       "  'great value': 4},\n",
       " 'link': ['https://www.fragrantica.com/perfume/Bogue/Maai-26681.html'],\n",
       " 'notes': None}"
      ]
     },
     "execution_count": 7,
     "metadata": {},
     "output_type": "execute_result"
    }
   ],
   "source": [
    "data[0]"
   ]
  },
  {
   "cell_type": "markdown",
   "metadata": {},
   "source": [
    "## Populate the ontology "
   ]
  },
  {
   "cell_type": "code",
   "execution_count": 35,
   "metadata": {},
   "outputs": [
    {
     "data": {
      "text/plain": [
       "dict_keys(['_id', 'name', 'company', 'image', 'gender', 'rating', 'number_votes', 'main accords', 'description', 'top notes', 'middle notes', 'base notes', 'longevity', 'sillage', 'gender_vote', 'price value', 'link', 'notes'])"
      ]
     },
     "execution_count": 35,
     "metadata": {},
     "output_type": "execute_result"
    }
   ],
   "source": [
    "# Load the first instance of the perfume\n",
    "perfume_temp = data[0]\n",
    "perfume_temp.keys()"
   ]
  },
  {
   "cell_type": "code",
   "execution_count": 36,
   "metadata": {},
   "outputs": [],
   "source": [
    "perfume = onto.Perfume(to_camel_case(perfume_temp['name']))"
   ]
  },
  {
   "cell_type": "code",
   "execution_count": 37,
   "metadata": {},
   "outputs": [
    {
     "data": {
      "text/plain": [
       "'http://www.example.org/perfumeKG#maai'"
      ]
     },
     "execution_count": 37,
     "metadata": {},
     "output_type": "execute_result"
    }
   ],
   "source": [
    "perfume.iri"
   ]
  },
  {
   "cell_type": "markdown",
   "metadata": {},
   "source": [
    "### Name"
   ]
  },
  {
   "cell_type": "code",
   "execution_count": 12,
   "metadata": {},
   "outputs": [
    {
     "data": {
      "text/plain": [
       "['maai']"
      ]
     },
     "execution_count": 12,
     "metadata": {},
     "output_type": "execute_result"
    }
   ],
   "source": [
    "perfume.name = [perfume_temp['name']]\n",
    "perfume.name"
   ]
  },
  {
   "cell_type": "markdown",
   "metadata": {},
   "source": [
    "### Company"
   ]
  },
  {
   "cell_type": "code",
   "execution_count": 13,
   "metadata": {},
   "outputs": [],
   "source": [
    "perfume.brand = [perfume_temp['company']]"
   ]
  },
  {
   "cell_type": "markdown",
   "metadata": {},
   "source": [
    "### Image"
   ]
  },
  {
   "cell_type": "code",
   "execution_count": 70,
   "metadata": {},
   "outputs": [],
   "source": [
    "perfume.image = perfume_temp['image']"
   ]
  },
  {
   "cell_type": "markdown",
   "metadata": {},
   "source": [
    "### Gender"
   ]
  },
  {
   "cell_type": "code",
   "execution_count": 71,
   "metadata": {},
   "outputs": [],
   "source": [
    "perfume.gender = perfume_temp['gender']"
   ]
  },
  {
   "cell_type": "markdown",
   "metadata": {},
   "source": [
    "### Longetivity Vote"
   ]
  },
  {
   "cell_type": "code",
   "execution_count": 14,
   "metadata": {},
   "outputs": [],
   "source": [
    "perfume.LongetivityIseternal.append(perfume_temp['longevity']['eternal'])\n",
    "perfume.LongetivityIslongLasting.append(perfume_temp['longevity']['long lasting'])\n",
    "perfume.LongetivityIsmoderate.append(perfume_temp['longevity']['moderate'])\n",
    "perfume.LongetivityIsveryWeak.append(perfume_temp['longevity']['very weak'])\n",
    "perfume.LongetivityIsweak.append(perfume_temp['longevity']['weak'])"
   ]
  },
  {
   "cell_type": "markdown",
   "metadata": {},
   "source": [
    "### Sillage Vote"
   ]
  },
  {
   "cell_type": "code",
   "execution_count": 15,
   "metadata": {},
   "outputs": [],
   "source": [
    "perfume.sillageVoteIsEnormous.append(perfume_temp['sillage']['enormous'])\n",
    "perfume.sillageVoteIsIntimate.append(perfume_temp['sillage']['intimate'])\n",
    "perfume.sillageVoteIsModerate.append(perfume_temp['sillage']['moderate'])\n",
    "perfume.sillageVoteIsStrong.append(perfume_temp['sillage']['strong'])"
   ]
  },
  {
   "cell_type": "markdown",
   "metadata": {},
   "source": [
    "### Price Vote"
   ]
  },
  {
   "cell_type": "code",
   "execution_count": 16,
   "metadata": {},
   "outputs": [],
   "source": [
    "perfume.priceIsGoodValue.append(perfume_temp['price value']['good value'])\n",
    "perfume.priceIsGreatValue.append(perfume_temp['price value']['great value'])\n",
    "perfume.priceIsOk.append(perfume_temp['price value']['ok'])\n",
    "perfume.priceIsOverpriced.append(perfume_temp['price value']['overpriced'])\n",
    "perfume.priceIsWayOverpriced.append(perfume_temp['price value']['way overpriced'])"
   ]
  },
  {
   "cell_type": "markdown",
   "metadata": {},
   "source": [
    "### Price"
   ]
  },
  {
   "cell_type": "code",
   "execution_count": 16,
   "metadata": {},
   "outputs": [
    {
     "ename": "KeyError",
     "evalue": "'price'",
     "output_type": "error",
     "traceback": [
      "\u001b[1;31m---------------------------------------------------------------------------\u001b[0m",
      "\u001b[1;31mKeyError\u001b[0m                                  Traceback (most recent call last)",
      "Cell \u001b[1;32mIn[16], line 1\u001b[0m\n\u001b[1;32m----> 1\u001b[0m perfume\u001b[38;5;241m.\u001b[39mprice\u001b[38;5;241m.\u001b[39mappend(\u001b[43mperfume_temp\u001b[49m\u001b[43m[\u001b[49m\u001b[38;5;124;43m'\u001b[39;49m\u001b[38;5;124;43mprice\u001b[39;49m\u001b[38;5;124;43m'\u001b[39;49m\u001b[43m]\u001b[49m)\n",
      "\u001b[1;31mKeyError\u001b[0m: 'price'"
     ]
    }
   ],
   "source": [
    "# perfume.price.append(perfume_temp['price'])"
   ]
  },
  {
   "cell_type": "markdown",
   "metadata": {},
   "source": [
    "### Accords"
   ]
  },
  {
   "cell_type": "code",
   "execution_count": 17,
   "metadata": {},
   "outputs": [],
   "source": [
    "def to_camel_case(snake_str):\n",
    "\n",
    "    components = snake_str.replace('_', ' ').split()\n",
    "    return components[0] + ''.join(x.capitalize() for x in components[1:])\n",
    "\n",
    "\n",
    "def create_Accord(accord_name):\n",
    "    accord_name = to_camel_case(accord_name)\n",
    "    accord = onto.Accord(accord_name)\n",
    "    return accord"
   ]
  },
  {
   "cell_type": "code",
   "execution_count": 18,
   "metadata": {},
   "outputs": [],
   "source": [
    "for accord in perfume_temp['main accords'].keys():\n",
    "\n",
    "    # make the name camel case\n",
    "    accord_name = to_camel_case(str(accord))\n",
    "\n",
    "    search_res = onto.search(iri= '*'+accord_name, is_a=onto.Accord)\n",
    "    accord_exists = bool(search_res)\n",
    "    \n",
    "    if accord_exists:\n",
    "        continue\n",
    "    else:\n",
    "        create_Accord(accord_name)"
   ]
  },
  {
   "cell_type": "markdown",
   "metadata": {},
   "source": [
    "### Description"
   ]
  },
  {
   "cell_type": "code",
   "execution_count": 19,
   "metadata": {},
   "outputs": [],
   "source": [
    "perfume.description.append(perfume_temp['description'])"
   ]
  },
  {
   "cell_type": "markdown",
   "metadata": {},
   "source": [
    "### Notes"
   ]
  },
  {
   "cell_type": "code",
   "execution_count": 22,
   "metadata": {},
   "outputs": [],
   "source": [
    "if 'top notes' in perfume_temp.keys():\n",
    "    for note in perfume_temp['top notes']:\n",
    "        note_name = to_camel_case(note)\n",
    "        matching_notes = onto.search(iri=note_name, is_a=onto.Note)\n",
    "        note_exists = bool(matching_notes)\n",
    "\n",
    "        if not note_exists:\n",
    "            note = onto.Note(note_name)\n",
    "        else:\n",
    "            note = matching_notes[0]\n",
    "\n",
    "        perfume.hasTopNote.append(note)\n",
    "\n",
    "if 'middle notes' in perfume_temp.keys():\n",
    "    for note in perfume_temp['middle notes']:\n",
    "        note_name = to_camel_case(note)\n",
    "        matching_notes = onto.search(iri=note_name, is_a=onto.Note)\n",
    "        note_exists = bool(matching_notes)\n",
    "\n",
    "        if not note_exists:\n",
    "            note = onto.Note(note_name)\n",
    "        else:\n",
    "            note = matching_notes[0]\n",
    "\n",
    "        perfume.hasMiddleNote.append(note)\n",
    "\n",
    "if 'base notes' in perfume_temp.keys():\n",
    "    for note in perfume_temp['base notes']:\n",
    "        note_name = to_camel_case(note)\n",
    "        matching_notes = onto.search(iri=note_name, is_a=onto.Note)\n",
    "        note_exists = bool(matching_notes)\n",
    "\n",
    "        if not note_exists:\n",
    "            note = onto.Note(note_name)\n",
    "        else:\n",
    "            note = matching_notes[0]\n",
    "\n",
    "        perfume.hasBaseNote.append(note)\n",
    "\n",
    "if perfume_temp['notes'] in perfume_temp.keys():\n",
    "    for note in perfume_temp['notes']:\n",
    "        note_name = to_camel_case(note)\n",
    "        matching_notes = onto.search(iri=note_name, is_a=onto.Note)\n",
    "        note_exists = bool(matching_notes)\n",
    "\n",
    "        if not note_exists:\n",
    "            note = onto.Note(note_name)\n",
    "        else:\n",
    "            note = matching_notes[0]\n",
    "\n",
    "        perfume.hasNote.append(note)"
   ]
  },
  {
   "cell_type": "code",
   "execution_count": 23,
   "metadata": {},
   "outputs": [
    {
     "name": "stdout",
     "output_type": "stream",
     "text": [
      ".hasMiddleNote == RefactoredPerfumeOntology.jasmine\n",
      ".hasMiddleNote == rose\n",
      ".hasMiddleNote == RefactoredPerfumeOntology.jasmine\n",
      ".hasMiddleNote == RefactoredPerfumeOntology.rose\n",
      ".hasMiddleNote == RefactoredPerfumeOntology.jasmine\n",
      ".hasMiddleNote == RefactoredPerfumeOntology.rose\n",
      ".priceIsOk == 49\n",
      ".LongetivityIseternal == 69\n",
      ".sillageVoteIsEnormous == 76\n",
      ".sillageVoteIsIntimate == 27\n",
      ".priceIsOverpriced == 19\n",
      ".description == Maai by Bogue is a Floral Woody Musk fragrance for women and men. Maai was launched in 2014. The nose behind this fragrance is Antonio Gardoni. Top notes are Aldehydes and Tuberose; middle notes are Jasmine and Rose; base notes are Civet, Resins and Musk. .\n",
      ".LongetivityIsveryWeak == 23\n",
      ".LongetivityIsmoderate == 28\n",
      ".priceIsGreatValue == 4\n",
      ".sillageVoteIsStrong == 146\n",
      ".priceIsGoodValue == 25\n",
      ".LongetivityIslongLasting == 140\n",
      ".priceIsWayOverpriced == 5\n",
      ".sillageVoteIsModerate == 69\n",
      ".LongetivityIsweak == 9\n",
      ".hasTopNote == RefactoredPerfumeOntology.aldehydes\n",
      ".hasTopNote == RefactoredPerfumeOntology.tuberose\n",
      ".hasTopNote == RefactoredPerfumeOntology.aldehydes\n",
      ".hasTopNote == RefactoredPerfumeOntology.tuberose\n",
      ".hasTopNote == RefactoredPerfumeOntology.aldehydes\n",
      ".hasTopNote == RefactoredPerfumeOntology.tuberose\n",
      ".hasBaseNote == RefactoredPerfumeOntology.civet\n",
      ".hasBaseNote == RefactoredPerfumeOntology.resins\n",
      ".hasBaseNote == RefactoredPerfumeOntology.musk\n",
      ".hasBaseNote == RefactoredPerfumeOntology.civet\n",
      ".hasBaseNote == RefactoredPerfumeOntology.resins\n",
      ".hasBaseNote == RefactoredPerfumeOntology.musk\n"
     ]
    }
   ],
   "source": [
    "# show me the individual properties of the perfume\n",
    "for prop in perfume.get_properties():\n",
    "    for value in prop[perfume]:\n",
    "        print(\".%s == %s\" % (prop.python_name, value))"
   ]
  },
  {
   "cell_type": "code",
   "execution_count": 117,
   "metadata": {},
   "outputs": [
    {
     "name": "stdout",
     "output_type": "stream",
     "text": [
      "RefactoredPerfumeOntology.LongetivityIseternal\n",
      "RefactoredPerfumeOntology.LongetivityIslongLasting\n",
      "RefactoredPerfumeOntology.LongetivityIsmoderate\n",
      "RefactoredPerfumeOntology.LongetivityIsveryWeak\n",
      "RefactoredPerfumeOntology.LongetivityIsweak\n",
      "RefactoredPerfumeOntology.comments\n",
      "RefactoredPerfumeOntology.genderVoteFemale\n",
      "RefactoredPerfumeOntology.genderVoteMale\n",
      "RefactoredPerfumeOntology.has_offline_store\n",
      "RefactoredPerfumeOntology.name\n",
      "RefactoredPerfumeOntology.odorProfile\n",
      "RefactoredPerfumeOntology.price\n",
      "RefactoredPerfumeOntology.priceIsGoodValue\n",
      "RefactoredPerfumeOntology.priceIsGreatValue\n",
      "RefactoredPerfumeOntology.priceIsOk\n",
      "RefactoredPerfumeOntology.priceIsOverpriced\n",
      "RefactoredPerfumeOntology.priceIsWayOverpriced\n",
      "RefactoredPerfumeOntology.rating\n",
      "RefactoredPerfumeOntology.releaseYear\n",
      "RefactoredPerfumeOntology.scent\n",
      "RefactoredPerfumeOntology.sillageVoteIsEnormous\n",
      "RefactoredPerfumeOntology.sillageVoteIsIntimate\n",
      "RefactoredPerfumeOntology.sillageVoteIsModerate\n",
      "RefactoredPerfumeOntology.sillageVoteIsStrong\n",
      "RefactoredPerfumeOntology.size\n",
      "RefactoredPerfumeOntology.url\n",
      "RefactoredPerfumeOntology.contains\n",
      "RefactoredPerfumeOntology.hasAccord\n",
      "RefactoredPerfumeOntology.hasScent\n",
      "RefactoredPerfumeOntology.hasBaseNote\n",
      "RefactoredPerfumeOntology.hasNote\n",
      "RefactoredPerfumeOntology.hasMiddleNote\n",
      "RefactoredPerfumeOntology.hasSimilarPrices\n",
      "RefactoredPerfumeOntology.hasSimilarScents\n",
      "RefactoredPerfumeOntology.hasTopNote\n",
      "RefactoredPerfumeOntology.isFromSmellGroup\n",
      "RefactoredPerfumeOntology.listedOn\n",
      "RefactoredPerfumeOntology.producedBy\n",
      "RefactoredPerfumeOntology.producedByCompany\n",
      "RefactoredPerfumeOntology.producedByPerson\n",
      "RefactoredPerfumeOntology.sameAs\n",
      "RefactoredPerfumeOntology.description\n"
     ]
    }
   ],
   "source": [
    "# get ontology properties\n",
    "for prop in onto.properties():\n",
    "    print(prop)"
   ]
  },
  {
   "cell_type": "code",
   "execution_count": 103,
   "metadata": {},
   "outputs": [
    {
     "data": {
      "text/plain": [
       "[RefactoredPerfumeOntology.Perfume]"
      ]
     },
     "execution_count": 103,
     "metadata": {},
     "output_type": "execute_result"
    }
   ],
   "source": [
    "onto.comments.domain"
   ]
  },
  {
   "cell_type": "code",
   "execution_count": 24,
   "metadata": {},
   "outputs": [],
   "source": [
    "onto.save(file=\"ontology/RefactoredPerfumeOntology_test02.rdf\", format=\"rdfxml\")"
   ]
  }
 ],
 "metadata": {
  "kernelspec": {
   "display_name": "PerfumeApp",
   "language": "python",
   "name": "python3"
  },
  "language_info": {
   "codemirror_mode": {
    "name": "ipython",
    "version": 3
   },
   "file_extension": ".py",
   "mimetype": "text/x-python",
   "name": "python",
   "nbconvert_exporter": "python",
   "pygments_lexer": "ipython3",
   "version": "3.11.10"
  }
 },
 "nbformat": 4,
 "nbformat_minor": 2
}
