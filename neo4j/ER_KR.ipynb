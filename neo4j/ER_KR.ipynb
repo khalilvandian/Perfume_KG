{
 "cells": [
  {
   "cell_type": "markdown",
   "metadata": {
    "id": "z2Q5FfqkJ3xN",
    "pycharm": {
     "name": "#%% md\n"
    }
   },
   "source": [
    "## Intra-Perfume Entity Linking"
   ]
  },
  {
   "cell_type": "code",
   "execution_count": 112,
   "metadata": {
    "id": "fTlKyPqCJ3xO",
    "outputId": "f8d02d9d-601c-4c75-e48e-842d5dba3de7",
    "pycharm": {
     "name": "#%%\n"
    }
   },
   "outputs": [],
   "source": [
    "# !pip install rltk"
   ]
  },
  {
   "cell_type": "markdown",
   "metadata": {
    "id": "K8fyiwzJJ3xP",
    "pycharm": {
     "name": "#%% md\n"
    }
   },
   "source": [
    "### Construct RLTK Datasets"
   ]
  },
  {
   "cell_type": "code",
   "execution_count": 113,
   "metadata": {
    "id": "We7cQGTRJ3xP",
    "pycharm": {
     "name": "#%%\n"
    }
   },
   "outputs": [],
   "source": [
    "import rltk\n",
    "import csv\n",
    "\n",
    "# You can use this tokenizer in case you need to manipulate some data\n",
    "tokenizer = rltk.tokenizer.crf_tokenizer.crf_tokenizer.CrfTokenizer()"
   ]
  },
  {
   "cell_type": "code",
   "execution_count": 114,
   "metadata": {
    "id": "T3Q_rPqmJ3xP",
    "pycharm": {
     "name": "#%%\n"
    }
   },
   "outputs": [],
   "source": [
    "'''\n",
    "Feel free to add more columns here for use in record linkage.\n",
    "'''\n",
    "\n",
    "class Perfume(rltk.Record):\n",
    "    def __init__(self, raw_object):\n",
    "        super().__init__(raw_object)\n",
    "#         self.name = ''\n",
    "\n",
    "    @rltk.cached_property\n",
    "    def id(self):\n",
    "        return self.raw_object['_id']\n",
    "    \n",
    "    @rltk.cached_property\n",
    "    def node_id(self):\n",
    "        return self.raw_object['node_id']\n",
    "\n",
    "    @rltk.cached_property\n",
    "    def name(self):\n",
    "        return self.raw_object['name']\n",
    "\n",
    "    @rltk.cached_property\n",
    "    def brand(self):\n",
    "        return self.raw_object['brand']\n",
    "    \n",
    "    @rltk.cached_property\n",
    "    def url(self):\n",
    "        return self.raw_object['url']\n",
    "    \n",
    "    @rltk.cached_property\n",
    "    def price(self):\n",
    "        return (self.raw_object['price'])\n",
    "    \n",
    "    @rltk.cached_property\n",
    "    def scent(self):\n",
    "        return self.raw_object['scent']\n"
   ]
  },
  {
   "cell_type": "code",
   "execution_count": 115,
   "metadata": {
    "id": "cZ2VHWnwJ3xQ",
    "pycharm": {
     "name": "#%%\n"
    }
   },
   "outputs": [],
   "source": [
    "dir_ = '../data/entity_linking/'\n",
    "file1 = dir_ + 'allNodes.csv'\n",
    "file2 = dir_ + 'allNodes.csv'\n",
    "\n",
    "ds1 = rltk.Dataset(rltk.CSVReader(open(file1, encoding='utf-8')),record_class=Perfume)\n",
    "ds2 = rltk.Dataset(rltk.CSVReader(open(file2, encoding ='utf-8')),record_class=Perfume)"
   ]
  },
  {
   "cell_type": "code",
   "execution_count": 116,
   "metadata": {
    "id": "5CUrpjGTJ3xQ",
    "outputId": "498d3b0e-a742-4740-8751-3a348661e5d0",
    "pycharm": {
     "name": "#%%\n"
    }
   },
   "outputs": [
    {
     "name": "stdout",
     "output_type": "stream",
     "text": [
      "  id node_id                   name   brand  \\\n",
      "0  0      n1                   No.5  chanel   \n",
      "1  1      n2          Chance Chanel  chanel   \n",
      "2  2      n3            CHANEL No 5  chanel   \n",
      "3  3      n4            Chanel No 5  chanel   \n",
      "4  4      n5  Chanel Bleu De Chanel  chanel   \n",
      "\n",
      "                                                 url   price   scent  \n",
      "0  https://www.amazon.com//sspa/click?ie=UTF8&spc...      30   Apple  \n",
      "1  https://www.amazon.com//Chance-Chanel-Tendre-W...  148.98    NULL  \n",
      "2  https://www.amazon.com//CHANEL-No-Eau-Parfum-1...    19.9    NULL  \n",
      "3  https://www.amazon.com//Chanel-Parfum-Spray-Pe...  133.89   Fresh  \n",
      "4  https://www.amazon.com//Chanel-Toilette-Spray-...     108  Citrus  \n",
      "\n",
      "*********************************************\n",
      "\n",
      "  id node_id                   name   brand  \\\n",
      "0  0      n1                   No.5  chanel   \n",
      "1  1      n2          Chance Chanel  chanel   \n",
      "2  2      n3            CHANEL No 5  chanel   \n",
      "3  3      n4            Chanel No 5  chanel   \n",
      "4  4      n5  Chanel Bleu De Chanel  chanel   \n",
      "\n",
      "                                                 url   price   scent  \n",
      "0  https://www.amazon.com//sspa/click?ie=UTF8&spc...      30   Apple  \n",
      "1  https://www.amazon.com//Chance-Chanel-Tendre-W...  148.98    NULL  \n",
      "2  https://www.amazon.com//CHANEL-No-Eau-Parfum-1...    19.9    NULL  \n",
      "3  https://www.amazon.com//Chanel-Parfum-Spray-Pe...  133.89   Fresh  \n",
      "4  https://www.amazon.com//Chanel-Toilette-Spray-...     108  Citrus  \n"
     ]
    }
   ],
   "source": [
    "# print some entries\n",
    "print(ds1.generate_dataframe().head(5))\n",
    "print('\\n*********************************************\\n')\n",
    "print(ds2.generate_dataframe().head(5))"
   ]
  },
  {
   "cell_type": "markdown",
   "metadata": {
    "id": "OCpi3AqZJ3xR",
    "pycharm": {
     "name": "#%% md\n"
    }
   },
   "source": [
    "### sameAs - Entity Linking"
   ]
  },
  {
   "cell_type": "code",
   "execution_count": 117,
   "metadata": {
    "id": "oQ3jFoFSJ3xS",
    "pycharm": {
     "name": "#%%\n"
    }
   },
   "outputs": [],
   "source": [
    "def name_string_similarity_1(r1, r2):\n",
    "    ''' Example dummy similiary function '''\n",
    "    s1 = r1.name\n",
    "    s2 = r2.name\n",
    "    \n",
    "    return rltk.jaro_winkler_similarity(s1, s2)\n",
    "    \n",
    "def name_string_similarity_2(r1, r2):\n",
    "    ''' Example dummy similiary function '''\n",
    "    s1 = r1.name\n",
    "    s2 = r2.name\n",
    "    \n",
    "    if s1 == s2:\n",
    "        return 1\n",
    "    \n",
    "    return 0"
   ]
  },
  {
   "cell_type": "code",
   "execution_count": 118,
   "metadata": {
    "id": "fGf52bBcJ3xS",
    "pycharm": {
     "name": "#%%\n"
    }
   },
   "outputs": [],
   "source": [
    "# threshold value to determine if we are confident the record match\n",
    "MY_TRESH = 0.6 # this number is just an example, you need to change it\n",
    "\n",
    "# entity linkage scoring function\n",
    "def rule_based_method(r1, r2):\n",
    "    score_1 = name_string_similarity_1(r1, r2)\n",
    "    score_2 = name_string_similarity_2(r1, r2)\n",
    "    \n",
    "    total = 0.7 * score_1 + 0.3 * score_2\n",
    "    \n",
    "    # return two values: boolean if they match or not, float to determine confidence\n",
    "    return total > MY_TRESH, total"
   ]
  },
  {
   "cell_type": "markdown",
   "metadata": {
    "id": "32c-kCWqJ3xT",
    "pycharm": {
     "name": "#%% md\n"
    }
   },
   "source": [
    "##### Save predictions"
   ]
  },
  {
   "cell_type": "code",
   "execution_count": 119,
   "metadata": {
    "id": "UfC2TKISJ3xT",
    "pycharm": {
     "name": "#%%\n"
    }
   },
   "outputs": [],
   "source": [
    "predictions = []\n",
    "true_predictions = []\n",
    "\n",
    "\n",
    "candidate_pairs = rltk.get_record_pairs(ds1, ds2)\n",
    "for r1, r2 in candidate_pairs:\n",
    "    if r1.brand == r2.brand and r1.node_id != r2.node_id:\n",
    "        result, confidence = rule_based_method(r1, r2)\n",
    "#         print(result, confidence)\n",
    "        predictions.append([r1.node_id, r1.name, r1.url, r2.node_id, r2.name, r2.url, result, confidence])\n",
    "        if result is True:\n",
    "            true_predictions.append([r1.node_id, r1.name, r1.url, r2.node_id, r2.name, r2.url, result, confidence])\n"
   ]
  },
  {
   "cell_type": "code",
   "execution_count": 120,
   "metadata": {
    "id": "4UCWB2Q6J3xT",
    "outputId": "5a2d2a1d-3c4a-4d87-da59-89cc94ee6f8b",
    "pycharm": {
     "name": "#%%\n"
    }
   },
   "outputs": [
    {
     "data": {
      "text/plain": [
       "(567036, 2739, 2739)"
      ]
     },
     "execution_count": 120,
     "metadata": {},
     "output_type": "execute_result"
    }
   ],
   "source": [
    "len(predictions), len(ds1.generate_dataframe()), len(ds2.generate_dataframe())"
   ]
  },
  {
   "cell_type": "code",
   "execution_count": 121,
   "metadata": {
    "id": "dvnuzp4OJ3xU",
    "pycharm": {
     "name": "#%%\n"
    }
   },
   "outputs": [],
   "source": [
    "import pandas as pd\n",
    "import numpy as np\n",
    "\n",
    "predictions_df = pd.DataFrame(data=np.array(predictions), columns=['node_id1', 'name1', 'url1',\\\n",
    "                                                                   'node_id2', 'name2', 'url2',\\\n",
    "                                                                   'result', 'confidence'])\n"
   ]
  },
  {
   "cell_type": "code",
   "execution_count": 122,
   "metadata": {},
   "outputs": [],
   "source": [
    "predictions_df.to_csv(dir_ + 'sameAs_predictions.csv')"
   ]
  },
  {
   "cell_type": "code",
   "execution_count": 123,
   "metadata": {},
   "outputs": [],
   "source": [
    "true_predictions_df = pd.DataFrame(data=np.array(true_predictions), columns=['node_id1', 'name1', 'url1',\\\n",
    "                                                                   'node_id2', 'name2', 'url2',\\\n",
    "                                                                   'result', 'confidence'])"
   ]
  },
  {
   "cell_type": "code",
   "execution_count": 124,
   "metadata": {},
   "outputs": [],
   "source": [
    "# true_predictions_df"
   ]
  },
  {
   "cell_type": "code",
   "execution_count": 125,
   "metadata": {},
   "outputs": [],
   "source": [
    "true_predictions_df.to_csv(dir_ + 'sameAs_TRUE_predictions.csv')"
   ]
  },
  {
   "cell_type": "markdown",
   "metadata": {},
   "source": [
    "### haveSimilarPrices Entity Linking"
   ]
  },
  {
   "cell_type": "code",
   "execution_count": 72,
   "metadata": {},
   "outputs": [],
   "source": [
    "true_predictions_sp = []\n",
    "\n",
    "candidate_pairs = rltk.get_record_pairs(ds1, ds2)\n",
    "for r1, r2 in candidate_pairs:\n",
    "    if (r2.price.isdigit() and r1.price.isdigit()) and \\\n",
    "    (float(r2.price) >= float(r1.price)-5 and float(r2.price) <= float(r1.price)+5)\\\n",
    "    and r1.node_id != r2.node_id:\n",
    "        true_predictions_sp.append([r1.node_id, r1.name, r1.price, r2.node_id, r2.name, r2.price])\n"
   ]
  },
  {
   "cell_type": "code",
   "execution_count": 74,
   "metadata": {},
   "outputs": [],
   "source": [
    "true_predictions_sp_df = pd.DataFrame(data=np.array(true_predictions_sp), columns=['node_id1', 'name1', 'price1',\\\n",
    "                                                                   'node_id2', 'name2', 'price2'])"
   ]
  },
  {
   "cell_type": "code",
   "execution_count": 75,
   "metadata": {},
   "outputs": [],
   "source": [
    "true_predictions_sp_df.to_csv(dir_ + 'haveSimilarPrices_TRUE_predictions.csv')"
   ]
  },
  {
   "cell_type": "markdown",
   "metadata": {},
   "source": [
    "### haveSimilarScents Entity Linking"
   ]
  },
  {
   "cell_type": "code",
   "execution_count": 76,
   "metadata": {},
   "outputs": [
    {
     "name": "stdout",
     "output_type": "stream",
     "text": [
      "Collecting sentence-transformers\n",
      "  Using cached sentence_transformers-2.2.2-py3-none-any.whl\n",
      "Collecting torchvision\n",
      "  Downloading torchvision-0.14.0-cp39-cp39-win_amd64.whl (1.1 MB)\n",
      "     ---------------------------------------- 1.1/1.1 MB 8.7 MB/s eta 0:00:00\n",
      "Requirement already satisfied: scipy in d:\\anaconda\\lib\\site-packages (from sentence-transformers) (1.9.1)\n",
      "Collecting transformers<5.0.0,>=4.6.0\n",
      "  Downloading transformers-4.24.0-py3-none-any.whl (5.5 MB)\n",
      "     ---------------------------------------- 5.5/5.5 MB 29.1 MB/s eta 0:00:00\n",
      "Collecting torch>=1.6.0\n",
      "  Downloading torch-1.13.0-cp39-cp39-win_amd64.whl (167.2 MB)\n",
      "     ------------------------------------- 167.2/167.2 MB 10.1 MB/s eta 0:00:00\n",
      "Requirement already satisfied: nltk in d:\\anaconda\\lib\\site-packages (from sentence-transformers) (3.7)\n",
      "Collecting sentencepiece\n",
      "  Using cached sentencepiece-0.1.97-cp39-cp39-win_amd64.whl (1.1 MB)\n",
      "Requirement already satisfied: tqdm in d:\\anaconda\\lib\\site-packages (from sentence-transformers) (4.64.1)\n",
      "Requirement already satisfied: numpy in d:\\anaconda\\lib\\site-packages (from sentence-transformers) (1.21.5)\n",
      "Requirement already satisfied: scikit-learn in d:\\anaconda\\lib\\site-packages (from sentence-transformers) (1.0.2)\n",
      "Collecting huggingface-hub>=0.4.0\n",
      "  Downloading huggingface_hub-0.11.0-py3-none-any.whl (182 kB)\n",
      "     ------------------------------------- 182.1/182.1 kB 10.7 MB/s eta 0:00:00\n",
      "Requirement already satisfied: pyyaml>=5.1 in d:\\anaconda\\lib\\site-packages (from huggingface-hub>=0.4.0->sentence-transformers) (6.0)\n",
      "Requirement already satisfied: typing-extensions>=3.7.4.3 in d:\\anaconda\\lib\\site-packages (from huggingface-hub>=0.4.0->sentence-transformers) (4.3.0)\n",
      "Requirement already satisfied: filelock in d:\\anaconda\\lib\\site-packages (from huggingface-hub>=0.4.0->sentence-transformers) (3.6.0)\n",
      "Requirement already satisfied: requests in d:\\anaconda\\lib\\site-packages (from huggingface-hub>=0.4.0->sentence-transformers) (2.28.1)\n",
      "Requirement already satisfied: packaging>=20.9 in d:\\anaconda\\lib\\site-packages (from huggingface-hub>=0.4.0->sentence-transformers) (21.3)\n",
      "Collecting tokenizers!=0.11.3,<0.14,>=0.11.1\n",
      "  Downloading tokenizers-0.13.2-cp39-cp39-win_amd64.whl (3.3 MB)\n",
      "     ---------------------------------------- 3.3/3.3 MB 26.3 MB/s eta 0:00:00\n",
      "Requirement already satisfied: regex!=2019.12.17 in d:\\anaconda\\lib\\site-packages (from transformers<5.0.0,>=4.6.0->sentence-transformers) (2022.7.9)\n",
      "Requirement already satisfied: colorama in d:\\anaconda\\lib\\site-packages (from tqdm->sentence-transformers) (0.4.5)\n",
      "Requirement already satisfied: joblib in d:\\anaconda\\lib\\site-packages (from nltk->sentence-transformers) (1.1.0)\n",
      "Requirement already satisfied: click in d:\\anaconda\\lib\\site-packages (from nltk->sentence-transformers) (8.0.4)\n",
      "Requirement already satisfied: threadpoolctl>=2.0.0 in d:\\anaconda\\lib\\site-packages (from scikit-learn->sentence-transformers) (2.2.0)\n",
      "Requirement already satisfied: pillow!=8.3.*,>=5.3.0 in d:\\anaconda\\lib\\site-packages (from torchvision->sentence-transformers) (9.2.0)\n",
      "Requirement already satisfied: pyparsing!=3.0.5,>=2.0.2 in d:\\anaconda\\lib\\site-packages (from packaging>=20.9->huggingface-hub>=0.4.0->sentence-transformers) (3.0.9)\n",
      "Requirement already satisfied: idna<4,>=2.5 in d:\\anaconda\\lib\\site-packages (from requests->huggingface-hub>=0.4.0->sentence-transformers) (3.3)\n",
      "Requirement already satisfied: certifi>=2017.4.17 in d:\\anaconda\\lib\\site-packages (from requests->huggingface-hub>=0.4.0->sentence-transformers) (2022.9.14)\n",
      "Requirement already satisfied: urllib3<1.27,>=1.21.1 in d:\\anaconda\\lib\\site-packages (from requests->huggingface-hub>=0.4.0->sentence-transformers) (1.26.11)\n",
      "Requirement already satisfied: charset-normalizer<3,>=2 in d:\\anaconda\\lib\\site-packages (from requests->huggingface-hub>=0.4.0->sentence-transformers) (2.0.4)\n",
      "Installing collected packages: tokenizers, sentencepiece, torch, torchvision, huggingface-hub, transformers, sentence-transformers\n",
      "Successfully installed huggingface-hub-0.11.0 sentence-transformers-2.2.2 sentencepiece-0.1.97 tokenizers-0.13.2 torch-1.13.0 torchvision-0.14.0 transformers-4.24.0\n"
     ]
    }
   ],
   "source": [
    "!pip install -U sentence-transformers"
   ]
  },
  {
   "cell_type": "code",
   "execution_count": 100,
   "metadata": {},
   "outputs": [
    {
     "data": {
      "text/html": [
       "<div>\n",
       "<style scoped>\n",
       "    .dataframe tbody tr th:only-of-type {\n",
       "        vertical-align: middle;\n",
       "    }\n",
       "\n",
       "    .dataframe tbody tr th {\n",
       "        vertical-align: top;\n",
       "    }\n",
       "\n",
       "    .dataframe thead th {\n",
       "        text-align: right;\n",
       "    }\n",
       "</style>\n",
       "<table border=\"1\" class=\"dataframe\">\n",
       "  <thead>\n",
       "    <tr style=\"text-align: right;\">\n",
       "      <th></th>\n",
       "      <th>id</th>\n",
       "      <th>node_id</th>\n",
       "      <th>name</th>\n",
       "      <th>brand</th>\n",
       "      <th>url</th>\n",
       "      <th>price</th>\n",
       "      <th>scent</th>\n",
       "    </tr>\n",
       "  </thead>\n",
       "  <tbody>\n",
       "    <tr>\n",
       "      <th>0</th>\n",
       "      <td>0</td>\n",
       "      <td>n1</td>\n",
       "      <td>No.5</td>\n",
       "      <td>chanel</td>\n",
       "      <td>https://www.amazon.com//sspa/click?ie=UTF8&amp;spc...</td>\n",
       "      <td>30</td>\n",
       "      <td>Apple</td>\n",
       "    </tr>\n",
       "    <tr>\n",
       "      <th>3</th>\n",
       "      <td>3</td>\n",
       "      <td>n4</td>\n",
       "      <td>Chanel No 5</td>\n",
       "      <td>chanel</td>\n",
       "      <td>https://www.amazon.com//Chanel-Parfum-Spray-Pe...</td>\n",
       "      <td>133.89</td>\n",
       "      <td>Fresh</td>\n",
       "    </tr>\n",
       "    <tr>\n",
       "      <th>4</th>\n",
       "      <td>4</td>\n",
       "      <td>n5</td>\n",
       "      <td>Chanel Bleu De Chanel</td>\n",
       "      <td>chanel</td>\n",
       "      <td>https://www.amazon.com//Chanel-Toilette-Spray-...</td>\n",
       "      <td>108</td>\n",
       "      <td>Citrus</td>\n",
       "    </tr>\n",
       "    <tr>\n",
       "      <th>6</th>\n",
       "      <td>6</td>\n",
       "      <td>n7</td>\n",
       "      <td>Chance</td>\n",
       "      <td>chanel</td>\n",
       "      <td>https://www.amazon.com//Chance-Toilette-Spray-...</td>\n",
       "      <td>115</td>\n",
       "      <td>Floral</td>\n",
       "    </tr>\n",
       "    <tr>\n",
       "      <th>7</th>\n",
       "      <td>7</td>\n",
       "      <td>n8</td>\n",
       "      <td>CHANEL Chance</td>\n",
       "      <td>chanel</td>\n",
       "      <td>https://www.amazon.com//Chanel-Chance-Eau-Parf...</td>\n",
       "      <td>149.99</td>\n",
       "      <td>Citrus</td>\n",
       "    </tr>\n",
       "    <tr>\n",
       "      <th>...</th>\n",
       "      <td>...</td>\n",
       "      <td>...</td>\n",
       "      <td>...</td>\n",
       "      <td>...</td>\n",
       "      <td>...</td>\n",
       "      <td>...</td>\n",
       "      <td>...</td>\n",
       "    </tr>\n",
       "    <tr>\n",
       "      <th>1986</th>\n",
       "      <td>1985</td>\n",
       "      <td>n1986</td>\n",
       "      <td>Guilty Pour Homme Parfum</td>\n",
       "      <td>gucci</td>\n",
       "      <td>https://www.sephora.com/product/gucci-guilty-p...</td>\n",
       "      <td>163</td>\n",
       "      <td>Woody Spices</td>\n",
       "    </tr>\n",
       "    <tr>\n",
       "      <th>1987</th>\n",
       "      <td>1986</td>\n",
       "      <td>n1987</td>\n",
       "      <td>Gucci Bloom Ambrosia di Fiori</td>\n",
       "      <td>gucci</td>\n",
       "      <td>https://www.sephora.com/product/gucci-gucci-bl...</td>\n",
       "      <td>35</td>\n",
       "      <td>Classic Florals</td>\n",
       "    </tr>\n",
       "    <tr>\n",
       "      <th>1988</th>\n",
       "      <td>1987</td>\n",
       "      <td>n1988</td>\n",
       "      <td>Guilty Pour Femme</td>\n",
       "      <td>gucci</td>\n",
       "      <td>https://www.sephora.com/product/guilty-P273900...</td>\n",
       "      <td>97</td>\n",
       "      <td>Warm Florals</td>\n",
       "    </tr>\n",
       "    <tr>\n",
       "      <th>1989</th>\n",
       "      <td>1988</td>\n",
       "      <td>n1989</td>\n",
       "      <td>Bloom</td>\n",
       "      <td>gucci</td>\n",
       "      <td>https://www.sephora.com/product/bloom-eau-de-p...</td>\n",
       "      <td>35</td>\n",
       "      <td>Classic Floral</td>\n",
       "    </tr>\n",
       "    <tr>\n",
       "      <th>1990</th>\n",
       "      <td>1989</td>\n",
       "      <td>n1990</td>\n",
       "      <td>Bloom Profumo di Fiori</td>\n",
       "      <td>gucci</td>\n",
       "      <td>https://www.sephora.com/product/gucci-bloom-pr...</td>\n",
       "      <td>35</td>\n",
       "      <td>Classic Floral</td>\n",
       "    </tr>\n",
       "  </tbody>\n",
       "</table>\n",
       "<p>1300 rows × 7 columns</p>\n",
       "</div>"
      ],
      "text/plain": [
       "        id node_id                           name   brand  \\\n",
       "0        0      n1                           No.5  chanel   \n",
       "3        3      n4                    Chanel No 5  chanel   \n",
       "4        4      n5          Chanel Bleu De Chanel  chanel   \n",
       "6        6      n7                         Chance  chanel   \n",
       "7        7      n8                  CHANEL Chance  chanel   \n",
       "...    ...     ...                            ...     ...   \n",
       "1986  1985   n1986       Guilty Pour Homme Parfum   gucci   \n",
       "1987  1986   n1987  Gucci Bloom Ambrosia di Fiori   gucci   \n",
       "1988  1987   n1988              Guilty Pour Femme   gucci   \n",
       "1989  1988   n1989                          Bloom   gucci   \n",
       "1990  1989   n1990         Bloom Profumo di Fiori   gucci   \n",
       "\n",
       "                                                    url   price  \\\n",
       "0     https://www.amazon.com//sspa/click?ie=UTF8&spc...      30   \n",
       "3     https://www.amazon.com//Chanel-Parfum-Spray-Pe...  133.89   \n",
       "4     https://www.amazon.com//Chanel-Toilette-Spray-...     108   \n",
       "6     https://www.amazon.com//Chance-Toilette-Spray-...     115   \n",
       "7     https://www.amazon.com//Chanel-Chance-Eau-Parf...  149.99   \n",
       "...                                                 ...     ...   \n",
       "1986  https://www.sephora.com/product/gucci-guilty-p...     163   \n",
       "1987  https://www.sephora.com/product/gucci-gucci-bl...      35   \n",
       "1988  https://www.sephora.com/product/guilty-P273900...      97   \n",
       "1989  https://www.sephora.com/product/bloom-eau-de-p...      35   \n",
       "1990  https://www.sephora.com/product/gucci-bloom-pr...      35   \n",
       "\n",
       "                scent  \n",
       "0               Apple  \n",
       "3               Fresh  \n",
       "4              Citrus  \n",
       "6              Floral  \n",
       "7              Citrus  \n",
       "...               ...  \n",
       "1986     Woody Spices  \n",
       "1987  Classic Florals  \n",
       "1988     Warm Florals  \n",
       "1989   Classic Floral  \n",
       "1990   Classic Floral  \n",
       "\n",
       "[1300 rows x 7 columns]"
      ]
     },
     "execution_count": 100,
     "metadata": {},
     "output_type": "execute_result"
    }
   ],
   "source": [
    "allNodes_df = ds1.generate_dataframe()\n",
    "allNodes_df = allNodes_df.loc[allNodes_df['scent']!='NULL']\n",
    "allNodes_df = allNodes_df.loc[allNodes_df['scent']!='None']\n",
    "allNodes_df"
   ]
  },
  {
   "cell_type": "code",
   "execution_count": 101,
   "metadata": {},
   "outputs": [],
   "source": [
    "scents = list(allNodes_df['scent'])\n",
    "node_ids = list(allNodes_df['node_id'])"
   ]
  },
  {
   "cell_type": "code",
   "execution_count": 102,
   "metadata": {},
   "outputs": [],
   "source": [
    "from sentence_transformers import SentenceTransformer\n",
    "model = SentenceTransformer('all-MiniLM-L6-v2')\n",
    "\n",
    "#Our sentences we like to encode\n",
    "sentences = scents\n",
    "\n",
    "#Sentences are encoded by calling model.encode()\n",
    "embeddings = model.encode(sentences)"
   ]
  },
  {
   "cell_type": "code",
   "execution_count": 103,
   "metadata": {},
   "outputs": [
    {
     "data": {
      "text/plain": [
       "(1300, 384)"
      ]
     },
     "execution_count": 103,
     "metadata": {},
     "output_type": "execute_result"
    }
   ],
   "source": [
    "embeddings.shape"
   ]
  },
  {
   "cell_type": "code",
   "execution_count": 88,
   "metadata": {},
   "outputs": [],
   "source": [
    "from sklearn.decomposition import PCA\n",
    "from sklearn.cluster import KMeans\n",
    "from sentence_transformers import SentenceTransformer, LoggingHandler, util, evaluation, models, InputExample\n",
    "import logging\n",
    "import os\n",
    "import gzip\n",
    "import csv\n",
    "import random\n",
    "import numpy as np\n",
    "import torch"
   ]
  },
  {
   "cell_type": "code",
   "execution_count": 107,
   "metadata": {},
   "outputs": [
    {
     "name": "stdout",
     "output_type": "stream",
     "text": [
      "Cluster  1\n",
      "[('n190', 'Fruity and floral accords'), ('n200', 'Fruity Floral'), ('n216', 'Fruity, Floral, Fresh'), ('n264', 'Fruity, Floral'), ('n324', 'Fruity, Floral'), ('n527', 'Floral Fruity Gourmand'), ('n587', 'Floral Fruity Gourmand'), ('n650', 'Fruity, Floral'), ('n766', 'Fruity floral'), ('n826', 'Fruity floral'), ('n870', 'Floral fruity'), ('n909', 'Floral,Pineapple'), ('n944', 'Floral Fruity'), ('n959', 'Floral Fruity'), ('n969', 'Floral,Pineapple'), ('n1004', 'Floral Fruity'), ('n1019', 'Floral Fruity'), ('n1036', 'Fruity, Floral, Fresh'), ('n1049', 'Green Floral Fruity'), ('n1221', 'Fruity and floral.'), ('n1228', 'Fruity Floral Oriental'), ('n1239', 'Fruity Floral Oriental'), ('n1320', 'Fruity Floral'), ('n1380', 'Fruity Floral'), ('n1425', 'Fruity Floral'), ('n1530', 'Fresh Fruity Florals'), ('n1533', 'Fruity Floral'), ('n1540', 'Fresh Fruity Florals'), ('n1545', 'Fruity Florals'), ('n1552', 'Fresh Fruity Florals'), ('n1574', 'Fresh Fruity Florals'), ('n1668', 'Fruity Florals'), ('n1697', 'Fruity Florals'), ('n1822', 'Fruity Florals'), ('n1846', 'Fruity Floral'), ('n1847', 'Fruity Floral'), ('n1848', 'Fruity Floral'), ('n1853', 'Fruity Floral'), ('n1854', 'Fruity Florals'), ('n1856', 'Fruity Floral'), ('n1858', 'Fruity Floral'), ('n1860', 'Fruity Floral'), ('n1861', 'Fruity Floral'), ('n1863', 'Fruity Floral'), ('n1870', 'Fruity Floral'), ('n1877', 'Fruity Floral'), ('n1890', 'Fruity Florals'), ('n1895', 'Fruity Florals'), ('n1902', 'Fruity Florals'), ('n1929', 'Fruity Florals'), ('n1943', 'Fruity Floral'), ('n1953', 'Fruity Floral'), ('n1959', 'Fruity Floral')]\n",
      "\n",
      "Cluster  2\n",
      "[('n22', 'Orange,Vanilla'), ('n82', 'Orange,Vanilla'), ('n230', 'Orange,Vanilla,Fresh'), ('n236', 'Vanilla'), ('n249', 'Vanilla'), ('n309', 'Vanilla'), ('n382', 'Vanilla,Fresh'), ('n387', 'Vanilla'), ('n428', 'Vanilla'), ('n432', 'Vanilla'), ('n441', 'Vanilla,Almond'), ('n448', 'Vanilla'), ('n461', 'Oriental Vanilla'), ('n488', 'Vanilla'), ('n493', 'Vanilla,Fresh'), ('n498', 'Vanilla, Caramel'), ('n508', 'Vanilla'), ('n535', 'Vanilla'), ('n548', 'Vanilla'), ('n553', 'Vanilla,Fresh'), ('n558', 'Vanilla, Caramel'), ('n568', 'Vanilla'), ('n595', 'Vanilla'), ('n612', 'Vanilla'), ('n626', 'Vanilla'), ('n627', 'Vanilla'), ('n660', 'Vanilla'), ('n716', 'Vanilla'), ('n752', 'Vanilla'), ('n764', 'Vanilla'), ('n812', 'Vanilla'), ('n824', 'Vanilla'), ('n841', 'Vanilla'), ('n854', 'Vanilla,Almond'), ('n876', 'Vanilla'), ('n895', 'Orange,Vanilla'), ('n952', 'Vanilla'), ('n1012', 'Vanilla'), ('n1081', 'Vanilla'), ('n1103', 'Vanilla'), ('n1140', 'Vanilla'), ('n1162', 'Vanilla'), ('n1262', 'Vanilla,Apricot,Mint'), ('n1268', 'Vanilla')]\n",
      "\n",
      "Cluster  3\n",
      "[('n1531', 'Warm Floral'), ('n1539', 'Warm Floral'), ('n1541', 'Warm Florals'), ('n1546', 'Warm Floral'), ('n1547', 'Warm Floral'), ('n1549', 'Warm Florals'), ('n1551', 'Warm Floral'), ('n1556', 'Warm Floral'), ('n1557', 'Warm Floral'), ('n1559', 'Warm Floral'), ('n1564', 'Warm Floral'), ('n1565', 'Warm Floral'), ('n1594', 'Warm Florals'), ('n1607', 'Warm Florals'), ('n1615', 'Warm Florals'), ('n1619', 'Warm Florals'), ('n1632', 'Warm Florals'), ('n1633', 'Warm Florals'), ('n1637', 'Warm Florals'), ('n1664', 'Warm Florals'), ('n1666', 'Warm Florals'), ('n1675', 'Warm Floral'), ('n1677', 'Warm Florals'), ('n1679', 'Warm Florals'), ('n1680', 'Warm Florals'), ('n1682', 'Warm Florals'), ('n1688', 'Warm Florals'), ('n1692', 'Warm Florals'), ('n1695', 'Warm Florals'), ('n1696', 'Warm Florals'), ('n1700', 'Warm Floral'), ('n1711', 'Warm Florals'), ('n1849', 'Warm Florals'), ('n1855', 'Warm Floral'), ('n1857', 'Warm Florals'), ('n1898', 'Warm Floral'), ('n1916', 'Warm Florals'), ('n1926', 'Warm Florals'), ('n1967', 'Warm Florals'), ('n1973', 'Warm Florals'), ('n1974', 'Warm Floral'), ('n1978', 'Warm Floral'), ('n1979', 'Warm Floral'), ('n1985', 'Warm Florals'), ('n1988', 'Warm Florals')]\n",
      "\n",
      "Cluster  4\n",
      "[('n140', 'Spicy, Cardamom, Vetiver, Lemon'), ('n196', 'Mixing citrus, spicy and woody accords'), ('n261', 'Spicy'), ('n268', 'Spicy'), ('n321', 'Spicy'), ('n328', 'Spicy'), ('n464', 'Cinnamon'), ('n602', 'Green Tea'), ('n610', 'Spicy'), ('n623', 'Mint'), ('n708', 'Amber Spicy, Oriental'), ('n770', 'Mint'), ('n774', 'Woody and aromatic'), ('n830', 'Mint'), ('n834', 'Woody and aromatic'), ('n871', 'Woody Spicy'), ('n900', 'Spicy'), ('n958', 'Aromatic Fresh'), ('n1018', 'Aromatic Fresh'), ('n1056', 'Aromatic'), ('n1082', 'Tobacco Private Blend'), ('n1100', 'Spicy'), ('n1105', 'Aromatic'), ('n1115', 'Aromatic'), ('n1143', 'Tobacco Private Blend'), ('n1159', 'Spicy'), ('n1164', 'Aromatic'), ('n1207', 'Aromatic Aquatic'), ('n1216', 'Sweet Tobacco'), ('n1226', 'Tamarind, Cardamom and Bamboo Stem'), ('n1242', 'Tamarind, Cardamom and Bamboo Stem'), ('n1258', 'Amber Spicy'), ('n1283', 'Coriander'), ('n1317', 'Woody Spicy'), ('n1377', 'Woody Spicy'), ('n1449', 'Spicy'), ('n1567', 'Earthy Greens and Herbs'), ('n1573', 'Woody Spices'), ('n1691', 'Woody Spices'), ('I enjoyed this cream and continue to use it. After a month of use', ' as suggested. \\\\nI was surprised when I first used it. The combination of the ingredients from each separate tube being mixed together upon pumpking'), ('n1865', 'Woody Spices'), ('n1869', 'Woody Spices'), ('n1912', 'Cool Spices'), ('n1930', 'Cool Spices'), ('n1931', 'Woody Spices'), ('n1934', 'Cool Spices'), ('n1976', 'Woody Spices'), ('n1980', 'Woody Spices'), ('n1983', 'Woody  Spices'), ('n1984', 'Woody Spices'), ('n1986', 'Woody Spices')]\n",
      "\n",
      "Cluster  5\n",
      "[('n4', 'Fresh'), ('n12', 'Fresh'), ('n43', 'Orange,Fresh'), ('n44', 'Fresh'), ('n64', 'Fresh'), ('n72', 'Fresh'), ('n103', 'Orange,Fresh'), ('n104', 'Fresh'), ('n130', 'Fresh'), ('n171', 'Fresh'), ('n208', 'Fresh'), ('n256', 'Fresh'), ('n266', 'Fresh'), ('n267', 'Fresh'), ('n279', 'Fresh'), ('n282', 'Fresh'), ('n286', 'Fresh'), ('n293', 'Fresh, Rose'), ('n316', 'Fresh'), ('n326', 'Fresh'), ('n327', 'Fresh'), ('n339', 'Fresh'), ('n342', 'Fresh'), ('n346', 'Fresh'), ('n353', 'Fresh, Rose'), ('n365', 'Fresh'), ('n366', 'Fresh'), ('n398', 'Fresh'), ('n419', 'Fresh'), ('n429', 'Fresh'), ('n473', 'Fresh'), ('n500', 'Fresh'), ('n509', 'Raspberry,Fresh'), ('n523', 'Fresh'), ('n532', 'Fresh'), ('n560', 'Fresh'), ('n569', 'Raspberry,Fresh'), ('n583', 'Fresh'), ('n592', 'Fresh'), ('n625', 'Fresh'), ('n654', 'Fresh'), ('n709', 'Fresh'), ('n861', 'Fresh'), ('n893', 'Fresh'), ('n916', 'Fresh'), ('n917', 'Fresh'), ('n924', 'Fresh'), ('n926', 'Fresh'), ('n928', 'Fresh'), ('n960', 'Fresh'), ('n976', 'Fresh'), ('n977', 'Fresh'), ('n984', 'Fresh'), ('n986', 'Fresh'), ('n988', 'Fresh'), ('n1020', 'Fresh'), ('n1053', 'Fresh'), ('n1074', 'Fresh'), ('n1079', 'Fresh'), ('n1112', 'Fresh'), ('n1133', 'Fresh'), ('n1138', 'Fresh'), ('n1175', 'Fresh'), ('n1189', 'Fresh'), ('n1195', 'Fresh'), ('n1198', 'Fresh'), ('n1206', 'Fresh'), ('n1255', 'Fresh'), ('n1272', 'Fresh'), ('n1274', 'Fresh'), ('n1275', 'Fresh'), ('n1287', 'Fresh'), ('n1525', 'Fresh'), ('n1867', 'Fresh Aquatics'), ('n1885', 'Fresh Aquatics'), ('n1889', 'Fresh Aquatics'), ('n1903', 'Fresh Aquatics'), ('n1905', 'Fresh Aquatics'), ('n1907', 'Fresh Aquatics'), ('n1908', 'Fresh Aquatics'), ('n1918', 'Fresh Aquatics')]\n",
      "\n",
      "Cluster  6\n",
      "[('n777', 'Woody aquatic'), ('n837', 'Woody aquatic'), ('n1535', 'Warm Woods'), ('n1536', 'Warm Woods'), ('n1558', 'Warm Woods'), ('n1560', 'Warm Woods'), ('n1561', 'Warm Woods'), ('n1562', 'Warm Woods'), ('n1566', 'Warm Woods'), ('n1568', 'Classic Woods'), ('n1570', 'Warm Woods'), ('n1571', 'Warm Woods'), ('n1572', 'Warm Woods'), ('n1575', 'Warm Woods'), ('n1628', 'Warm Woods'), ('n1643', 'Warm Woods'), ('n1657', 'Warm Woods'), ('n1665', 'Warm Woods'), ('n1669', 'Warm Woods'), ('n1674', 'Warm Woods'), ('n1693', 'Warm Woods'), ('n1698', 'Warm Woods'), ('n1702', 'Warm Woods'), ('n1706', 'Warm Woods'), ('n1709', 'Warm Woods'), ('n1714', 'Warm Woods'), ('n1852', 'Warm Woods'), ('n1859', 'rm Woods'), ('n1862', 'Warm Woods')]\n",
      "\n",
      "Cluster  7\n",
      "[('n14', 'Musk, Vanilla, Floral, Patchouli'), ('n16', 'Rose'), ('n42', 'Floral,Orange,Vanilla,Lemon,Fresh'), ('n45', 'Floral,Rose'), ('n47', 'Floral,Vanilla,Rose'), ('n54', 'A clear and sensual heart reveals a transparent accord of jasmine and May rose.'), ('n57', 'Floral,Vanilla,Citrus'), ('n74', 'Musk, Vanilla, Floral, Patchouli'), ('n76', 'Rose'), ('n102', 'Floral,Orange,Vanilla,Lemon,Fresh'), ('n105', 'Floral,Rose'), ('n107', 'Floral,Vanilla,Rose'), ('n114', 'A clear and sensual heart reveals a transparent accord of jasmine and May rose.'), ('n117', 'Floral,Vanilla,Citrus'), ('n122', 'Musk, Vanilla, Floral, Patchouli'), ('n135', 'Floral,Orange,Fresh,Rose'), ('n141', 'Floral,Vanilla'), ('n161', 'Jasmine, Musk, Bergamot, Orange'), ('n186', 'Floral,Vanilla,Fresh'), ('n191', 'Floral,Vanilla,Fresh'), ('n194', 'Floral,Vanilla'), ('n210', 'Floral,Vanilla,Rose'), ('n211', 'Floral,Vanilla,Fresh'), ('n232', 'Floral,Orange,Vanilla,Lemon'), ('n233', 'Floral,Vanilla,Fresh'), ('n245', 'Rose'), ('n250', 'Violet, Jasmine, Musk, Rose, Mandarin, Patchouli'), ('n265', 'Floral,Vanilla,Orange'), ('n305', 'Rose'), ('n310', 'Violet, Jasmine, Musk, Rose, Mandarin, Patchouli'), ('n325', 'Floral,Vanilla,Orange'), ('n362', 'Musk, Vanilla, Floral, Patchouli'), ('n379', 'Floral,Cinnamon,Vanilla,Apricot'), ('n397', 'Floral,Rose,Citrus'), ('n501', 'Rose, blackcurrant and jasmines'), ('n531', 'Floral,Raspberry,Vanilla'), ('n533', 'Floral,Raspberry,Vanilla,Rose'), ('n561', 'Rose, blackcurrant and jasmines'), ('n591', 'Floral,Raspberry,Vanilla'), ('n593', 'Floral,Raspberry,Vanilla,Rose'), ('n601', 'Musk, Vanilla, Floral, Patchouli'), ('n605', 'Rose'), ('n611', 'Rose'), ('n622', 'Floral,Vanilla,Fresh,Citrus'), ('n624', 'Floral,Raspberry,Cedar,Vanilla,Rose'), ('n629', 'Rose'), ('n641', 'Spicy florals, with lower notes of amber and jasmine scent'), ('n647', 'Floral,Vanilla'), ('n655', 'Floral,Vanilla'), ('n673', 'Vanilla,Fresh,Rose,Citrus'), ('n719', 'Rose'), ('n720', 'Raspberry,Cedar,Vanilla,Rose'), ('n735', 'Floral,Vanilla,Lavender,Citrus'), ('n749', 'Floral,Vanilla,Fresh,Lavender,Rose'), ('n761', 'Floral,Lemon,Fresh,Rose'), ('n795', 'Floral,Vanilla,Lavender,Citrus'), ('n809', 'Floral,Vanilla,Fresh,Lavender,Rose'), ('n821', 'Floral,Lemon,Fresh,Rose'), ('n853', 'Floral,Rose'), ('n860', 'Rose'), ('n919', 'Floral,Cedar,Vanilla,Fresh,Mint,Lavender'), ('n933', 'Jasmine , Tuberose, Cassis, Bergamot, Black Cherry'), ('n950', 'Rose'), ('n979', 'Floral,Cedar,Vanilla,Fresh,Mint,Lavender'), ('n993', 'Jasmine , Tuberose, Cassis, Bergamot, Black Cherry'), ('n1010', 'Rose'), ('n1025', 'Musk, Vanilla, Floral, Patchouli'), ('n1041', 'Fruity, Vanilla, Floral'), ('n1050', 'Floral,Orange,Vanilla,Citrus'), ('n1067', 'Musk, Vanilla, Floral, Patchouli'), ('n1101', 'Rose'), ('n1109', 'Floral,Orange,Vanilla,Citrus'), ('n1126', 'Musk, Vanilla, Floral, Patchouli'), ('n1160', 'Rose'), ('n1173', 'Floral,Vanilla'), ('n1196', 'Floral,Vanilla'), ('n1222', 'Floral,Vanilla,Orange'), ('n1231', 'Floral,Rose'), ('n1245', 'Floral,Orange,Vanilla'), ('n1277', 'Rose'), ('n1339', 'Aquatic Accord, Lilac, Musk, Strawberry, Lychee'), ('n1399', 'Aquatic Accord, Lilac, Musk, Strawberry, Lychee'), ('n1411', 'Musk, Vanilla, Floral, Patchouli'), ('n1415', 'Rose, Bloom Accord, Osmanthus'), ('n1460', 'Floral,Vanilla'), ('n1498', 'Floral,Lemon,Fresh,Lavender'), ('n1501', 'Floral,Vanilla'), ('n1521', 'Floral,Vanilla')]\n",
      "\n",
      "Cluster  8\n",
      "[('n48', 'Oriental woody'), ('n108', 'Oriental woody'), ('n193', 'Oriental'), ('n219', 'Oriental'), ('n247', 'Oriental'), ('n254', 'Oriental'), ('n255', 'Oriental'), ('n278', 'Oriental'), ('n291', 'Oriental'), ('n297', 'Mandarin'), ('n307', 'Oriental'), ('n314', 'Oriental'), ('n315', 'Oriental'), ('n338', 'Oriental'), ('n351', 'Oriental'), ('n357', 'Mandarin'), ('n386', 'Oriental'), ('n395', 'Oriental Spicy'), ('n515', 'Fruity & Oriental'), ('n575', 'Fruity & Oriental'), ('n603', 'Oriental'), ('n661', 'Oriental'), ('n678', 'Oriental'), ('n691', 'Oriental'), ('n723', 'Oriental'), ('n740', 'Oriental'), ('n759', 'Oriental'), ('n783', 'Oriental'), ('n800', 'Oriental'), ('n819', 'Oriental'), ('n866', 'Oriental'), ('n867', 'Oriental'), ('n939', 'Oriental Spicy'), ('n951', 'Oriental Woody'), ('n999', 'Oriental Spicy'), ('n1011', 'Oriental Woody'), ('n1033', 'Woody Oriental'), ('n1069', 'Oriental'), ('n1128', 'Oriental'), ('n1416', 'Oriental'), ('n1527', 'Oriental')]\n",
      "\n",
      "Cluster  9\n",
      "[('n7', 'Floral'), ('n24', 'Floral'), ('n26', 'Floral'), ('n28', 'Floral'), ('n31', 'Floral'), ('n36', 'Floral woody musk'), ('n39', 'Floral'), ('n52', 'Floral'), ('n67', 'Floral'), ('n84', 'Floral'), ('n86', 'Floral'), ('n88', 'Floral'), ('n91', 'Floral'), ('n96', 'Floral woody musk'), ('n99', 'Floral'), ('n112', 'Floral'), ('n145', 'Floral'), ('n146', 'Floral woody musk'), ('n149', 'Floral'), ('n150', 'Floral'), ('n154', 'Floral Green'), ('n158', 'Floral,Fresh'), ('n160', 'Floral'), ('n168', 'Floral'), ('n173', 'Abstract Floral'), ('n180', 'Floral'), ('n183', 'Floral'), ('n184', 'Floral,Fresh'), ('n188', 'Floral'), ('n201', 'Floral'), ('n204', 'Floral,Fresh'), ('n214', 'Oriental, Floral'), ('n217', 'Floral,Orange'), ('n229', 'Floral'), ('n240', 'Floral'), ('n242', 'Floral'), ('n243', 'Floral'), ('n246', 'Oriental floral'), ('n248', 'Floral'), ('n251', 'Floral'), ('n253', 'Floral'), ('n262', 'Floral'), ('n263', 'Floral'), ('n271', 'Floral'), ('n285', 'Floral'), ('n289', 'Floral'), ('n294', 'Floral'), ('n298', 'Floral'), ('n300', 'Floral'), ('n302', 'Floral'), ('n303', 'Floral'), ('n306', 'Oriental floral'), ('n308', 'Floral'), ('n311', 'Floral'), ('n313', 'Floral'), ('n322', 'Floral'), ('n323', 'Floral'), ('n331', 'Floral'), ('n345', 'Floral'), ('n349', 'Floral'), ('n354', 'Floral'), ('n358', 'Floral'), ('n360', 'Floral'), ('n369', 'Miss Blooming Bouquet'), ('n373', 'Floral'), ('n377', 'Floral'), ('n378', 'Oriental, Floral'), ('n383', 'Floral'), ('n390', 'Floral'), ('n391', 'Floral'), ('n392', 'Floral'), ('n394', 'Floral Green'), ('n402', 'Floral'), ('n403', 'Floral'), ('n405', 'Floral'), ('n408', 'Floral'), ('n413', 'Floral'), ('n415', 'Floral'), ('n416', 'Floral,Fresh'), ('n420', 'Floral'), ('n422', 'Oriental Floral'), ('n425', 'Floral'), ('n426', 'Floral'), ('n431', 'Floral'), ('n433', 'Floral'), ('n435', 'Floral'), ('n436', 'Floral'), ('n449', 'Floral woody musk'), ('n451', 'Woody Floral Musk'), ('n452', 'Floral'), ('n455', 'Floral'), ('n458', 'Floral'), ('n475', 'Floral'), ('n481', 'Floral,Orange'), ('n483', 'Floral'), ('n484', 'Floral'), ('n485', 'Floral'), ('n491', 'Floral'), ('n502', 'Floral'), ('n504', 'Floral'), ('n513', 'Floral'), ('n517', 'Oriental floral'), ('n518', 'Amber Floral'), ('n519', 'Floral'), ('n528', 'Floral'), ('n530', 'Floral'), ('n536', 'Floral'), ('n541', 'Floral,Orange'), ('n543', 'Floral'), ('n544', 'Floral'), ('n545', 'Floral'), ('n551', 'Floral'), ('n562', 'Floral'), ('n564', 'Floral'), ('n573', 'Floral'), ('n577', 'Oriental floral'), ('n578', 'Amber Floral'), ('n579', 'Floral'), ('n588', 'Floral'), ('n590', 'Floral'), ('n596', 'Floral'), ('n616', 'Floral'), ('n617', 'Floral Oriental'), ('n620', 'Oriental, Floral'), ('n621', 'Floral'), ('n628', 'Floral'), ('n631', 'Floral'), ('n632', 'Floral-Frutiy'), ('n634', 'Floral Green'), ('n637', 'Floral'), ('n640', 'Floral'), ('n642', 'Oriental floral'), ('n645', 'Floral'), ('n652', 'Floral'), ('n656', 'Floral'), ('n657', 'Flowers'), ('n670', 'Floral'), ('n671', 'Floral'), ('n672', 'Floral'), ('n674', 'Floral'), ('n677', 'Floral'), ('n680', 'Floral Musk'), ('n682', 'Floral'), ('n695', 'Floral'), ('n697', 'Floral'), ('n705', 'Floral'), ('n718', 'Floral'), ('n738', 'Floral'), ('n739', 'Floral'), ('n755', 'White Floral'), ('n798', 'Floral'), ('n799', 'Floral'), ('n815', 'White Floral'), ('n845', 'Floral,Almond'), ('n859', 'Oriental, Floral'), ('n863', 'Oriental floral'), ('n875', 'Floral'), ('n896', 'Floral'), ('n901', 'Floral'), ('n906', 'Floral'), ('n907', 'Floral'), ('n911', 'Floral'), ('n930', 'Oriental, Floral'), ('n931', 'Floral'), ('n954', 'Floral'), ('n955', 'Floral'), ('n957', 'Floral'), ('n966', 'Floral'), ('n967', 'Floral'), ('n971', 'Floral'), ('n990', 'Oriental, Floral'), ('n991', 'Floral'), ('n1014', 'Floral'), ('n1015', 'Floral'), ('n1017', 'Floral'), ('n1024', 'Floral'), ('n1028', 'Musk, Floral'), ('n1031', 'Oriental, Floral'), ('n1034', 'Floral'), ('n1047', 'Floral'), ('n1048', 'Floral woody musk'), ('n1055', 'Floral'), ('n1057', 'Floral'), ('n1064', 'Floral'), ('n1075', 'Floral'), ('n1077', 'Floral'), ('n1086', 'Floral'), ('n1088', 'Floral'), ('n1089', 'Floral'), ('n1094', 'Floral'), ('n1098', 'Floral'), ('n1102', 'Floral'), ('n1104', 'Floral,Fresh'), ('n1114', 'Floral'), ('n1116', 'Floral'), ('n1123', 'Floral'), ('n1134', 'Floral'), ('n1136', 'Floral'), ('n1145', 'Floral'), ('n1147', 'Floral'), ('n1148', 'Floral'), ('n1153', 'Floral'), ('n1157', 'Floral'), ('n1161', 'Floral'), ('n1163', 'Floral,Fresh'), ('n1167', 'Floral'), ('n1170', 'Floral'), ('n1181', 'Floral'), ('n1186', 'Floral'), ('n1187', 'Floral'), ('n1188', 'Oriental, Floral'), ('n1190', 'Floral'), ('n1191', 'Floral'), ('n1193', 'Floral'), ('n1194', 'Floral'), ('n1200', 'Floral'), ('n1203', 'Floral,Fresh,Herbaceous'), ('n1210', 'Floral'), ('n1212', 'Floral'), ('n1220', 'Floral'), ('n1223', 'Fresh, Floral'), ('n1225', 'Floral'), ('n1234', 'Fresh, Floral'), ('n1235', 'Floral'), ('n1240', 'Floral,Raspberry'), ('n1251', 'Floral'), ('n1263', 'Floral'), ('n1282', 'Floral,Raspberry'), ('n1290', 'Floral'), ('n1293', 'Floral'), ('n1294', 'Oriental floral'), ('n1295', 'Floral'), ('n1296', 'Floral'), ('n1297', 'Floral'), ('n1298', 'Floral'), ('n1301', 'Floral'), ('n1302', 'Floral'), ('n1304', 'Floral'), ('n1307', 'Floral'), ('n1309', 'Floral'), ('n1311', 'Floral'), ('n1314', 'Floral'), ('n1318', 'Floral'), ('n1319', 'Floral'), ('n1321', 'Floral'), ('n1324', 'Floral'), ('n1327', 'Amber Floral'), ('n1330', 'Floral,Fresh'), ('n1332', 'Floral'), ('n1333', 'Floral'), ('n1343', 'Floral'), ('n1344', 'Floral woody musk'), ('n1350', 'Floral'), ('n1353', 'Floral'), ('n1354', 'Oriental floral'), ('n1355', 'Floral'), ('n1356', 'Floral'), ('n1357', 'Floral'), ('n1358', 'Floral'), ('n1361', 'Floral'), ('n1362', 'Floral'), ('n1364', 'Floral'), ('n1367', 'Floral'), ('n1369', 'Floral'), ('n1371', 'Floral'), ('n1374', 'Floral'), ('n1378', 'Floral'), ('n1379', 'Floral'), ('n1381', 'Floral'), ('n1384', 'Floral'), ('n1387', 'Amber Floral'), ('n1390', 'Floral,Fresh'), ('n1392', 'Floral'), ('n1393', 'Floral'), ('n1403', 'Floral'), ('n1404', 'Floral woody musk'), ('n1412', 'Floral Oriental'), ('n1419', 'Floral'), ('n1420', 'Floral,Fresh'), ('n1428', 'Floral'), ('n1429', 'Floral'), ('n1431', 'Floral,Raspberry'), ('n1434', 'Floral'), ('n1440', 'Floral'), ('n1441', 'Floral'), ('n1445', 'Floral'), ('n1447', 'Floral'), ('n1457', 'Floral'), ('n1458', 'Floral'), ('n1461', 'Floral'), ('n1468', 'Floral'), ('n1472', 'Floral,Fresh'), ('n1475', 'Floral'), ('n1484', 'Floral,Raspberry'), ('n1486', 'Oriental, Floral'), ('n1514', 'Floral'), ('n1519', 'Floral'), ('n1520', 'Floral'), ('n1524', 'Floral'), ('n1529', 'Classic Floral'), ('n1532', 'Classic Florals'), ('n1537', 'Powdery Floral'), ('n1542', 'Classic Florals'), ('n1543', 'Powdery Florals'), ('n1544', 'Classic Florals'), ('n1554', 'Powdery Floral'), ('n1555', 'Powdery Floral'), ('n1563', 'Powdery Floral'), ('n1595', 'Fresh Florals'), ('n1602', 'Fresh Florals'), ('n1618', 'Fresh Florals'), ('n1635', 'Classic Florals'), ('n1661', 'Classic Florals'), ('n1751', 'Classic Florals'), ('n1783', 'Powdery Floral'), ('n1818', 'Fresh Florals'), ('n1824', 'Fresh Florals'), ('n1884', 'Classic Floral'), ('n1893', 'Classic Floral'), ('n1896', 'Classic Florals'), ('n1900', 'Classic Florals'), ('n1906', 'Classic Floral'), ('n1909', 'Fresh Floral'), ('n1911', 'Classic Florals'), ('n1914', 'Classic Florals'), ('n1921', 'Classic Floral'), ('n1924', 'Classic Floral'), ('n1947', 'Classic Florals'), ('n1951', 'Classic Florals'), ('n1962', 'Classic Floral'), ('n1965', 'Classic Florals'), ('n1969', 'Classic Floral'), ('n1970', 'Classic Florals'), ('n1975', 'Classic Floral'), ('n1977', 'Classic Florals'), ('n1987', 'Classic Florals'), ('n1989', 'Classic Floral'), ('n1990', 'Classic Floral')]\n",
      "\n",
      "Cluster  10\n",
      "[('n121', 'Bella'), ('n257', 'Bella'), ('n317', 'Bella'), ('n497', 'Bella'), ('n557', 'Bella'), ('n921', 'Bella'), ('n981', 'Bella'), ('n1066', 'Bella'), ('n1095', 'Jasmine'), ('n1125', 'Bella'), ('n1154', 'Jasmine'), ('n1249', 'Jasmine'), ('n1409', 'Bella'), ('n1426', 'Bella')]\n",
      "\n",
      "Cluster  11\n",
      "[('n20', 'Cardamom, Woody Amber, Caramel, Wood'), ('n32', 'AmberWood'), ('n38', 'A base of vanilla, vetiver and sandalwood creates a warm, dynamic sillage.'), ('n51', 'Floral,Sandalwood,Vanilla,Ylang'), ('n80', 'Cardamom, Woody Amber, Caramel, Wood'), ('n92', 'AmberWood'), ('n98', 'A base of vanilla, vetiver and sandalwood creates a warm, dynamic sillage.'), ('n111', 'Floral,Sandalwood,Vanilla,Ylang'), ('n125', 'Sandalwood,Vanilla'), ('n138', 'Cardamom, Woody Amber, Caramel, Wood'), ('n142', 'Floral,Sandalwood,Fresh'), ('n156', 'Lavender, Sandalwood, Citrus notes'), ('n177', 'Floral,Sandalwood,Fresh'), ('n205', 'AmberWood, Floral'), ('n237', 'Sandalwood,Vanilla'), ('n411', 'Floral,Sandalwood'), ('n443', 'Sandalwood,Orange,Lemon'), ('n450', 'Vanilla, Bergamot, Wood'), ('n506', 'AmberWood'), ('n566', 'AmberWood'), ('n639', 'Sandalwood'), ('n659', 'Floral,Sandalwood,Raspberry,Rose'), ('n665', 'Floral,Sandalwood,Raspberry,Rose'), ('n685', 'Sandalwood'), ('n696', 'Sandalwood,Fresh'), ('n699', 'Sandalwood'), ('n729', 'Sandalwood,Vanilla,Rose'), ('n730', 'Sandalwood scent'), ('n742', 'Sandalwood,Cedar,Lemon,Lavender,Citrus'), ('n760', 'Sandalwood,Vanilla,Fresh,Lavender'), ('n765', 'Sandalwood,Vanilla,Fresh,Rose'), ('n789', 'Sandalwood,Vanilla,Rose'), ('n790', 'Sandalwood scent'), ('n802', 'Sandalwood,Cedar,Lemon,Lavender,Citrus'), ('n820', 'Sandalwood,Vanilla,Fresh,Lavender'), ('n825', 'Sandalwood,Vanilla,Fresh,Rose'), ('n843', 'Sandalwood, Floral'), ('n892', 'Honey, Sandalwood, Floral'), ('n905', 'Sandalwood,Fresh'), ('n910', 'Floral,Sandalwood,Cedar,Fresh'), ('n929', 'A blend of a citrus and floral blended with low notes of sandalwood, vanilla, amber and musk'), ('n932', 'Cardamom, Woody Amber, Caramel, Wood'), ('n961', 'Sandalwood,Lavender,Citrus'), ('n965', 'Sandalwood,Fresh'), ('n970', 'Floral,Sandalwood,Cedar,Fresh'), ('n989', 'A blend of a citrus and floral blended with low notes of sandalwood, vanilla, amber and musk'), ('n992', 'Cardamom, Woody Amber, Caramel, Wood'), ('n1021', 'Sandalwood,Lavender,Citrus'), ('n1229', 'Sandalwood'), ('n1299', 'Floral,Sandalwood,Cedar,Vanilla,Almond'), ('n1300', 'Floral,Sandalwood,Vanilla,Ylang'), ('n1303', 'Sandalwood,Orange,Vanilla'), ('n1310', 'Floral,Sandalwood,Cedar,Vanilla,Fresh'), ('n1329', 'Floral,Sandalwood,Vanilla,Ylang'), ('n1337', 'Sandalwood,Citrus'), ('n1359', 'Floral,Sandalwood,Cedar,Vanilla,Almond'), ('n1360', 'Floral,Sandalwood,Vanilla,Ylang'), ('n1363', 'Sandalwood,Orange,Vanilla'), ('n1370', 'Floral,Sandalwood,Cedar,Vanilla,Fresh'), ('n1389', 'Floral,Sandalwood,Vanilla,Ylang'), ('n1397', 'Sandalwood,Citrus'), ('n1418', 'Sandalwood,Rose,Citrus'), ('n1432', 'Rosemary,Sandalwood,Floral,Cedar'), ('n1443', 'Raspberry & Pear Orange Blossom & Ginger Flower Sandalwood & Cardamom'), ('n1454', 'Floral,Sandalwood,Cedar,Vanilla'), ('n1487', 'Sandalwood,Coriander'), ('n1494', 'Sandalwood,Fresh,Citrus'), ('n1503', 'Sandalwood,Lavender,Citrus'), ('n1511', 'Sandalwood,Orange,Vanilla')]\n",
      "\n",
      "Cluster  12\n",
      "[('n9', 'CHANEL NO.5 3.4 FL OZ 100mL EAU DE PARFUM'), ('n69', 'CHANEL NO.5 3.4 FL OZ 100mL EAU DE PARFUM'), ('n270', 'Fougereu00a0'), ('n330', 'Fougereu00a0'), ('n370', 'Dior Homme Intense'), ('n372', 'Dior Sauvage'), ('n385', 'Eau De Toilette'), ('n388', 'Dior Homme Intense'), ('n404', 'Eau De Toilette'), ('n437', 'Eau De Toilette'), ('n467', \"Jadore L'absolu, Christian Dior\"), ('n615', 'La Vie Est Belle Soleil Cristal'), ('n619', 'Eau De Parfum'), ('n658', 'Eau De Parfum'), ('n666', 'Eau De Parfum'), ('n692', 'La Nuit Tresor'), ('n717', 'LNCM LA VIE BELLE IMPRESSION'), ('n727', \"L'instant, Guerlain\"), ('n758', 'SHALIMAR, Guerlain'), ('n768', 'EAU DE GUERLAIN, Guerlain'), ('n787', \"L'instant, Guerlain\"), ('n818', 'SHALIMAR, Guerlain'), ('n828', 'EAU DE GUERLAIN, Guerlain'), ('n846', 'Guerlain Homme, Guerlain'), ('n849', 'Du Coq, Guerlain'), ('n927', 'Viva La Juicy for Women'), ('n987', 'Viva La Juicy for Women'), ('n1032', 'Eau De Parfum'), ('n1040', 'Homme'), ('n1052', 'Eau De Parfum'), ('n1059', 'Acqua di gio'), ('n1072', 'Eau De Toilette'), ('n1078', 'Armani Acqua Di Gio'), ('n1111', 'Eau De Parfum'), ('n1118', 'Acqua di gio'), ('n1131', 'Eau De Toilette'), ('n1137', 'Armani Acqua Di Gio'), ('n1174', 'Eau De Toilette'), ('n1176', 'Eau De Parfum'), ('n1184', 'Viva La Juicy for Women'), ('n1267', 'ACQUA DI GIO, Giorgio Armani'), ('n1422', 'Gucci Guilty, Gucci'), ('n1423', 'Gucci made to measure'), ('n1430', 'Eau de Gucci'), ('n1446', 'Gucci'), ('n1462', 'Gucci Pour Homme Sport, Gucci'), ('n1474', 'Gucci Pour Homme Sport, Gucci'), ('n1480', 'Gucci II, Gucci'), ('n1513', 'ENVY, Gucci')]\n",
      "\n",
      "Cluster  13\n",
      "[('n133', 'ALLURE SENSUELLE For Women By CHANEL 3.4 oz EDP Spray'), ('n148', 'Woody, aromatic fragrance'), ('n163', 'Rosemary,Lavender'), ('n198', 'Lavender'), ('n203', 'Oriental Floral fragrance'), ('n280', 'Long lasting scent'), ('n281', 'Masculine Scent,'), ('n283', 'Floral fragrance'), ('n288', 'Scented'), ('n296', 'Scented'), ('n340', 'Long lasting scent'), ('n341', 'Masculine Scent,'), ('n343', 'Floral fragrance'), ('n348', 'Scented'), ('n356', 'Scented'), ('n371', 'Lavender'), ('n456', 'Floral,Lavender'), ('n466', 'Floral,Lavender'), ('n499', 'Enchanting fragrance'), ('n520', 'Enchanting fragrance'), ('n539', 'Lavender'), ('n559', 'Enchanting fragrance'), ('n580', 'Enchanting fragrance'), ('n599', 'Lavender'), ('n653', 'Lavender'), ('n690', 'Fresh,Mint,Lavender'), ('n728', 'A mythic fragrance with bergamot, iris and vanilla notes'), ('n744', 'Oriental woody fragrance'), ('n756', 'Floral,Lavender'), ('n788', 'A mythic fragrance with bergamot, iris and vanilla notes'), ('n804', 'Oriental woody fragrance'), ('n816', 'Floral,Lavender'), ('n848', 'Floral,Fresh,Lavender'), ('n850', 'Floral fragrance'), ('n852', 'Floral, green scent'), ('n855', 'Strikingly Bohemian scent'), ('n943', 'Carolina Herrera EDT SPRAY 3.4 OZ'), ('n1003', 'Carolina Herrera EDT SPRAY 3.4 OZ'), ('n1029', 'Top 10 CA Perfume Spray For Women In June 2020'), ('n1030', 'Scent : A fresh, warm scent for the spirited explorer.'), ('n1060', 'Rosemary,Lavender'), ('n1119', 'Rosemary,Lavender'), ('n1179', 'Vanilla,Lavender'), ('n1199', 'Crème Vanille'), ('n1236', 'Chypre Fruity fragrance'), ('n1322', \"Dolly 'Scent from Above' Eau de Toilette\"), ('n1340', 'Lavender'), ('n1346', 'Lavender'), ('n1382', \"Dolly 'Scent from Above' Eau de Toilette\"), ('n1400', 'Lavender'), ('n1406', 'Lavender'), ('n1417', \"Dolly 'Scent from Above' Eau de Toilette\"), ('n1436', 'Lemon,Lavender'), ('n1459', 'Gucci Perfume Flora Gracious Tuberose Eau De Toilette (0.16 Oz) Mini'), ('n1467', 'Lavender'), ('n1476', 'Lavender'), ('n1522', 'Fresh,Lavender'), ('n1548', 'HOW TO APPLY: Mist onto brush or directly onto hair as part of your COCO MADEMOISELLE fragrance ritual.')]\n",
      "\n",
      "Cluster  14\n",
      "[('n15', 'Floral,Cedar,Fresh,Lemon'), ('n19', 'Tobacco, Spicy, Cinnamon, Cedar'), ('n75', 'Floral,Cedar,Fresh,Lemon'), ('n79', 'Tobacco, Spicy, Cinnamon, Cedar'), ('n136', 'Floral,Cedar,Lemon,Fresh'), ('n139', 'Cedar,Orange,Mint'), ('n157', 'Cedar,Fresh,Mint,Lemon,Lavender,Citrus'), ('n159', 'Floral,Cedar,Citrus'), ('n166', 'Floral,Cedar,Orange,Fresh,Citrus'), ('n189', 'Cedar'), ('n234', 'Floral,Cedar,Citrus'), ('n259', 'Tobacco, Spicy, Cinnamon, Cedar'), ('n319', 'Tobacco, Spicy, Cinnamon, Cedar'), ('n462', 'Cedar,Fresh,Lavender'), ('n469', 'Cedar'), ('n474', 'Rosemary,Cedar,Lemon,Coriander,Lavender,Basil,Citrus'), ('n538', 'Tobacco, Spicy, Cinnamon, Cedar'), ('n598', 'Tobacco, Spicy, Cinnamon, Cedar'), ('n667', 'Cedar'), ('n724', 'Floral,Cedar'), ('n769', 'Cedar,Lemon,Coriander'), ('n784', 'Floral,Cedar'), ('n829', 'Cedar,Lemon,Coriander'), ('n869', 'Cedar,Mint'), ('n908', 'Cedar,Vanilla,Fresh'), ('n915', 'Cedar'), ('n949', 'Cypress, Wood, Lemon, Cedar'), ('n968', 'Cedar,Vanilla,Fresh'), ('n975', 'Cedar'), ('n1009', 'Cypress, Wood, Lemon, Cedar'), ('n1058', 'Floral,Cedar,Cedarwood,Orange,Vanilla,Fresh,Pineapple,Almond'), ('n1117', 'Floral,Cedar,Cedarwood,Orange,Vanilla,Fresh,Pineapple,Almond'), ('n1243', 'Raspberry,Cedar,Rose'), ('n1252', 'Floral,Cedar,Lemon,Mint'), ('n1253', 'Floral,Raspberry,Cedar'), ('n1288', 'Cedar,Orange,Citrus'), ('n1424', 'Violet, Sweet Tobacco, Leather, AmberWood, Black Pepper, Amyris, Bergamot, Patchouli, Cedar'), ('n1451', 'Cedar,Lemon,Lavender'), ('n1470', 'Cedar,Lime'), ('n1518', 'Cedar,Lavender,Citrus')]\n",
      "\n",
      "Cluster  15\n",
      "[('n212', 'Wood'), ('n220', 'Wood'), ('n276', 'Somebody Wood'), ('n336', 'Somebody Wood'), ('n393', 'Wood'), ('n418', 'Wood'), ('n427', 'Wood'), ('n459', 'Wood'), ('n514', 'Wood'), ('n574', 'Wood'), ('n775', 'Wood'), ('n835', 'Wood'), ('n902', 'Wood'), ('n914', 'Wood'), ('n936', 'Wood'), ('n974', 'Wood'), ('n996', 'Wood'), ('n1054', 'Wood'), ('n1113', 'Wood'), ('n1276', 'Wood'), ('n1483', 'Wood'), ('n1499', 'Wood'), ('n1510', 'Wood')]\n",
      "\n",
      "Cluster  16\n",
      "[('n5', 'Citrus'), ('n8', 'Citrus'), ('n10', 'This mesmerizing perfume combines citrus, floral and woody'), ('n40', 'Floral,Fresh,Citrus'), ('n65', 'Citrus'), ('n68', 'Citrus'), ('n70', 'This mesmerizing perfume combines citrus, floral and woody'), ('n100', 'Floral,Fresh,Citrus'), ('n126', 'Orange'), ('n128', 'Fresh,Citrus'), ('n129', 'Citrusy'), ('n167', 'Citrus'), ('n172', 'Fresh,Citrus'), ('n197', 'Mandarin, Lavender, and Apple'), ('n213', 'Citrus Aquatic Woody, Mate Leaves, Bergamot, Le Musc Transparent'), ('n218', 'Citrus'), ('n244', 'Citrus'), ('n272', 'Citrus rose'), ('n275', 'Citrus Aquatic Woody, Mate Leaves, Bergamot, Le Musc Transparent'), ('n284', 'Citrus'), ('n304', 'Citrus'), ('n332', 'Citrus rose'), ('n335', 'Citrus Aquatic Woody, Mate Leaves, Bergamot, Le Musc Transparent'), ('n344', 'Citrus'), ('n361', 'IF | Modern White Floral & Citrus'), ('n376', 'Orange'), ('n384', 'Citrus'), ('n401', 'Orange,Rose,Citrus'), ('n407', 'Orange,Coriander'), ('n410', 'Citrus'), ('n417', 'Citrus'), ('n439', 'Spicy Woody Citrus, Cardamom, Vetiver, Lemon'), ('n472', 'Lemon,Basil'), ('n490', 'Fresh,Citrus'), ('n494', 'Citrus'), ('n507', 'Citrus'), ('n550', 'Fresh,Citrus'), ('n554', 'Citrus'), ('n567', 'Citrus'), ('n604', 'Citrus'), ('n636', 'Citrus Aquatic Woody, Mate Leaves, Bergamot, Le Musc Transparent'), ('n662', 'Floral,Citrus'), ('n679', 'Spicy Woody Citrus, Cardamom, Vetiver, Lemon'), ('n688', 'Citrus'), ('n693', 'Fruity, Fresh, Peach, Citrus notes'), ('n700', 'Rosemary,Orange,Lemon,Coriander,Citrus,Basil'), ('n741', 'Fresh,Lavender,Citrus'), ('n780', 'Fruity, Fresh, Peach, Citrus notes'), ('n801', 'Fresh,Lavender,Citrus'), ('n840', 'Fruity, Fresh, Peach, Citrus notes'), ('n851', 'Vanilla,Fresh,Lemon,Citrus'), ('n857', 'IF | Modern White Floral & Citrus'), ('n922', 'IF | Modern White Floral & Citrus'), ('n925', 'Fresh,Citrus'), ('n948', 'Citrus Aquatic Woody, Mate Leaves, Bergamot, Le Musc Transparent'), ('n982', 'IF | Modern White Floral & Citrus'), ('n985', 'Fresh,Citrus'), ('n1008', 'Citrus Aquatic Woody, Mate Leaves, Bergamot, Le Musc Transparent'), ('n1039', 'Floral,Citrus'), ('n1046', 'Fresh,Tangy,Citrus'), ('n1062', 'Lemon,Fresh,Citrus'), ('n1071', 'Lavender,Citrus'), ('n1090', 'Rosemary,Fresh,Citrus'), ('n1091', 'Rosemary,Orange,Lemon,Citrus'), ('n1121', 'Lemon,Fresh,Citrus'), ('n1130', 'Lavender,Citrus'), ('n1149', 'Rosemary,Fresh,Citrus'), ('n1150', 'Rosemary,Orange,Lemon,Citrus'), ('n1169', 'Citrus, Wood'), ('n1172', 'IF | Modern White Floral & Citrus'), ('n1183', 'Citrus, Sea Water, Rosemary, Pellucid Hedione'), ('n1205', 'Citrus'), ('n1208', 'Citrus'), ('n1237', 'Rosemary,Citrus'), ('n1246', 'Rosemary,Citrus'), ('n1257', 'Fresh,Lavender,Citrus'), ('n1265', 'Citrus, Mate Leaves, Bergamot, Le Musc Transparent'), ('n1266', 'Floral,Citrus'), ('n1273', 'Rosemary,Fresh,Rose,Citrus'), ('n1280', 'Rosemary,Citrus'), ('n1281', 'Rosemary,Citrus'), ('n1331', 'Orange,Lemon,Lavender'), ('n1391', 'Orange,Lemon,Lavender'), ('n1478', 'Orange,Coriander,Lavender'), ('n1485', 'Floral,Citrus'), ('n1491', 'Vanilla,Citrus'), ('n1500', 'Orange,Coriander,Lavender'), ('n1512', 'Citrus'), ('n1526', 'Citrus'), ('n1534', 'Fresh Citrus & Fruits'), ('n1550', 'Fresh Citrus & Fruits'), ('n1553', 'Fresh Citrus & Fruits'), ('n1640', 'Citrus & Woods'), ('n1655', 'Citrus & Woods'), ('n1671', 'Citrus & Woods'), ('n1672', 'Fresh Citrus & Fruits'), ('n1817', 'Fresh Citrus & Fruits'), ('n1821', 'Fresh Citrus & Fruits'), ('n1829', 'Fresh Citrus & Fruits'), ('n1830', 'Fresh Citrus & Fruits'), ('n1837', 'Fresh Citrus & Fruits'), ('n1839', 'Fresh Citrus & Fruits'), ('n1850', 'Citrus & Woods'), ('n1864', 'Citrus & Woods'), ('n1866', 'Citrus & Woods'), ('n1868', 'Citrus & Woods'), ('n1901', 'Citrus & Woods'), ('n1910', 'Citrus & Woods'), ('n1913', 'Citrus & Woods'), ('n1919', 'Citrus & Woods'), ('n1920', 'Citrus & Woods'), ('n1923', 'Citrus & Woods'), ('n1928', 'Citrus & Woods'), ('n1933', 'Citrus & Woods')]\n",
      "\n",
      "Cluster  17\n",
      "[('n17', 'Ciao'), ('n77', 'Ciao'), ('n396', 'Ciao'), ('n1037', 'Ciao'), ('n1051', 'Si'), ('n1080', 'Si'), ('n1085', 'Si'), ('n1108', 'Si'), ('n1110', 'Si'), ('n1139', 'Si'), ('n1201', 'Si'), ('n1215', 'Si')]\n",
      "\n",
      "Cluster  18\n",
      "[('n607', 'Warm & Sweet Gourmands'), ('n754', 'Gourmand'), ('n814', 'Gourmand'), ('n1617', 'Warm & Sweet Gourmands'), ('n1659', 'Warm & Sweet Gourmands'), ('n1750', 'Warm & Sweet Gourmands'), ('n1761', 'Warm & Sweet Gourmands'), ('n1774', 'Warm & Sweet Gourmands'), ('n1816', 'Warm & Sweet Gourmands'), ('n1820', 'Warm & Sweet Gourmands'), ('n1833', 'Warm & Sweet Gourmands'), ('n1851', 'Warm & Sweet Gourmands'), ('n1932', 'Warm & Sweet Gourmands')]\n",
      "\n",
      "Cluster  19\n",
      "[('n18', 'Fruity'), ('n25', 'Fruity'), ('n55', 'Sweet grapefruit'), ('n78', 'Fruity'), ('n85', 'Fruity'), ('n115', 'Sweet grapefruit'), ('n155', 'Fruity'), ('n224', 'Fruity'), ('n374', 'Fruity'), ('n454', 'Fruity'), ('n482', 'Fruity'), ('n522', 'Apricot'), ('n529', 'Apricot'), ('n542', 'Fruity'), ('n582', 'Apricot'), ('n589', 'Apricot'), ('n635', 'Fruity'), ('n706', 'Fruity'), ('n743', 'Fruity'), ('n778', 'Fruity'), ('n803', 'Fruity'), ('n838', 'Fruity'), ('n942', 'Fruity'), ('n945', 'Fruity'), ('n1002', 'Fruity'), ('n1005', 'Fruity'), ('n1217', 'Fruity'), ('n1232', 'Fruity'), ('n1247', 'Fruity'), ('n1433', 'Pineapple'), ('n1444', 'Fruity')]\n",
      "\n",
      "Cluster  20\n",
      "[('n1', 'Apple'), ('n11', 'Coco chanel'), ('n23', 'Coco'), ('n35', 'And Soul'), ('n58', 'Dead Sexy'), ('n59', 'Maahir'), ('n60', 'Everything & Nothing'), ('n61', 'Apple'), ('n71', 'Coco chanel'), ('n83', 'Coco'), ('n95', 'And Soul'), ('n118', 'Dead Sexy'), ('n119', 'Maahir'), ('n120', 'Everything & Nothing'), ('n152', 'CAROLINA HERRERA, Carolina Herrera'), ('n153', 'Terra'), ('n199', 'Bulletproof'), ('n221', 'Coco Mademoiselle Impression'), ('n226', 'Chanel No 5'), ('n258', 'Juicy Couture, Juicy Couture'), ('n273', 'Bulletproof'), ('n318', 'Juicy Couture, Juicy Couture'), ('n333', 'Bulletproof'), ('n364', 'Kenneth Cole Black, Kenneth Cole'), ('n375', 'Let Them Eat Cake'), ('n380', 'Tainted Love'), ('n412', '2017 New Version'), ('n421', 'Fearless'), ('n424', 'Not Your Baby'), ('n453', 'Sandara'), ('n495', 'Fl'), ('n511', 'Idole'), ('n555', 'Fl'), ('n571', 'Idole'), ('n606', 'Assorted'), ('n618', 'Manifesto'), ('n638', 'Idole Aura'), ('n648', 'Premium beauty'), ('n663', 'Fearless'), ('n694', 'Al Areeq Silver'), ('n710', 'Idole Impression'), ('n736', 'Shalimar'), ('n748', 'Sun-soaked'), ('n750', 'Raspberry'), ('n796', 'Shalimar'), ('n808', 'Sun-soaked'), ('n810', 'Raspberry'), ('n873', 'Al Areeq Gold'), ('n874', 'Al Khas Winners Trophy Gold'), ('n889', 'Tiffany Tiffany Impression'), ('n894', 'Manifesto'), ('n898', 'Value Pack'), ('n904', 'Kenneth Cole Black, Kenneth Cole'), ('n913', 'Touch'), ('n935', 'Assorted'), ('n937', 'Dead Sexy'), ('n938', 'Salt Air'), ('n940', 'Vera Wang'), ('n941', 'Dead Sexy'), ('n947', 'Lovely'), ('n953', 'Prada Candy by Prada for Women'), ('n956', 'Touch of Pink, Lacoste'), ('n962', 'Tharwah Gold'), ('n963', 'Maahir'), ('n964', 'Kenneth Cole Black, Kenneth Cole'), ('n973', 'Touch'), ('n995', 'Assorted'), ('n997', 'Dead Sexy'), ('n998', 'Salt Air'), ('n1000', 'Vera Wang'), ('n1001', 'Dead Sexy'), ('n1007', 'Lovely'), ('n1013', 'Prada Candy by Prada for Women'), ('n1016', 'Touch of Pink, Lacoste'), ('n1022', 'Tharwah Gold'), ('n1023', 'Maahir'), ('n1026', 'Fearless'), ('n1027', 'Terra'), ('n1044', 'Violet'), ('n1045', 'Sweet'), ('n1063', 'Code, SI, Aqua di Gioia, bc its you, Aqua di Gio'), ('n1083', 'Terra'), ('n1122', 'Code, SI, Aqua di Gioia, bc its you, Aqua di Gio'), ('n1142', 'Manifesto'), ('n1168', 'Terra'), ('n1185', 'Nº 9 Blackberry & Vanilla Musk'), ('n1204', 'Sweet'), ('n1211', 'MY WAY'), ('n1230', 'Amore'), ('n1254', 'Variety'), ('n1259', 'Honey & The Moon'), ('n1261', 'Excess'), ('n1271', 'Dead Sexy'), ('n1305', 'Juicy Couture, Juicy Couture'), ('n1308', '100'), ('n1316', 'Intense Oud'), ('n1334', 'Woody Musk'), ('n1347', 'Maahir'), ('n1365', 'Juicy Couture, Juicy Couture'), ('n1368', '100'), ('n1376', 'Intense Oud'), ('n1394', 'Woody Musk'), ('n1407', 'Maahir'), ('n1471', 'Fearless'), ('n1528', 'CAROLINA HERRERA, Carolina Herrera'), ('', ''), ('n1812', 'What Else You Need to Know:')]\n",
      "\n"
     ]
    }
   ],
   "source": [
    "# Perform kmean clustering\n",
    "num_clusters = 20\n",
    "clustering_model = KMeans(n_clusters=num_clusters)\n",
    "clustering_model.fit(embeddings)\n",
    "cluster_assignment = clustering_model.labels_\n",
    "\n",
    "clustered_sentences = [[] for i in range(num_clusters)]\n",
    "for sentence_id, cluster_id in enumerate(cluster_assignment):\n",
    "    clustered_sentences[cluster_id].append((node_ids[sentence_id], scents[sentence_id]))\n",
    "\n",
    "for i, cluster in enumerate(clustered_sentences):\n",
    "    print(\"Cluster \", i+1)\n",
    "    print(cluster)\n",
    "    print(\"\")"
   ]
  },
  {
   "cell_type": "code",
   "execution_count": 108,
   "metadata": {},
   "outputs": [],
   "source": [
    "true_predictions_ss = []\n",
    "\n",
    "for cluster in clustered_sentences:\n",
    "    \n",
    "    #cross multiply in one cluster\n",
    "    for i, leftnode in enumerate(cluster):\n",
    "        for j, rightnode in enumerate(cluster):\n",
    "            if i != j:\n",
    "                true_predictions_ss.append([leftnode[0], leftnode[1], rightnode[0], rightnode[1]])\n",
    "            "
   ]
  },
  {
   "cell_type": "code",
   "execution_count": 110,
   "metadata": {},
   "outputs": [],
   "source": [
    "# true_predictions_ss\n",
    "true_predictions_ss_df = pd.DataFrame(data=np.array(true_predictions_ss), columns=['node_id1', 'scent1',\\\n",
    "                                                                   'node_id2', 'scent2'])"
   ]
  },
  {
   "cell_type": "code",
   "execution_count": 111,
   "metadata": {},
   "outputs": [],
   "source": [
    "true_predictions_ss_df.to_csv(dir_ + 'haveSimilarScents_TRUE_predictions.csv')"
   ]
  },
  {
   "cell_type": "code",
   "execution_count": null,
   "metadata": {},
   "outputs": [],
   "source": []
  }
 ],
 "metadata": {
  "colab": {
   "provenance": []
  },
  "kernelspec": {
   "display_name": "Python 3 (ipykernel)",
   "language": "python",
   "name": "python3"
  },
  "language_info": {
   "codemirror_mode": {
    "name": "ipython",
    "version": 3
   },
   "file_extension": ".py",
   "mimetype": "text/x-python",
   "name": "python",
   "nbconvert_exporter": "python",
   "pygments_lexer": "ipython3",
   "version": "3.9.13"
  }
 },
 "nbformat": 4,
 "nbformat_minor": 1
}
