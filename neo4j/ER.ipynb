{
 "cells": [
  {
   "cell_type": "markdown",
   "metadata": {
    "id": "z2Q5FfqkJ3xN",
    "pycharm": {
     "name": "#%% md\n"
    }
   },
   "source": [
    "## Intra-Perfume Entity Linking"
   ]
  },
  {
   "cell_type": "code",
   "execution_count": 1,
   "metadata": {
    "id": "fTlKyPqCJ3xO",
    "outputId": "f8d02d9d-601c-4c75-e48e-842d5dba3de7",
    "pycharm": {
     "name": "#%%\n"
    }
   },
   "outputs": [],
   "source": [
    "# !pip install rltk"
   ]
  },
  {
   "cell_type": "markdown",
   "metadata": {
    "id": "K8fyiwzJJ3xP",
    "pycharm": {
     "name": "#%% md\n"
    }
   },
   "source": [
    "### Construct RLTK Datasets"
   ]
  },
  {
   "cell_type": "code",
   "execution_count": 2,
   "metadata": {
    "id": "We7cQGTRJ3xP",
    "pycharm": {
     "name": "#%%\n"
    }
   },
   "outputs": [],
   "source": [
    "import rltk\n",
    "import csv\n",
    "\n",
    "# You can use this tokenizer in case you need to manipulate some data\n",
    "tokenizer = rltk.tokenizer.crf_tokenizer.crf_tokenizer.CrfTokenizer()"
   ]
  },
  {
   "cell_type": "code",
   "execution_count": 3,
   "metadata": {
    "id": "T3Q_rPqmJ3xP",
    "pycharm": {
     "name": "#%%\n"
    }
   },
   "outputs": [],
   "source": [
    "'''\n",
    "Feel free to add more columns here for use in record linkage.\n",
    "'''\n",
    "\n",
    "class Perfume(rltk.Record):\n",
    "    def __init__(self, raw_object):\n",
    "        super().__init__(raw_object)\n",
    "#         self.name = ''\n",
    "\n",
    "    @rltk.cached_property\n",
    "    def id(self):\n",
    "        return self.raw_object['_id']\n",
    "    \n",
    "    @rltk.cached_property\n",
    "    def node_id(self):\n",
    "        return self.raw_object['node_id']\n",
    "\n",
    "    @rltk.cached_property\n",
    "    def name(self):\n",
    "        return self.raw_object['name']\n",
    "    \n",
    "    @rltk.cached_property\n",
    "    def name_tokens(self):\n",
    "        return set(tokenizer.tokenize(self.name))\n",
    "\n",
    "    @rltk.cached_property\n",
    "    def brand(self):\n",
    "        return self.raw_object['brand']\n",
    "    \n",
    "    @rltk.cached_property\n",
    "    def url(self):\n",
    "        return self.raw_object['url']\n",
    "    \n",
    "    @rltk.cached_property\n",
    "    def price(self):\n",
    "        return (self.raw_object['price'])\n",
    "    \n",
    "    @rltk.cached_property\n",
    "    def scent(self):\n",
    "        return self.raw_object['scent']\n"
   ]
  },
  {
   "cell_type": "code",
   "execution_count": 4,
   "metadata": {
    "id": "cZ2VHWnwJ3xQ",
    "pycharm": {
     "name": "#%%\n"
    }
   },
   "outputs": [],
   "source": [
    "dir_ = '../data/entity_linking/'\n",
    "file1 = dir_ + 'allNodes.csv'\n",
    "file2 = dir_ + 'allNodes.csv'\n",
    "\n",
    "ds1 = rltk.Dataset(rltk.CSVReader(open(file1, encoding='utf-8')),record_class=Perfume)\n",
    "ds2 = rltk.Dataset(rltk.CSVReader(open(file2, encoding ='utf-8')),record_class=Perfume)"
   ]
  },
  {
   "cell_type": "code",
   "execution_count": 5,
   "metadata": {
    "id": "5CUrpjGTJ3xQ",
    "outputId": "498d3b0e-a742-4740-8751-3a348661e5d0",
    "pycharm": {
     "name": "#%%\n"
    }
   },
   "outputs": [
    {
     "name": "stdout",
     "output_type": "stream",
     "text": [
      "  id node_id                                name  \\\n",
      "0  0      n1                  Vince camuto amore   \n",
      "1  1      n2                       Chance chanel   \n",
      "2  2      n3                         Chanel no 5   \n",
      "3  3      n4  Chânél coco mademoiselle for women   \n",
      "4  4      n5              Mademoiselle for women   \n",
      "\n",
      "                                name_tokens   brand  \\\n",
      "0                    {Vince, amore, camuto}  Chanel   \n",
      "1                          {Chance, chanel}  Chanel   \n",
      "2                           {5, no, Chanel}  Chanel   \n",
      "3  {mademoiselle, coco, Chânél, for, women}  Chanel   \n",
      "4                {Mademoiselle, women, for}  Chanel   \n",
      "\n",
      "                                                 url   price         scent  \n",
      "0  https://www.amazon.com//sspa/click?ie=UTF8&spc...      92  Floral,Fresh  \n",
      "1  https://www.amazon.com//Chance-Chanel-Tendre-W...  147.24          NULL  \n",
      "2  https://www.amazon.com//CHANEL-No-Eau-Parfum-1...    19.9          NULL  \n",
      "3  https://www.amazon.com//Ch%C3%A2n%C3%A9l-Madem...     146          NULL  \n",
      "4  https://www.amazon.com//Ch%C3%A2n%C3%A9l-Madem...     356          NULL  \n",
      "\n",
      "*********************************************\n",
      "\n",
      "  id node_id                                name  \\\n",
      "0  0      n1                  Vince camuto amore   \n",
      "1  1      n2                       Chance chanel   \n",
      "2  2      n3                         Chanel no 5   \n",
      "3  3      n4  Chânél coco mademoiselle for women   \n",
      "4  4      n5              Mademoiselle for women   \n",
      "\n",
      "                                name_tokens   brand  \\\n",
      "0                    {Vince, amore, camuto}  Chanel   \n",
      "1                          {Chance, chanel}  Chanel   \n",
      "2                           {5, no, Chanel}  Chanel   \n",
      "3  {mademoiselle, coco, Chânél, for, women}  Chanel   \n",
      "4                {Mademoiselle, women, for}  Chanel   \n",
      "\n",
      "                                                 url   price         scent  \n",
      "0  https://www.amazon.com//sspa/click?ie=UTF8&spc...      92  Floral,Fresh  \n",
      "1  https://www.amazon.com//Chance-Chanel-Tendre-W...  147.24          NULL  \n",
      "2  https://www.amazon.com//CHANEL-No-Eau-Parfum-1...    19.9          NULL  \n",
      "3  https://www.amazon.com//Ch%C3%A2n%C3%A9l-Madem...     146          NULL  \n",
      "4  https://www.amazon.com//Ch%C3%A2n%C3%A9l-Madem...     356          NULL  \n"
     ]
    }
   ],
   "source": [
    "# print some entries\n",
    "print(ds1.generate_dataframe().head(5))\n",
    "print('\\n*********************************************\\n')\n",
    "print(ds2.generate_dataframe().head(5))"
   ]
  },
  {
   "cell_type": "markdown",
   "metadata": {
    "id": "OCpi3AqZJ3xR",
    "pycharm": {
     "name": "#%% md\n"
    }
   },
   "source": [
    "### sameAs - Entity Linking"
   ]
  },
  {
   "cell_type": "code",
   "execution_count": 6,
   "metadata": {
    "id": "oQ3jFoFSJ3xS",
    "pycharm": {
     "name": "#%%\n"
    }
   },
   "outputs": [],
   "source": [
    "def name_string_similarity_1(r1, r2):\n",
    "    ''' Example dummy similiary function '''\n",
    "    s1 = r1.name\n",
    "    s2 = r2.name\n",
    "    \n",
    "    return rltk.jaro_winkler_similarity(s1, s2)\n",
    "    \n",
    "def name_string_similarity_2(r1, r2):\n",
    "    ''' Example dummy similiary function '''\n",
    "    s1 = r1.name_tokens\n",
    "    s2 = r2.name_tokens\n",
    "    \n",
    "    return rltk.jaccard_index_similarity(s1, s2)"
   ]
  },
  {
   "cell_type": "code",
   "execution_count": 7,
   "metadata": {
    "id": "fGf52bBcJ3xS",
    "pycharm": {
     "name": "#%%\n"
    }
   },
   "outputs": [],
   "source": [
    "# threshold value to determine if we are confident the record match\n",
    "MY_TRESH = 0.5 # this number is just an example, you need to change it\n",
    "\n",
    "# entity linkage scoring function\n",
    "def rule_based_method(r1, r2):\n",
    "    score_1 = name_string_similarity_1(r1, r2)\n",
    "    score_2 = name_string_similarity_2(r1, r2)\n",
    "    \n",
    "    total = 0.5 * score_1 + 0.5 * score_2\n",
    "#     total = score_1\n",
    "    \n",
    "    # return two values: boolean if they match or not, float to determine confidence\n",
    "    return total > MY_TRESH, total"
   ]
  },
  {
   "cell_type": "markdown",
   "metadata": {
    "id": "32c-kCWqJ3xT",
    "pycharm": {
     "name": "#%% md\n"
    }
   },
   "source": [
    "##### Save predictions"
   ]
  },
  {
   "cell_type": "code",
   "execution_count": 8,
   "metadata": {
    "id": "UfC2TKISJ3xT",
    "pycharm": {
     "name": "#%%\n"
    }
   },
   "outputs": [],
   "source": [
    "predictions = []\n",
    "true_predictions = []\n",
    "\n",
    "\n",
    "candidate_pairs = rltk.get_record_pairs(ds1, ds2)\n",
    "for r1, r2 in candidate_pairs:\n",
    "    if r1.brand == r2.brand and r1.node_id != r2.node_id:\n",
    "        result, confidence = rule_based_method(r1, r2)\n",
    "#         print(result, confidence)\n",
    "        predictions.append([r1.node_id, r1.name, r1.url, r2.node_id, r2.name, r2.url, result, confidence])\n",
    "        if result is True:\n",
    "            true_predictions.append([r1.node_id, r1.name, r1.url, r2.node_id, r2.name, r2.url, result, confidence])\n"
   ]
  },
  {
   "cell_type": "code",
   "execution_count": 9,
   "metadata": {
    "id": "4UCWB2Q6J3xT",
    "outputId": "5a2d2a1d-3c4a-4d87-da59-89cc94ee6f8b",
    "pycharm": {
     "name": "#%%\n"
    }
   },
   "outputs": [
    {
     "data": {
      "text/plain": [
       "(1751776, 10801, 10801)"
      ]
     },
     "execution_count": 9,
     "metadata": {},
     "output_type": "execute_result"
    }
   ],
   "source": [
    "len(predictions), len(ds1.generate_dataframe()), len(ds2.generate_dataframe())"
   ]
  },
  {
   "cell_type": "code",
   "execution_count": 10,
   "metadata": {
    "id": "dvnuzp4OJ3xU",
    "pycharm": {
     "name": "#%%\n"
    }
   },
   "outputs": [],
   "source": [
    "import pandas as pd\n",
    "import numpy as np\n",
    "\n",
    "# predictions_df = pd.DataFrame(data=np.array(predictions), columns=['node_id1', 'name1', 'url1',\\\n",
    "#                                                                    'node_id2', 'name2', 'url2',\\\n",
    "#                                                                    'result', 'confidence'])\n"
   ]
  },
  {
   "cell_type": "code",
   "execution_count": 11,
   "metadata": {},
   "outputs": [],
   "source": [
    "# predictions_df.to_csv(dir_ + 'sameAs_predictions.csv')"
   ]
  },
  {
   "cell_type": "code",
   "execution_count": 12,
   "metadata": {},
   "outputs": [],
   "source": [
    "true_predictions_df = pd.DataFrame(data=np.array(true_predictions), columns=['node_id1', 'name1', 'url1',\\\n",
    "                                                                   'node_id2', 'name2', 'url2',\\\n",
    "                                                                   'result', 'confidence'])"
   ]
  },
  {
   "cell_type": "code",
   "execution_count": 13,
   "metadata": {},
   "outputs": [
    {
     "data": {
      "text/html": [
       "<div>\n",
       "<style scoped>\n",
       "    .dataframe tbody tr th:only-of-type {\n",
       "        vertical-align: middle;\n",
       "    }\n",
       "\n",
       "    .dataframe tbody tr th {\n",
       "        vertical-align: top;\n",
       "    }\n",
       "\n",
       "    .dataframe thead th {\n",
       "        text-align: right;\n",
       "    }\n",
       "</style>\n",
       "<table border=\"1\" class=\"dataframe\">\n",
       "  <thead>\n",
       "    <tr style=\"text-align: right;\">\n",
       "      <th></th>\n",
       "      <th>node_id1</th>\n",
       "      <th>name1</th>\n",
       "      <th>url1</th>\n",
       "      <th>node_id2</th>\n",
       "      <th>name2</th>\n",
       "      <th>url2</th>\n",
       "      <th>result</th>\n",
       "      <th>confidence</th>\n",
       "    </tr>\n",
       "  </thead>\n",
       "  <tbody>\n",
       "    <tr>\n",
       "      <th>0</th>\n",
       "      <td>n1</td>\n",
       "      <td>Vince camuto amore</td>\n",
       "      <td>https://www.amazon.com//sspa/click?ie=UTF8&amp;spc...</td>\n",
       "      <td>n34</td>\n",
       "      <td>Vince camuto</td>\n",
       "      <td>https://www.amazon.com//Vince-Camuto-Parfum-Sp...</td>\n",
       "      <td>True</td>\n",
       "      <td>0.8</td>\n",
       "    </tr>\n",
       "    <tr>\n",
       "      <th>1</th>\n",
       "      <td>n1</td>\n",
       "      <td>Vince camuto amore</td>\n",
       "      <td>https://www.amazon.com//sspa/click?ie=UTF8&amp;spc...</td>\n",
       "      <td>n81</td>\n",
       "      <td>Vince camuto ciao</td>\n",
       "      <td>https://www.amazon.com//sspa/click?ie=UTF8&amp;spc...</td>\n",
       "      <td>True</td>\n",
       "      <td>0.7215686274509804</td>\n",
       "    </tr>\n",
       "    <tr>\n",
       "      <th>2</th>\n",
       "      <td>n1</td>\n",
       "      <td>Vince camuto amore</td>\n",
       "      <td>https://www.amazon.com//sspa/click?ie=UTF8&amp;spc...</td>\n",
       "      <td>n82</td>\n",
       "      <td>Vince camuto ciao</td>\n",
       "      <td>https://www.amazon.com//sspa/click?ie=UTF8&amp;spc...</td>\n",
       "      <td>True</td>\n",
       "      <td>0.7215686274509804</td>\n",
       "    </tr>\n",
       "    <tr>\n",
       "      <th>3</th>\n",
       "      <td>n1</td>\n",
       "      <td>Vince camuto amore</td>\n",
       "      <td>https://www.amazon.com//sspa/click?ie=UTF8&amp;spc...</td>\n",
       "      <td>n83</td>\n",
       "      <td>Vince camuto ciao</td>\n",
       "      <td>https://www.amazon.com//sspa/click?ie=UTF8&amp;spc...</td>\n",
       "      <td>True</td>\n",
       "      <td>0.7215686274509804</td>\n",
       "    </tr>\n",
       "    <tr>\n",
       "      <th>4</th>\n",
       "      <td>n1</td>\n",
       "      <td>Vince camuto amore</td>\n",
       "      <td>https://www.amazon.com//sspa/click?ie=UTF8&amp;spc...</td>\n",
       "      <td>n130</td>\n",
       "      <td>Vince camuto amore</td>\n",
       "      <td>https://www.amazon.com//sspa/click?ie=UTF8&amp;spc...</td>\n",
       "      <td>True</td>\n",
       "      <td>1.0</td>\n",
       "    </tr>\n",
       "    <tr>\n",
       "      <th>...</th>\n",
       "      <td>...</td>\n",
       "      <td>...</td>\n",
       "      <td>...</td>\n",
       "      <td>...</td>\n",
       "      <td>...</td>\n",
       "      <td>...</td>\n",
       "      <td>...</td>\n",
       "      <td>...</td>\n",
       "    </tr>\n",
       "    <tr>\n",
       "      <th>317779</th>\n",
       "      <td>s2902</td>\n",
       "      <td>Shalis woman</td>\n",
       "      <td>NULL</td>\n",
       "      <td>s1210</td>\n",
       "      <td>Shalis colgne</td>\n",
       "      <td>NULL</td>\n",
       "      <td>True</td>\n",
       "      <td>0.610897435897436</td>\n",
       "    </tr>\n",
       "    <tr>\n",
       "      <th>317780</th>\n",
       "      <td>s2902</td>\n",
       "      <td>Shalis woman</td>\n",
       "      <td>NULL</td>\n",
       "      <td>s2077</td>\n",
       "      <td>Shalis</td>\n",
       "      <td>NULL</td>\n",
       "      <td>True</td>\n",
       "      <td>0.7</td>\n",
       "    </tr>\n",
       "    <tr>\n",
       "      <th>317781</th>\n",
       "      <td>s2902</td>\n",
       "      <td>Shalis woman</td>\n",
       "      <td>NULL</td>\n",
       "      <td>s2175</td>\n",
       "      <td>Shalis man</td>\n",
       "      <td>NULL</td>\n",
       "      <td>True</td>\n",
       "      <td>0.65</td>\n",
       "    </tr>\n",
       "    <tr>\n",
       "      <th>317782</th>\n",
       "      <td>s2904</td>\n",
       "      <td>Almarasim oud perfume</td>\n",
       "      <td>NULL</td>\n",
       "      <td>s774</td>\n",
       "      <td>Aljefri oud</td>\n",
       "      <td>NULL</td>\n",
       "      <td>True</td>\n",
       "      <td>0.506096681096681</td>\n",
       "    </tr>\n",
       "    <tr>\n",
       "      <th>317783</th>\n",
       "      <td>s2905</td>\n",
       "      <td>Women lacoste pour femme eau de parfum 90 ml</td>\n",
       "      <td>NULL</td>\n",
       "      <td>s1415</td>\n",
       "      <td>Lacoste eau de lacoste pour femme</td>\n",
       "      <td>NULL</td>\n",
       "      <td>True</td>\n",
       "      <td>0.5812289562289563</td>\n",
       "    </tr>\n",
       "  </tbody>\n",
       "</table>\n",
       "<p>317784 rows × 8 columns</p>\n",
       "</div>"
      ],
      "text/plain": [
       "       node_id1                                         name1  \\\n",
       "0            n1                            Vince camuto amore   \n",
       "1            n1                            Vince camuto amore   \n",
       "2            n1                            Vince camuto amore   \n",
       "3            n1                            Vince camuto amore   \n",
       "4            n1                            Vince camuto amore   \n",
       "...         ...                                           ...   \n",
       "317779    s2902                                  Shalis woman   \n",
       "317780    s2902                                  Shalis woman   \n",
       "317781    s2902                                  Shalis woman   \n",
       "317782    s2904                         Almarasim oud perfume   \n",
       "317783    s2905  Women lacoste pour femme eau de parfum 90 ml   \n",
       "\n",
       "                                                     url1 node_id2  \\\n",
       "0       https://www.amazon.com//sspa/click?ie=UTF8&spc...      n34   \n",
       "1       https://www.amazon.com//sspa/click?ie=UTF8&spc...      n81   \n",
       "2       https://www.amazon.com//sspa/click?ie=UTF8&spc...      n82   \n",
       "3       https://www.amazon.com//sspa/click?ie=UTF8&spc...      n83   \n",
       "4       https://www.amazon.com//sspa/click?ie=UTF8&spc...     n130   \n",
       "...                                                   ...      ...   \n",
       "317779                                               NULL    s1210   \n",
       "317780                                               NULL    s2077   \n",
       "317781                                               NULL    s2175   \n",
       "317782                                               NULL     s774   \n",
       "317783                                               NULL    s1415   \n",
       "\n",
       "                                    name2  \\\n",
       "0                            Vince camuto   \n",
       "1                       Vince camuto ciao   \n",
       "2                       Vince camuto ciao   \n",
       "3                       Vince camuto ciao   \n",
       "4                      Vince camuto amore   \n",
       "...                                   ...   \n",
       "317779                      Shalis colgne   \n",
       "317780                             Shalis   \n",
       "317781                         Shalis man   \n",
       "317782                        Aljefri oud   \n",
       "317783  Lacoste eau de lacoste pour femme   \n",
       "\n",
       "                                                     url2 result  \\\n",
       "0       https://www.amazon.com//Vince-Camuto-Parfum-Sp...   True   \n",
       "1       https://www.amazon.com//sspa/click?ie=UTF8&spc...   True   \n",
       "2       https://www.amazon.com//sspa/click?ie=UTF8&spc...   True   \n",
       "3       https://www.amazon.com//sspa/click?ie=UTF8&spc...   True   \n",
       "4       https://www.amazon.com//sspa/click?ie=UTF8&spc...   True   \n",
       "...                                                   ...    ...   \n",
       "317779                                               NULL   True   \n",
       "317780                                               NULL   True   \n",
       "317781                                               NULL   True   \n",
       "317782                                               NULL   True   \n",
       "317783                                               NULL   True   \n",
       "\n",
       "                confidence  \n",
       "0                      0.8  \n",
       "1       0.7215686274509804  \n",
       "2       0.7215686274509804  \n",
       "3       0.7215686274509804  \n",
       "4                      1.0  \n",
       "...                    ...  \n",
       "317779   0.610897435897436  \n",
       "317780                 0.7  \n",
       "317781                0.65  \n",
       "317782   0.506096681096681  \n",
       "317783  0.5812289562289563  \n",
       "\n",
       "[317784 rows x 8 columns]"
      ]
     },
     "execution_count": 13,
     "metadata": {},
     "output_type": "execute_result"
    }
   ],
   "source": [
    "true_predictions_df"
   ]
  },
  {
   "cell_type": "code",
   "execution_count": 14,
   "metadata": {},
   "outputs": [],
   "source": [
    "true_predictions_df.to_csv(dir_ + 'sameAs_TRUE_predictions_jaro_jaccard_0.5.csv')"
   ]
  },
  {
   "cell_type": "markdown",
   "metadata": {},
   "source": [
    "### haveSimilarPrices Entity Linking"
   ]
  },
  {
   "cell_type": "code",
   "execution_count": 15,
   "metadata": {},
   "outputs": [],
   "source": [
    "true_predictions_sp = []\n",
    "\n",
    "candidate_pairs = rltk.get_record_pairs(ds1, ds2)\n",
    "for r1, r2 in candidate_pairs:\n",
    "    if (r2.price.isdigit() and r1.price.isdigit()) and \\\n",
    "    (float(r2.price) >= float(r1.price)-5 and float(r2.price) <= float(r1.price)+5)\\\n",
    "    and r1.node_id != r2.node_id:\n",
    "        true_predictions_sp.append([r1.node_id, r1.name, r1.price, r2.node_id, r2.name, r2.price])\n"
   ]
  },
  {
   "cell_type": "code",
   "execution_count": 16,
   "metadata": {},
   "outputs": [],
   "source": [
    "true_predictions_sp_df = pd.DataFrame(data=np.array(true_predictions_sp), columns=['node_id1', 'name1', 'price1',\\\n",
    "                                                                   'node_id2', 'name2', 'price2'])"
   ]
  },
  {
   "cell_type": "code",
   "execution_count": 17,
   "metadata": {},
   "outputs": [],
   "source": [
    "true_predictions_sp_df.to_csv(dir_ + 'haveSimilarPrices_TRUE_predictions.csv')"
   ]
  },
  {
   "cell_type": "markdown",
   "metadata": {},
   "source": [
    "### haveSimilarScents Entity Linking"
   ]
  },
  {
   "cell_type": "code",
   "execution_count": 18,
   "metadata": {},
   "outputs": [],
   "source": [
    "# !pip install -U sentence-transformers"
   ]
  },
  {
   "cell_type": "code",
   "execution_count": 19,
   "metadata": {},
   "outputs": [
    {
     "data": {
      "text/html": [
       "<div>\n",
       "<style scoped>\n",
       "    .dataframe tbody tr th:only-of-type {\n",
       "        vertical-align: middle;\n",
       "    }\n",
       "\n",
       "    .dataframe tbody tr th {\n",
       "        vertical-align: top;\n",
       "    }\n",
       "\n",
       "    .dataframe thead th {\n",
       "        text-align: right;\n",
       "    }\n",
       "</style>\n",
       "<table border=\"1\" class=\"dataframe\">\n",
       "  <thead>\n",
       "    <tr style=\"text-align: right;\">\n",
       "      <th></th>\n",
       "      <th>id</th>\n",
       "      <th>node_id</th>\n",
       "      <th>name</th>\n",
       "      <th>name_tokens</th>\n",
       "      <th>brand</th>\n",
       "      <th>url</th>\n",
       "      <th>price</th>\n",
       "      <th>scent</th>\n",
       "    </tr>\n",
       "  </thead>\n",
       "  <tbody>\n",
       "    <tr>\n",
       "      <th>0</th>\n",
       "      <td>0</td>\n",
       "      <td>n1</td>\n",
       "      <td>Vince camuto amore</td>\n",
       "      <td>{Vince, amore, camuto}</td>\n",
       "      <td>Chanel</td>\n",
       "      <td>https://www.amazon.com//sspa/click?ie=UTF8&amp;spc...</td>\n",
       "      <td>92</td>\n",
       "      <td>Floral,Fresh</td>\n",
       "    </tr>\n",
       "    <tr>\n",
       "      <th>7</th>\n",
       "      <td>7</td>\n",
       "      <td>n8</td>\n",
       "      <td>Chanel coco mademoiselle</td>\n",
       "      <td>{mademoiselle, coco, Chanel}</td>\n",
       "      <td>Chanel</td>\n",
       "      <td>https://www.amazon.com//Ch%C3%A2n%C3%A9l-Madem...</td>\n",
       "      <td>2147483648</td>\n",
       "      <td>Rose</td>\n",
       "    </tr>\n",
       "    <tr>\n",
       "      <th>8</th>\n",
       "      <td>8</td>\n",
       "      <td>n9</td>\n",
       "      <td>Chanel coco mademoiselle</td>\n",
       "      <td>{mademoiselle, coco, Chanel}</td>\n",
       "      <td>Chanel</td>\n",
       "      <td>https://www.amazon.com//Ch%C3%A2n%C3%A9l-Madem...</td>\n",
       "      <td>2147483648</td>\n",
       "      <td>Eau De Parfum</td>\n",
       "    </tr>\n",
       "    <tr>\n",
       "      <th>10</th>\n",
       "      <td>10</td>\n",
       "      <td>n11</td>\n",
       "      <td>Chance</td>\n",
       "      <td>{Chance}</td>\n",
       "      <td>Chanel</td>\n",
       "      <td>https://www.amazon.com//Chance-Toilette-Spray-...</td>\n",
       "      <td>127.48</td>\n",
       "      <td>Floral</td>\n",
       "    </tr>\n",
       "    <tr>\n",
       "      <th>12</th>\n",
       "      <td>12</td>\n",
       "      <td>n13</td>\n",
       "      <td>Coco mademoiselle by chanel</td>\n",
       "      <td>{Coco, by, mademoiselle, chanel}</td>\n",
       "      <td>Chanel</td>\n",
       "      <td>https://www.amazon.com//MADEMOISELLE-Chanel-Pa...</td>\n",
       "      <td>135.99</td>\n",
       "      <td>Orange,Vanilla</td>\n",
       "    </tr>\n",
       "    <tr>\n",
       "      <th>...</th>\n",
       "      <td>...</td>\n",
       "      <td>...</td>\n",
       "      <td>...</td>\n",
       "      <td>...</td>\n",
       "      <td>...</td>\n",
       "      <td>...</td>\n",
       "      <td>...</td>\n",
       "      <td>...</td>\n",
       "    </tr>\n",
       "    <tr>\n",
       "      <th>2512</th>\n",
       "      <td>2512</td>\n",
       "      <td>n2513</td>\n",
       "      <td>Guilty pour homme parfum</td>\n",
       "      <td>{homme, parfum, Guilty, pour}</td>\n",
       "      <td>Gucci</td>\n",
       "      <td>https://www.sephora.com/product/gucci-guilty-p...</td>\n",
       "      <td>163</td>\n",
       "      <td>Woody Spices</td>\n",
       "    </tr>\n",
       "    <tr>\n",
       "      <th>2513</th>\n",
       "      <td>2513</td>\n",
       "      <td>n2514</td>\n",
       "      <td>Gucci bloom ambrosia di fiori</td>\n",
       "      <td>{Gucci, ambrosia, di, fiori, bloom}</td>\n",
       "      <td>Gucci</td>\n",
       "      <td>https://www.sephora.com/product/gucci-gucci-bl...</td>\n",
       "      <td>35</td>\n",
       "      <td>Classic Florals</td>\n",
       "    </tr>\n",
       "    <tr>\n",
       "      <th>2514</th>\n",
       "      <td>2514</td>\n",
       "      <td>n2515</td>\n",
       "      <td>Guilty pour femme</td>\n",
       "      <td>{femme, Guilty, pour}</td>\n",
       "      <td>Gucci</td>\n",
       "      <td>https://www.sephora.com/product/guilty-P273900...</td>\n",
       "      <td>97</td>\n",
       "      <td>Warm Florals</td>\n",
       "    </tr>\n",
       "    <tr>\n",
       "      <th>2515</th>\n",
       "      <td>2515</td>\n",
       "      <td>n2516</td>\n",
       "      <td>Bloom</td>\n",
       "      <td>{Bloom}</td>\n",
       "      <td>Gucci</td>\n",
       "      <td>https://www.sephora.com/product/bloom-eau-de-p...</td>\n",
       "      <td>35</td>\n",
       "      <td>Classic Floral</td>\n",
       "    </tr>\n",
       "    <tr>\n",
       "      <th>2516</th>\n",
       "      <td>2516</td>\n",
       "      <td>n2517</td>\n",
       "      <td>Bloom profumo di fiori</td>\n",
       "      <td>{di, Bloom, fiori, profumo}</td>\n",
       "      <td>Gucci</td>\n",
       "      <td>https://www.sephora.com/product/gucci-bloom-pr...</td>\n",
       "      <td>35</td>\n",
       "      <td>Classic Floral</td>\n",
       "    </tr>\n",
       "  </tbody>\n",
       "</table>\n",
       "<p>1944 rows × 8 columns</p>\n",
       "</div>"
      ],
      "text/plain": [
       "        id node_id                           name  \\\n",
       "0        0      n1             Vince camuto amore   \n",
       "7        7      n8       Chanel coco mademoiselle   \n",
       "8        8      n9       Chanel coco mademoiselle   \n",
       "10      10     n11                         Chance   \n",
       "12      12     n13    Coco mademoiselle by chanel   \n",
       "...    ...     ...                            ...   \n",
       "2512  2512   n2513       Guilty pour homme parfum   \n",
       "2513  2513   n2514  Gucci bloom ambrosia di fiori   \n",
       "2514  2514   n2515              Guilty pour femme   \n",
       "2515  2515   n2516                          Bloom   \n",
       "2516  2516   n2517         Bloom profumo di fiori   \n",
       "\n",
       "                              name_tokens   brand  \\\n",
       "0                  {Vince, amore, camuto}  Chanel   \n",
       "7            {mademoiselle, coco, Chanel}  Chanel   \n",
       "8            {mademoiselle, coco, Chanel}  Chanel   \n",
       "10                               {Chance}  Chanel   \n",
       "12       {Coco, by, mademoiselle, chanel}  Chanel   \n",
       "...                                   ...     ...   \n",
       "2512        {homme, parfum, Guilty, pour}   Gucci   \n",
       "2513  {Gucci, ambrosia, di, fiori, bloom}   Gucci   \n",
       "2514                {femme, Guilty, pour}   Gucci   \n",
       "2515                              {Bloom}   Gucci   \n",
       "2516          {di, Bloom, fiori, profumo}   Gucci   \n",
       "\n",
       "                                                    url       price  \\\n",
       "0     https://www.amazon.com//sspa/click?ie=UTF8&spc...          92   \n",
       "7     https://www.amazon.com//Ch%C3%A2n%C3%A9l-Madem...  2147483648   \n",
       "8     https://www.amazon.com//Ch%C3%A2n%C3%A9l-Madem...  2147483648   \n",
       "10    https://www.amazon.com//Chance-Toilette-Spray-...      127.48   \n",
       "12    https://www.amazon.com//MADEMOISELLE-Chanel-Pa...      135.99   \n",
       "...                                                 ...         ...   \n",
       "2512  https://www.sephora.com/product/gucci-guilty-p...         163   \n",
       "2513  https://www.sephora.com/product/gucci-gucci-bl...          35   \n",
       "2514  https://www.sephora.com/product/guilty-P273900...          97   \n",
       "2515  https://www.sephora.com/product/bloom-eau-de-p...          35   \n",
       "2516  https://www.sephora.com/product/gucci-bloom-pr...          35   \n",
       "\n",
       "                scent  \n",
       "0        Floral,Fresh  \n",
       "7                Rose  \n",
       "8       Eau De Parfum  \n",
       "10             Floral  \n",
       "12     Orange,Vanilla  \n",
       "...               ...  \n",
       "2512     Woody Spices  \n",
       "2513  Classic Florals  \n",
       "2514     Warm Florals  \n",
       "2515   Classic Floral  \n",
       "2516   Classic Floral  \n",
       "\n",
       "[1944 rows x 8 columns]"
      ]
     },
     "execution_count": 19,
     "metadata": {},
     "output_type": "execute_result"
    }
   ],
   "source": [
    "allNodes_df = ds1.generate_dataframe()\n",
    "allNodes_df = allNodes_df.loc[allNodes_df['scent']!='NULL']\n",
    "allNodes_df = allNodes_df.loc[allNodes_df['scent']!='None']\n",
    "allNodes_df"
   ]
  },
  {
   "cell_type": "code",
   "execution_count": 20,
   "metadata": {},
   "outputs": [],
   "source": [
    "scents = list(allNodes_df['scent'])\n",
    "node_ids = list(allNodes_df['node_id'])"
   ]
  },
  {
   "cell_type": "code",
   "execution_count": 21,
   "metadata": {},
   "outputs": [],
   "source": [
    "from sentence_transformers import SentenceTransformer\n",
    "model = SentenceTransformer('all-MiniLM-L6-v2')\n",
    "\n",
    "#Our sentences we like to encode\n",
    "sentences = scents\n",
    "\n",
    "#Sentences are encoded by calling model.encode()\n",
    "embeddings = model.encode(sentences)"
   ]
  },
  {
   "cell_type": "code",
   "execution_count": 22,
   "metadata": {},
   "outputs": [
    {
     "data": {
      "text/plain": [
       "(1944, 384)"
      ]
     },
     "execution_count": 22,
     "metadata": {},
     "output_type": "execute_result"
    }
   ],
   "source": [
    "embeddings.shape"
   ]
  },
  {
   "cell_type": "code",
   "execution_count": 23,
   "metadata": {},
   "outputs": [],
   "source": [
    "from sklearn.decomposition import PCA\n",
    "from sklearn.cluster import KMeans\n",
    "from sentence_transformers import SentenceTransformer, LoggingHandler, util, evaluation, models, InputExample\n",
    "import logging\n",
    "import os\n",
    "import gzip\n",
    "import csv\n",
    "import random\n",
    "import numpy as np\n",
    "import torch"
   ]
  },
  {
   "cell_type": "code",
   "execution_count": 24,
   "metadata": {},
   "outputs": [
    {
     "name": "stdout",
     "output_type": "stream",
     "text": [
      "Cluster  1\n",
      "[('n84', 'Sweet'), ('n85', 'Sweet'), ('n86', 'Sweet'), ('n213', 'Sweet'), ('n214', 'Sweet'), ('n215', 'Sweet'), ('n265', 'Stella'), ('n266', 'Edt Spray'), ('n267', 'Edt Spray'), ('n268', 'Edt Spray'), ('n269', 'Edt Spray'), ('n331', 'Tangy'), ('n374', 'Sweet'), ('n400', 'MY WAY'), ('n441', 'Let Them Eat Cake'), ('n442', 'Dead Sexy'), ('n443', 'Song In D Minor'), ('n444', 'Hypnotic Poison'), ('n456', 'POISON GIRL'), ('n472', 'Bulletproof'), ('n473', 'Bulletproof'), ('n474', 'Bulletproof'), ('n478', 'Sweet'), ('n504', 'MY WAY'), ('n545', 'Let Them Eat Cake'), ('n546', 'Dead Sexy'), ('n547', 'Song In D Minor'), ('n548', 'Hypnotic Poison'), ('n560', 'POISON GIRL'), ('n576', 'Bulletproof'), ('n577', 'Bulletproof'), ('n578', 'Bulletproof'), ('n608', 'Miss Dior'), ('n655', '2017 New Version'), ('n705', 'Fl'), ('n729', 'Idole'), ('n760', 'Apricot'), ('n762', 'Apricot'), ('n788', 'Awaken Within'), ('n818', 'Fl'), ('n842', 'Idole'), ('n870', 'Apricot'), ('n872', 'Apricot'), ('n901', 'Awaken Within'), ('n906', 'Dry'), ('n908', 'Assorted'), ('n943', 'Tresor Love, Miracle, LV Belle, Tresor, Hypnose'), ('n954', 'MY WAY'), ('n972', 'Idole Aura'), ('n979', 'Mint'), ('n995', 'Premium beauty'), ('n1019', 'Sun-soaked'), ('n1020', 'Shalimar'), ('n1042', 'Raspberry'), ('n1043', 'Gourmand'), ('n1044', 'Kabuki'), ('n1045', 'Kabuki'), ('n1046', 'Kabuki'), ('n1050', 'Bulletproof'), ('n1051', 'Bulletproof'), ('n1052', 'Bulletproof'), ('n1079', 'Awaken Within'), ('n1096', 'Sun-soaked'), ('n1097', 'Shalimar'), ('n1119', 'Raspberry'), ('n1120', 'Gourmand'), ('n1121', 'Kabuki'), ('n1122', 'Kabuki'), ('n1123', 'Kabuki'), ('n1127', 'Bulletproof'), ('n1128', 'Bulletproof'), ('n1129', 'Bulletproof'), ('n1156', 'Awaken Within'), ('n1176', 'Transformation'), ('n1197', 'Song of the Siren'), ('n1198', 'Song of the Siren'), ('n1217', 'Touch'), ('n1225', 'For her'), ('n1247', 'Sexy, Playful, Dreamy, Sweet'), ('n1248', 'Sexy, Playful, Sweet, Dreamy'), ('n1254', 'Viva La Juicy for Women'), ('n1275', 'Assorted'), ('n1286', 'Dead Sexy'), ('n1287', 'Dead Sexy'), ('n1288', 'Song In D Minor'), ('n1300', 'Heaven'), ('n1302', 'Lovely'), ('n1334', 'Prada Candy by Prada for Women'), ('n1362', 'Touch'), ('n1370', 'For her'), ('n1392', 'Sexy, Playful, Dreamy, Sweet'), ('n1393', 'Sexy, Playful, Sweet, Dreamy'), ('n1399', 'Viva La Juicy for Women'), ('n1420', 'Assorted'), ('n1431', 'Dead Sexy'), ('n1432', 'Dead Sexy'), ('n1433', 'Song In D Minor'), ('n1445', 'Heaven'), ('n1447', 'Lovely'), ('n1479', 'Prada Candy by Prada for Women'), ('n1496', 'Transformation'), ('n1644', 'Sexy, Playful, Dreamy, Sweet'), ('n1645', 'Sexy, Playful, Sweet, Dreamy'), ('n1774', 'Sexy, Playful, Dreamy, Sweet'), ('n1775', 'Sexy, Playful, Sweet, Dreamy'), ('n1786', 'MY WAY'), ('n1803', 'Fiori'), ('n1821', 'MY WAY'), ('n1822', 'Viva La Juicy for Women'), ('n1829', 'Kabuki'), ('n1830', 'Kabuki'), ('n1831', 'Kabuki'), ('n1836', 'Excess'), ('n1837', 'Excess'), ('n1838', 'Excess'), ('n1854', 'Sweet Tobacco'), ('n1872', 'Variety'), ('n1912', 'Intense Oud'), ('n1971', 'Variety'), ('n2010', 'Intense Oud'), ('n2068', 'Song of the Siren'), ('n2069', 'Song of the Siren'), ('n2101', 'Anthemoessa'), ('n2102', 'Anthemoessa'), ('n2123', 'Awaken Within'), ('', ''), ('n2372', 'What Else You Need to Know:')]\n",
      "\n",
      "Cluster  2\n",
      "[('n50', 'Fruity'), ('n55', 'Fruity'), ('n181', 'Fruity'), ('n186', 'Fruity'), ('n259', 'Floral Fruity'), ('n260', 'Floral Fruity'), ('n261', 'Floral Fruity'), ('n262', 'Floral Fruity'), ('n263', 'Floral Fruity'), ('n264', 'Floral Fruity'), ('n362', 'Fruity Floral'), ('n398', 'Fruity, Floral'), ('n401', 'Floral fruity'), ('n402', 'Floral fruity'), ('n403', 'Floral fruity'), ('n404', 'Floral fruity'), ('n405', 'Floral fruity'), ('n406', 'Floral fruity'), ('n502', 'Fruity, Floral'), ('n505', 'Floral fruity'), ('n506', 'Floral fruity'), ('n507', 'Floral fruity'), ('n508', 'Floral fruity'), ('n509', 'Floral fruity'), ('n510', 'Floral fruity'), ('n589', 'Flowers & Fruits'), ('n599', 'Fruity'), ('n624', 'Fruity'), ('n644', 'Floral Fruity'), ('n678', 'Fruity'), ('n683', 'Fruity'), ('n736', 'Floral fruity'), ('n737', 'Floral fruity'), ('n738', 'Floral fruity'), ('n739', 'Floral fruity'), ('n740', 'Floral fruity'), ('n741', 'Floral fruity'), ('n756', 'Fruity'), ('n771', 'Floral Fruity Gourmand'), ('n791', 'Fruity'), ('n796', 'Fruity'), ('n849', 'Floral fruity'), ('n850', 'Floral fruity'), ('n851', 'Floral fruity'), ('n852', 'Floral fruity'), ('n853', 'Floral fruity'), ('n854', 'Floral fruity'), ('n866', 'Fruity'), ('n881', 'Floral Fruity Gourmand'), ('n919', 'Fruity'), ('n986', 'Fruity'), ('n988', 'Floral fruity'), ('n997', 'Fruity'), ('n998', 'Fruity'), ('n1003', 'Fruity'), ('n1004', 'Fruity'), ('n1014', 'Fruity floral'), ('n1015', 'Fruity'), ('n1029', 'Fruity'), ('n1080', 'Fruity'), ('n1081', 'Fruity'), ('n1091', 'Fruity floral'), ('n1092', 'Fruity'), ('n1106', 'Fruity'), ('n1168', 'Floral fruity'), ('n1216', 'Fruity, Floral'), ('n1226', 'Floral,Pineapple'), ('n1227', 'Floral,Pineapple'), ('n1291', 'Fruity'), ('n1292', 'Floral Fruity'), ('n1304', 'Fruity'), ('n1309', 'Fruity'), ('n1331', 'Floral Fruity'), ('n1361', 'Fruity, Floral'), ('n1371', 'Floral,Pineapple'), ('n1372', 'Floral,Pineapple'), ('n1436', 'Fruity'), ('n1437', 'Floral Fruity'), ('n1449', 'Fruity'), ('n1454', 'Fruity'), ('n1476', 'Floral Fruity'), ('n1522', 'Fruity, Floral'), ('n1576', 'Fruity'), ('n1616', 'Fruity'), ('n1706', 'Fruity'), ('n1746', 'Fruity'), ('n1818', 'Fruity'), ('n1823', 'Fruity and floral.'), ('n1909', 'Fruity'), ('n1922', 'Floral Fruity'), ('n1923', 'Floral Fruity'), ('n1924', 'Floral Fruity'), ('n1925', 'Floral Fruity'), ('n1926', 'Floral Fruity'), ('n1927', 'Floral Fruity'), ('n1941', 'Fruity Floral'), ('n2007', 'Fruity'), ('n2020', 'Floral Fruity'), ('n2021', 'Floral Fruity'), ('n2022', 'Floral Fruity'), ('n2023', 'Floral Fruity'), ('n2024', 'Floral Fruity'), ('n2025', 'Floral Fruity'), ('n2039', 'Fruity Floral'), ('n2074', 'Floral fruity'), ('n2075', 'Floral fruity'), ('n2076', 'Floral fruity'), ('n2077', 'Floral fruity'), ('n2078', 'Floral fruity'), ('n2079', 'Floral fruity'), ('n2160', 'Fresh Fruity Florals'), ('n2163', 'Fruity Floral'), ('n2170', 'Fresh Fruity Florals'), ('n2175', 'Fruity Florals'), ('n2182', 'Fresh Fruity Florals'), ('n2204', 'Fresh Fruity Florals'), ('n2267', 'Fruity Florals'), ('n2293', 'Fruity Florals'), ('n2381', 'Fruity Florals'), ('n2399', 'Fruity Floral'), ('n2400', 'Fruity Floral'), ('n2401', 'Fruity Floral'), ('n2406', 'Fruity Floral'), ('n2407', 'Fruity Florals'), ('n2409', 'Fruity Floral'), ('n2411', 'Fruity Floral'), ('n2413', 'Fruity Floral'), ('n2414', 'Fruity Floral'), ('n2416', 'Fruity Floral'), ('n2422', 'Fruity Floral'), ('n2427', 'Fruity Floral'), ('n2436', 'Fruity Florals'), ('n2439', 'Fruity Florals'), ('n2445', 'Fruity Florals'), ('n2469', 'Fruity Florals'), ('n2478', 'Fruity Floral'), ('n2483', 'Fruity Floral'), ('n2488', 'Fruity Floral')]\n",
      "\n",
      "Cluster  3\n",
      "[('n779', 'Citrus Aquatic Woody, Mate Leaves, Bergamot, Le Musc Transparent'), ('n780', 'Citrus Aquatic Woody, Mate Leaves, Bergamot, Le Musc Transparent'), ('n781', 'Citrus Aquatic Woody, Mate Leaves, Bergamot, Le Musc Transparent'), ('n782', 'Citrus Aquatic Woody, Mate Leaves, Bergamot, Le Musc Transparent'), ('n783', 'Citrus Aquatic Woody, Mate Leaves, Bergamot, Le Musc Transparent'), ('n784', 'Citrus Aquatic Woody, Mate Leaves, Bergamot, Le Musc Transparent'), ('n785', 'Citrus Aquatic Woody, Mate Leaves, Bergamot, Le Musc Transparent'), ('n786', 'Citrus Aquatic Woody, Mate Leaves, Bergamot, Le Musc Transparent'), ('n787', 'Citrus Aquatic Woody, Mate Leaves, Bergamot, Le Musc Transparent'), ('n892', 'Citrus Aquatic Woody, Mate Leaves, Bergamot, Le Musc Transparent'), ('n893', 'Citrus Aquatic Woody, Mate Leaves, Bergamot, Le Musc Transparent'), ('n894', 'Citrus Aquatic Woody, Mate Leaves, Bergamot, Le Musc Transparent'), ('n895', 'Citrus Aquatic Woody, Mate Leaves, Bergamot, Le Musc Transparent'), ('n896', 'Citrus Aquatic Woody, Mate Leaves, Bergamot, Le Musc Transparent'), ('n897', 'Citrus Aquatic Woody, Mate Leaves, Bergamot, Le Musc Transparent'), ('n898', 'Citrus Aquatic Woody, Mate Leaves, Bergamot, Le Musc Transparent'), ('n899', 'Citrus Aquatic Woody, Mate Leaves, Bergamot, Le Musc Transparent'), ('n900', 'Citrus Aquatic Woody, Mate Leaves, Bergamot, Le Musc Transparent'), ('n955', 'Citrus Aquatic Woody, Mate Leaves, Bergamot, Le Musc Transparent'), ('n956', 'Citrus Aquatic Woody, Mate Leaves, Bergamot, Le Musc Transparent'), ('n957', 'Citrus Aquatic Woody, Mate Leaves, Bergamot, Le Musc Transparent'), ('n958', 'Citrus Aquatic Woody, Mate Leaves, Bergamot, Le Musc Transparent'), ('n959', 'Citrus Aquatic Woody, Mate Leaves, Bergamot, Le Musc Transparent'), ('n960', 'Citrus Aquatic Woody, Mate Leaves, Bergamot, Le Musc Transparent'), ('n961', 'Citrus Aquatic Woody, Mate Leaves, Bergamot, Le Musc Transparent'), ('n962', 'Citrus Aquatic Woody, Mate Leaves, Bergamot, Le Musc Transparent'), ('n963', 'Citrus Aquatic Woody, Mate Leaves, Bergamot, Le Musc Transparent'), ('n1314', 'Citrus Aquatic Woody, Mate Leaves, Bergamot, Le Musc Transparent'), ('n1318', 'Citrus, Mate Leaves, Bergamot, Le Musc Transparent'), ('n1319', 'Citrus, Mate Leaves, Bergamot, Le Musc Transparent'), ('n1320', 'Citrus, Mate Leaves, Bergamot, Le Musc Transparent'), ('n1321', 'Citrus Aquatic Woody, Mate Leaves, Bergamot, Le Musc Transparent'), ('n1322', 'Transparent Musk, Mate Leaves, Bergamot, Citrus Aquatic'), ('n1459', 'Citrus Aquatic Woody, Mate Leaves, Bergamot, Le Musc Transparent'), ('n1463', 'Citrus, Mate Leaves, Bergamot, Le Musc Transparent'), ('n1464', 'Citrus, Mate Leaves, Bergamot, Le Musc Transparent'), ('n1465', 'Citrus, Mate Leaves, Bergamot, Le Musc Transparent'), ('n1466', 'Citrus Aquatic Woody, Mate Leaves, Bergamot, Le Musc Transparent'), ('n1467', 'Transparent Musk, Mate Leaves, Bergamot, Citrus Aquatic')]\n",
      "\n",
      "Cluster  4\n",
      "[('n20', 'Orange,Fresh'), ('n22', 'Orange,Fresh'), ('n30', 'Fresh'), ('n32', 'Orange,Fresh'), ('n59', 'Fresh'), ('n60', 'Orange,Fresh'), ('n61', 'Fresh'), ('n91', 'Fresh'), ('n149', 'Orange,Fresh'), ('n151', 'Orange,Fresh'), ('n159', 'Fresh'), ('n161', 'Orange,Fresh'), ('n190', 'Fresh'), ('n191', 'Orange,Fresh'), ('n192', 'Fresh'), ('n220', 'Fresh'), ('n319', 'Fresh'), ('n339', 'Fresh'), ('n340', 'Orange,Fresh'), ('n349', 'Fresh'), ('n356', 'Fresh'), ('n385', 'Fresh'), ('n387', 'Fresh'), ('n391', 'Fresh'), ('n417', 'Fresh'), ('n419', 'Fresh'), ('n447', 'Fresh'), ('n452', 'Fresh'), ('n462', 'Fresh'), ('n463', 'Fresh'), ('n464', 'Fresh'), ('n468', 'Fresh'), ('n489', 'Fresh'), ('n491', 'Fresh'), ('n495', 'Fresh'), ('n521', 'Fresh'), ('n523', 'Fresh'), ('n551', 'Fresh'), ('n556', 'Fresh'), ('n566', 'Fresh'), ('n567', 'Fresh'), ('n568', 'Fresh'), ('n572', 'Fresh'), ('n597', 'Fresh'), ('n600', 'Fresh, Rose'), ('n636', 'Fresh'), ('n670', 'Fresh'), ('n696', 'Fresh'), ('n726', 'Raspberry,Fresh'), ('n727', 'Fresh'), ('n761', 'Fresh'), ('n809', 'Fresh'), ('n839', 'Raspberry,Fresh'), ('n840', 'Fresh'), ('n871', 'Fresh'), ('n942', 'Fresh'), ('n1061', 'Fresh'), ('n1138', 'Fresh'), ('n1203', 'Fresh'), ('n1233', 'Fresh'), ('n1245', 'Fresh'), ('n1246', 'Fresh'), ('n1255', 'Fresh'), ('n1348', 'Fresh'), ('n1378', 'Fresh'), ('n1390', 'Fresh'), ('n1391', 'Fresh'), ('n1400', 'Fresh'), ('n1528', 'Fresh'), ('n1532', 'Fresh'), ('n1553', 'Fresh'), ('n1565', 'Fresh'), ('n1580', 'Fresh'), ('n1605', 'Fresh'), ('n1615', 'Fresh'), ('n1635', 'Fresh'), ('n1639', 'Fresh'), ('n1643', 'Fresh'), ('n1658', 'Fresh'), ('n1662', 'Fresh'), ('n1683', 'Fresh'), ('n1695', 'Fresh'), ('n1710', 'Fresh'), ('n1735', 'Fresh'), ('n1745', 'Fresh'), ('n1765', 'Fresh'), ('n1769', 'Fresh'), ('n1773', 'Fresh'), ('n1793', 'Fresh'), ('n1798', 'Fresh'), ('n1817', 'Fresh'), ('n1826', 'Fresh'), ('n1827', 'Fresh'), ('n1832', 'Fresh'), ('n1863', 'Fresh'), ('n1864', 'Fresh'), ('n1867', 'Fresh'), ('n1870', 'Fresh'), ('n2434', 'Fresh Aquatics'), ('n2435', 'Fresh Aquatics'), ('n2446', 'Fresh Aquatics'), ('n2447', 'Fresh Aquatics'), ('n2449', 'Fresh Aquatics'), ('n2450', 'Fresh Aquatics'), ('n2459', 'Fresh Aquatics')]\n",
      "\n",
      "Cluster  5\n",
      "[('n318', 'Wood'), ('n344', 'Cedar'), ('n465', 'Wood'), ('n569', 'Wood'), ('n671', 'Cedar'), ('n672', 'Wood'), ('n673', 'Wood'), ('n927', 'Cedar'), ('n1164', 'Cedar'), ('n1166', 'Wood'), ('n1219', 'Cedar'), ('n1220', 'Wood'), ('n1228', 'Cedar'), ('n1229', 'Cedar'), ('n1364', 'Cedar'), ('n1365', 'Wood'), ('n1373', 'Cedar'), ('n1374', 'Cedar'), ('n1509', 'Cedar'), ('n1537', 'Wood'), ('n1540', 'Wood'), ('n1667', 'Wood'), ('n1670', 'Wood'), ('n2142', 'Wood'), ('n2165', 'Warm Woods'), ('n2166', 'Warm Woods'), ('n2188', 'Warm Woods'), ('n2190', 'Warm Woods'), ('n2191', 'Warm Woods'), ('n2192', 'Warm Woods'), ('n2196', 'Warm Woods'), ('n2198', 'Classic Woods'), ('n2200', 'Warm Woods'), ('n2201', 'Warm Woods'), ('n2202', 'Warm Woods'), ('n2205', 'Warm Woods'), ('n2234', 'Warm Woods'), ('n2243', 'Citrus & Woods'), ('n2246', 'Warm Woods'), ('n2255', 'Citrus & Woods'), ('n2257', 'Warm Woods'), ('n2265', 'Warm Woods'), ('n2268', 'Warm Woods'), ('n2269', 'Citrus & Woods'), ('n2272', 'Warm Woods'), ('n2289', 'Warm Woods'), ('n2294', 'Warm Woods'), ('n2297', 'Warm Woods'), ('n2301', 'Warm Woods'), ('n2304', 'Warm Woods'), ('n2308', 'Warm Woods'), ('n2403', 'Citrus & Woods'), ('n2405', 'Warm Woods'), ('n2412', 'rm Woods'), ('n2415', 'Warm Woods'), ('n2417', 'Citrus & Woods'), ('n2419', 'Citrus & Woods'), ('n2420', 'Citrus & Woods'), ('n2444', 'Citrus & Woods'), ('n2452', 'Citrus & Woods'), ('n2455', 'Citrus & Woods'), ('n2460', 'Citrus & Woods'), ('n2461', 'Citrus & Woods'), ('n2464', 'Citrus & Woods'), ('n2468', 'Citrus & Woods'), ('n2473', 'Citrus & Woods')]\n",
      "\n",
      "Cluster  6\n",
      "[('n13', 'Orange,Vanilla'), ('n56', 'Vanilla'), ('n104', 'Vanilla'), ('n110', 'Orange,Vanilla'), ('n142', 'Orange,Vanilla'), ('n187', 'Vanilla'), ('n233', 'Vanilla'), ('n239', 'Orange,Vanilla'), ('n275', 'Orange,Vanilla'), ('n384', 'Vanilla'), ('n386', 'Vanilla'), ('n461', 'Vanilla'), ('n488', 'Vanilla'), ('n490', 'Vanilla'), ('n565', 'Vanilla'), ('n634', 'Vanilla'), ('n637', 'Vanilla,Fresh'), ('n659', 'Vanilla'), ('n663', 'Vanilla,Almond'), ('n684', 'Vanilla'), ('n697', 'Vanilla'), ('n704', 'Vanilla'), ('n722', 'Vanilla,Fresh'), ('n723', 'Vanilla'), ('n724', 'Vanilla'), ('n757', 'Vanilla'), ('n797', 'Vanilla'), ('n810', 'Vanilla'), ('n817', 'Vanilla'), ('n835', 'Vanilla,Fresh'), ('n836', 'Vanilla'), ('n837', 'Vanilla'), ('n867', 'Vanilla'), ('n909', 'Vanilla'), ('n913', 'Vanilla'), ('n920', 'Vanilla'), ('n941', 'Vanilla'), ('n987', 'Vanilla'), ('n1063', 'Vanilla,Almond'), ('n1140', 'Vanilla,Almond'), ('n1301', 'Vanilla'), ('n1310', 'Vanilla'), ('n1332', 'Vanilla'), ('n1446', 'Vanilla'), ('n1455', 'Vanilla'), ('n1477', 'Vanilla'), ('n1527', 'Vanilla'), ('n1595', 'Vanilla'), ('n1596', 'Vanilla'), ('n1597', 'Vanilla'), ('n1598', 'Vanilla'), ('n1599', 'Vanilla'), ('n1600', 'Vanilla'), ('n1601', 'Vanilla'), ('n1602', 'Vanilla'), ('n1619', 'Vanilla'), ('n1629', 'Vanilla'), ('n1630', 'Vanilla'), ('n1657', 'Vanilla'), ('n1725', 'Vanilla'), ('n1726', 'Vanilla'), ('n1727', 'Vanilla'), ('n1728', 'Vanilla'), ('n1729', 'Vanilla'), ('n1730', 'Vanilla'), ('n1731', 'Vanilla'), ('n1732', 'Vanilla'), ('n1749', 'Vanilla'), ('n1759', 'Vanilla'), ('n1760', 'Vanilla')]\n",
      "\n",
      "Cluster  7\n",
      "[('n27', 'Coco chanel'), ('n46', 'Coco'), ('n81', 'Ciao'), ('n82', 'Ciao'), ('n83', 'Ciao'), ('n101', 'Coco chanel'), ('n156', 'Coco chanel'), ('n177', 'Coco'), ('n210', 'Ciao'), ('n211', 'Ciao'), ('n212', 'Ciao'), ('n230', 'Coco chanel'), ('n283', 'CAROLINA HERRERA, Carolina Herrera'), ('n1040', 'Guerlain Homme, Guerlain'), ('n1117', 'Guerlain Homme, Guerlain'), ('n1256', 'The One, Dolce & Gabbana'), ('n1257', 'The One, Dolce & Gabbana'), ('n1290', 'Vera Wang'), ('n1313', 'Carolina Herrera EDT SPRAY 3.4 OZ'), ('n1401', 'The One, Dolce & Gabbana'), ('n1402', 'The One, Dolce & Gabbana'), ('n1435', 'Vera Wang'), ('n1458', 'Carolina Herrera EDT SPRAY 3.4 OZ'), ('n1497', 'Touch of Pink, Lacoste'), ('n1510', 'MAISON FRANCIS K. BACCARAT 540 IMPRESSION'), ('n1511', 'MAISON FRANCIS K. BACCARAT 540 IMPRESSION'), ('n1512', 'MAISON FRANCIS K. BACCARAT 540 IMPRESSION'), ('n1513', 'MAISON FRANCIS K. BACCARAT 540 IMPRESSION'), ('n1514', 'MAISON FRANCIS K. BACCARAT 540 IMPRESSION'), ('n1515', 'MAISON FRANCIS K. BACCARAT 540 IMPRESSION'), ('n1516', 'MAISON FRANCIS K. BACCARAT 540 IMPRESSION'), ('n1556', 'Code, SI, Aqua di Gioia, bc its you, Aqua di Gio'), ('n1558', 'Acqua di gio'), ('n1559', 'ACQUA DI GIO, Giorgio Armani'), ('n1563', 'ACQUA DI GIO, Giorgio Armani'), ('n1585', 'Armani Acqua Di Gio'), ('n1608', 'BACCARAT ROUGE 540'), ('n1628', 'Acqua Di Gioia, Giorgio Armani'), ('n1686', 'Code, SI, Aqua di Gioia, bc its you, Aqua di Gio'), ('n1688', 'Acqua di gio'), ('n1689', 'ACQUA DI GIO, Giorgio Armani'), ('n1693', 'ACQUA DI GIO, Giorgio Armani'), ('n1715', 'Armani Acqua Di Gio'), ('n1738', 'BACCARAT ROUGE 540'), ('n1758', 'Acqua Di Gioia, Giorgio Armani'), ('n1815', 'ACQUA DI GIO, Giorgio Armani'), ('n1861', 'Açai Baie'), ('n1889', 'Gucci'), ('n1897', 'GUCCI RUSH 2, Gucci'), ('n1988', 'Gucci'), ('n1996', 'GUCCI RUSH 2, Gucci'), ('n2086', 'Gucci Guilty, Gucci'), ('n2116', 'Gucci made to measure'), ('n2129', 'Gucci'), ('n2143', 'Gucci Pour Homme Sport, Gucci')]\n",
      "\n",
      "Cluster  8\n",
      "[('n1', 'Floral,Fresh'), ('n11', 'Floral'), ('n19', 'Floral'), ('n51', 'Floral'), ('n52', 'Floral'), ('n53', 'Floral'), ('n54', 'Floral-Frutiy'), ('n63', 'Floral'), ('n70', 'Floral'), ('n72', 'Floral'), ('n87', 'Floral'), ('n88', 'Floral'), ('n90', 'Floral'), ('n111', 'Floral'), ('n112', 'Floral'), ('n113', 'Floral'), ('n121', 'Floral'), ('n130', 'Floral,Fresh'), ('n140', 'Floral'), ('n148', 'Floral'), ('n182', 'Floral'), ('n183', 'Floral'), ('n184', 'Floral'), ('n185', 'Floral-Frutiy'), ('n194', 'Floral'), ('n201', 'Floral'), ('n203', 'Floral'), ('n216', 'Floral'), ('n217', 'Floral'), ('n219', 'Floral'), ('n240', 'Floral'), ('n241', 'Floral'), ('n242', 'Floral'), ('n250', 'Floral'), ('n289', 'Floral,Fresh'), ('n291', 'Abstract Floral'), ('n292', 'Floral'), ('n293', 'Floral'), ('n294', 'Floral'), ('n295', 'Floral'), ('n343', 'Floral'), ('n346', 'Floral'), ('n347', 'Floral'), ('n353', 'Abstract Floral'), ('n355', 'Floral'), ('n359', 'Floral,Fresh'), ('n366', 'Floral'), ('n367', 'Abstract Floral'), ('n372', 'Floral'), ('n377', 'Floral'), ('n378', 'Floral'), ('n379', 'Floral'), ('n380', 'Floral'), ('n388', 'Floral'), ('n389', 'Floral'), ('n394', 'Floral'), ('n413', 'Floral'), ('n414', 'Floral'), ('n432', 'Floral'), ('n433', 'Floral'), ('n434', 'Floral'), ('n438', 'Floral'), ('n440', 'Floral'), ('n453', 'Floral'), ('n460', 'Floral'), ('n466', 'Floral'), ('n467', 'Floral'), ('n469', 'Floral'), ('n476', 'Floral'), ('n481', 'Floral'), ('n482', 'Floral'), ('n483', 'Floral'), ('n484', 'Floral'), ('n492', 'Floral'), ('n493', 'Floral'), ('n498', 'Floral'), ('n517', 'Floral'), ('n518', 'Floral'), ('n536', 'Floral'), ('n537', 'Floral'), ('n538', 'Floral'), ('n542', 'Floral'), ('n544', 'Floral'), ('n557', 'Floral'), ('n564', 'Floral'), ('n570', 'Floral'), ('n571', 'Floral'), ('n573', 'Floral'), ('n601', 'Floral'), ('n607', 'Floral'), ('n609', 'Floral'), ('n620', 'Floral'), ('n626', 'Floral'), ('n631', 'Floral'), ('n633', 'Floral'), ('n635', 'Floral'), ('n645', 'Woody Floral'), ('n646', 'Woody Floral'), ('n647', 'Woody Floral'), ('n657', 'Floral'), ('n660', 'Floral'), ('n664', 'Floral'), ('n665', 'Floral'), ('n666', 'Floral,Fresh'), ('n675', 'Floral'), ('n676', 'Floral,Orange'), ('n677', 'Floral,Orange'), ('n679', 'Floral'), ('n680', 'Floral'), ('n681', 'Floral'), ('n682', 'Floral-Frutiy'), ('n685', 'Floral'), ('n686', 'Floral'), ('n688', 'Floral'), ('n690', 'Floral'), ('n691', 'Floral'), ('n693', 'Floral'), ('n694', 'Floral'), ('n701', 'Floral'), ('n711', 'Floral'), ('n712', 'Floral'), ('n713', 'Floral'), ('n714', 'Floral'), ('n715', 'Floral'), ('n716', 'Floral'), ('n717', 'Floral'), ('n719', 'Floral'), ('n728', 'Floral'), ('n733', 'Floral'), ('n734', 'Floral'), ('n751', 'Floral'), ('n752', 'Floral'), ('n753', 'Floral'), ('n754', 'Floral'), ('n755', 'Floral-Frutiy'), ('n768', 'Amber Floral'), ('n769', 'Floral'), ('n776', 'Floral'), ('n789', 'Floral,Orange'), ('n790', 'Floral,Orange'), ('n792', 'Floral'), ('n793', 'Floral'), ('n794', 'Floral'), ('n795', 'Floral-Frutiy'), ('n798', 'Floral'), ('n799', 'Floral'), ('n801', 'Floral'), ('n803', 'Floral'), ('n804', 'Floral'), ('n806', 'Floral'), ('n807', 'Floral'), ('n814', 'Floral'), ('n824', 'Floral'), ('n825', 'Floral'), ('n826', 'Floral'), ('n827', 'Floral'), ('n828', 'Floral'), ('n829', 'Floral'), ('n830', 'Floral'), ('n832', 'Floral'), ('n841', 'Floral'), ('n846', 'Floral'), ('n847', 'Floral'), ('n861', 'Floral'), ('n862', 'Floral'), ('n863', 'Floral'), ('n864', 'Floral'), ('n865', 'Floral-Frutiy'), ('n878', 'Amber Floral'), ('n879', 'Floral'), ('n886', 'Floral'), ('n914', 'Floral'), ('n915', 'Floral'), ('n916', 'Floral'), ('n917', 'Floral'), ('n918', 'Floral-Frutiy'), ('n924', 'Floral'), ('n944', 'Floral'), ('n945', 'Floral'), ('n949', 'Floral'), ('n969', 'Floral'), ('n970', 'Floral'), ('n973', 'Floral,Orange'), ('n974', 'Floral'), ('n976', 'Floral'), ('n978', 'Floral'), ('n981', 'Floral-Frutiy'), ('n982', 'Floral'), ('n983', 'Floral'), ('n984', 'Floral'), ('n985', 'Floral'), ('n991', 'Floral'), ('n996', 'Floral'), ('n999', 'Floral'), ('n1013', 'Floral'), ('n1025', 'Floral'), ('n1026', 'Floral'), ('n1027', 'Floral'), ('n1028', 'Floral'), ('n1047', 'Floral'), ('n1048', 'Floral'), ('n1049', 'Floral'), ('n1056', 'Floral,Almond'), ('n1090', 'Floral'), ('n1102', 'Floral'), ('n1103', 'Floral'), ('n1104', 'Floral'), ('n1105', 'Floral'), ('n1124', 'Floral'), ('n1125', 'Floral'), ('n1126', 'Floral'), ('n1133', 'Floral,Almond'), ('n1158', 'Floral'), ('n1188', 'Floral,Fresh'), ('n1200', 'Floral'), ('n1201', 'Floral'), ('n1202', 'Floral'), ('n1207', 'Floral'), ('n1208', 'Floral'), ('n1210', 'Floral'), ('n1211', 'Floral'), ('n1241', 'Floral,Fresh'), ('n1262', 'Floral'), ('n1263', 'Floral'), ('n1264', 'Floral'), ('n1293', 'Floral'), ('n1303', 'Floral'), ('n1305', 'Floral'), ('n1306', 'Floral'), ('n1307', 'Floral'), ('n1308', 'Floral-Frutiy'), ('n1324', 'Floral'), ('n1325', 'Floral'), ('n1326', 'Floral'), ('n1333', 'Floral'), ('n1337', 'Floral'), ('n1345', 'Floral'), ('n1346', 'Floral'), ('n1347', 'Floral'), ('n1352', 'Floral'), ('n1353', 'Floral'), ('n1355', 'Floral'), ('n1356', 'Floral'), ('n1386', 'Floral,Fresh'), ('n1407', 'Floral'), ('n1408', 'Floral'), ('n1409', 'Floral'), ('n1438', 'Floral'), ('n1448', 'Floral'), ('n1450', 'Floral'), ('n1451', 'Floral'), ('n1452', 'Floral'), ('n1453', 'Floral-Frutiy'), ('n1469', 'Floral'), ('n1470', 'Floral'), ('n1471', 'Floral'), ('n1478', 'Floral'), ('n1482', 'Floral'), ('n1507', 'Floral'), ('n1543', 'Floral'), ('n1544', 'Floral'), ('n1545', 'Floral'), ('n1548', 'Floral'), ('n1550', 'Floral'), ('n1557', 'Floral'), ('n1566', 'Floral'), ('n1570', 'Floral'), ('n1586', 'Floral'), ('n1593', 'Floral'), ('n1606', 'Floral'), ('n1607', 'Floral'), ('n1610', 'Woody Floral'), ('n1620', 'Floral'), ('n1621', 'Floral'), ('n1622', 'Floral'), ('n1623', 'Floral'), ('n1624', 'Floral,Fresh'), ('n1633', 'Floral'), ('n1673', 'Floral'), ('n1674', 'Floral'), ('n1675', 'Floral'), ('n1678', 'Floral'), ('n1680', 'Floral'), ('n1687', 'Floral'), ('n1696', 'Floral'), ('n1700', 'Floral'), ('n1716', 'Floral'), ('n1723', 'Floral'), ('n1736', 'Floral'), ('n1737', 'Floral'), ('n1740', 'Woody Floral'), ('n1750', 'Floral'), ('n1751', 'Floral'), ('n1752', 'Floral'), ('n1753', 'Floral'), ('n1754', 'Floral,Fresh'), ('n1763', 'Floral'), ('n1784', 'Floral'), ('n1790', 'Floral'), ('n1791', 'Floral'), ('n1794', 'Floral'), ('n1795', 'Floral'), ('n1800', 'Floral'), ('n1801', 'Floral'), ('n1802', 'Floral'), ('n1810', 'Floral'), ('n1812', 'Floral'), ('n1819', 'Floral'), ('n1820', 'Floral'), ('n1828', 'Floral'), ('n1839', 'Floral'), ('n1844', 'Floral'), ('n1849', 'Floral'), ('n1851', 'Fresh, Floral'), ('n1853', 'Floral'), ('n1869', 'Floral'), ('n1876', 'Floral'), ('n1877', 'Floral'), ('n1878', 'Floral'), ('n1879', 'Floral'), ('n1881', 'Floral'), ('n1882', 'Floral'), ('n1883', 'Floral'), ('n1885', 'Floral'), ('n1887', 'Floral'), ('n1888', 'Floral'), ('n1892', 'Floral'), ('n1893', 'Floral'), ('n1894', 'Floral'), ('n1895', 'Floral'), ('n1896', 'Floral'), ('n1898', 'Floral'), ('n1904', 'Floral,Fresh'), ('n1913', 'Floral'), ('n1917', 'Floral'), ('n1918', 'Floral'), ('n1928', 'Floral'), ('n1929', 'Floral'), ('n1930', 'Floral'), ('n1931', 'Floral'), ('n1932', 'Floral'), ('n1936', 'Floral,Fresh'), ('n1938', 'Amber Floral'), ('n1942', 'Floral'), ('n1944', 'Floral'), ('n1946', 'Floral'), ('n1947', 'Floral'), ('n1949', 'Floral'), ('n1963', 'Floral'), ('n1970', 'Floral'), ('n1975', 'Floral'), ('n1976', 'Floral'), ('n1977', 'Floral'), ('n1978', 'Floral'), ('n1980', 'Floral'), ('n1981', 'Floral'), ('n1982', 'Floral'), ('n1984', 'Floral'), ('n1986', 'Floral'), ('n1987', 'Floral'), ('n1991', 'Floral'), ('n1992', 'Floral'), ('n1993', 'Floral'), ('n1994', 'Floral'), ('n1995', 'Floral'), ('n1997', 'Floral'), ('n2011', 'Floral'), ('n2015', 'Floral'), ('n2016', 'Floral'), ('n2026', 'Floral'), ('n2027', 'Floral'), ('n2028', 'Floral'), ('n2029', 'Floral'), ('n2030', 'Floral'), ('n2034', 'Floral,Fresh'), ('n2036', 'Amber Floral'), ('n2040', 'Floral'), ('n2042', 'Floral'), ('n2044', 'Floral'), ('n2045', 'Floral'), ('n2047', 'Floral'), ('n2061', 'Floral'), ('n2070', 'Floral'), ('n2071', 'Floral'), ('n2072', 'Floral'), ('n2073', 'Floral'), ('n2084', 'Floral'), ('n2091', 'Floral'), ('n2092', 'Floral'), ('n2095', 'Floral'), ('n2109', 'Floral,Fresh'), ('n2112', 'Floral'), ('n2130', 'Floral'), ('n2131', 'Floral'), ('n2132', 'Floral'), ('n2137', 'Floral'), ('n2138', 'Floral'), ('n2141', 'Floral'), ('n2153', 'Floral,Raspberry'), ('n2158', 'Floral'), ('n2159', 'Classic Floral'), ('n2162', 'Classic Florals'), ('n2167', 'Powdery Floral'), ('n2172', 'Classic Florals'), ('n2173', 'Powdery Florals'), ('n2174', 'Classic Florals'), ('n2184', 'Powdery Floral'), ('n2185', 'Powdery Floral'), ('n2193', 'Powdery Floral'), ('n2213', 'Fresh Florals'), ('n2218', 'Fresh Florals'), ('n2228', 'Fresh Florals'), ('n2239', 'Classic Florals'), ('n2261', 'Classic Florals'), ('n2332', 'Classic Florals'), ('n2351', 'Powdery Floral'), ('n2378', 'Fresh Florals'), ('n2383', 'Fresh Florals'), ('n2433', 'Classic Floral'), ('n2438', 'Classic Floral'), ('n2440', 'Classic Florals'), ('n2443', 'Classic Florals'), ('n2448', 'Classic Floral'), ('n2451', 'Fresh Floral'), ('n2453', 'Classic Florals'), ('n2456', 'Classic Florals'), ('n2462', 'Classic Floral'), ('n2465', 'Classic Floral'), ('n2481', 'Classic Florals'), ('n2482', 'Classic Florals'), ('n2490', 'Classic Floral'), ('n2493', 'Classic Florals'), ('n2497', 'Classic Floral'), ('n2498', 'Classic Florals'), ('n2502', 'Classic Floral'), ('n2504', 'Classic Florals'), ('n2514', 'Classic Florals'), ('n2516', 'Classic Floral'), ('n2517', 'Classic Floral')]\n",
      "\n",
      "Cluster  9\n",
      "[('n92', 'Spicy Oriental'), ('n117', 'Oriental'), ('n221', 'Spicy Oriental'), ('n246', 'Oriental'), ('n335', 'Oriental'), ('n390', 'Oriental'), ('n410', 'Oriental'), ('n416', 'Oriental'), ('n418', 'Oriental'), ('n435', 'Fruity & Oriental'), ('n445', 'Oriental'), ('n446', 'Oriental'), ('n494', 'Oriental'), ('n514', 'Oriental'), ('n520', 'Oriental'), ('n522', 'Oriental'), ('n539', 'Fruity & Oriental'), ('n549', 'Oriental'), ('n550', 'Oriental'), ('n596', 'Oriental'), ('n603', 'Mandarin'), ('n725', 'Oriental'), ('n735', 'Fruity & Oriental'), ('n838', 'Oriental'), ('n848', 'Fruity & Oriental'), ('n1005', 'Oriental'), ('n1055', 'Oriental'), ('n1071', 'Oriental'), ('n1082', 'Oriental'), ('n1132', 'Oriental'), ('n1148', 'Oriental'), ('n1160', 'Oriental'), ('n1189', 'Oriental'), ('n1190', 'Oriental'), ('n1191', 'Oriental'), ('n1192', 'Oriental'), ('n1193', 'Oriental'), ('n1194', 'Oriental'), ('n1195', 'Oriental'), ('n1196', 'Oriental'), ('n1910', 'Oriental'), ('n2008', 'Oriental'), ('n2088', 'Oriental')]\n",
      "\n",
      "Cluster  10\n",
      "[('n34', 'Musk, Vanilla, Floral, Patchouli'), ('n77', 'Floral woody musk'), ('n78', 'Floral woody musk'), ('n79', 'Floral woody musk'), ('n163', 'Musk, Vanilla, Floral, Patchouli'), ('n174', 'Floral woody musk'), ('n175', 'Floral woody musk'), ('n176', 'Floral woody musk'), ('n296', 'Floral Musk'), ('n307', 'Floral woody musk'), ('n308', 'Floral Musk'), ('n309', 'Floral Musk'), ('n407', 'Floral woody musk'), ('n408', 'Floral woody musk'), ('n409', 'Floral woody musk'), ('n511', 'Floral woody musk'), ('n512', 'Floral woody musk'), ('n513', 'Floral woody musk'), ('n667', 'Floral woody musk'), ('n668', 'Floral Musk'), ('n669', 'Floral Musk'), ('n742', 'Floral woody musk'), ('n743', 'Floral woody musk'), ('n744', 'Floral woody musk'), ('n856', 'Floral woody musk'), ('n857', 'Floral woody musk'), ('n858', 'Floral woody musk'), ('n928', 'Floral Musk'), ('n1075', 'Floral woody musk'), ('n1076', 'Floral woody musk'), ('n1077', 'Floral woody musk'), ('n1152', 'Floral woody musk'), ('n1153', 'Floral woody musk'), ('n1154', 'Floral woody musk'), ('n1172', 'Floral Musk'), ('n1251', 'Floral woody musk'), ('n1252', 'Floral Musk'), ('n1253', 'Floral Musk'), ('n1336', 'Musk'), ('n1340', 'Floral woody musk'), ('n1341', 'Floral woody musk'), ('n1342', 'Floral woody musk'), ('n1396', 'Floral woody musk'), ('n1397', 'Floral Musk'), ('n1398', 'Floral Musk'), ('n1481', 'Musk'), ('n1485', 'Floral woody musk'), ('n1486', 'Floral woody musk'), ('n1487', 'Floral woody musk'), ('n1495', 'Floral Musk'), ('n1506', 'Musk, Floral'), ('n1785', 'Floral Musk'), ('n1807', 'Floral woody musk'), ('n1808', 'Floral woody musk'), ('n1809', 'Floral woody musk'), ('n1956', 'Floral woody musk'), ('n1957', 'Floral Musk'), ('n1958', 'Floral Musk'), ('n2054', 'Floral woody musk'), ('n2055', 'Floral Musk'), ('n2056', 'Floral Musk'), ('n2081', 'Floral woody musk'), ('n2082', 'Floral woody musk'), ('n2083', 'Floral woody musk'), ('n2093', 'Woody Musk')]\n",
      "\n",
      "Cluster  11\n",
      "[('n80', 'Lavender'), ('n209', 'Lavender'), ('n285', 'ALLURE SENSUELLE For Women By CHANEL 3.4 oz EDP Spray'), ('n348', 'Rosemary,Lavender'), ('n423', 'Aromatic Fougere'), ('n457', 'Christian Dior scent'), ('n527', 'Aromatic Fougere'), ('n561', 'Christian Dior scent'), ('n610', 'Lavender'), ('n623', 'Rosemary,Lemon,Fresh,Basil'), ('n625', 'Lavender'), ('n1001', 'Lavender'), ('n1007', 'Floral,Vanilla,Lavender,Citrus'), ('n1030', 'Fresh,Lavender,Citrus'), ('n1058', 'Floral,Fresh,Lavender'), ('n1078', 'Fougère, Aromatic'), ('n1084', 'Floral,Vanilla,Lavender,Citrus'), ('n1107', 'Fresh,Lavender,Citrus'), ('n1135', 'Floral,Fresh,Lavender'), ('n1155', 'Fougère, Aromatic'), ('n1177', 'Honey & The Moon'), ('n1178', 'Honey & The Moon'), ('n1179', 'Honey & The Moon'), ('n1237', 'Bergamot, lavender, mint'), ('n1296', 'Lavender'), ('n1311', 'Lavender'), ('n1312', 'Lavender'), ('n1382', 'Bergamot, lavender, mint'), ('n1441', 'Lavender'), ('n1456', 'Lavender'), ('n1457', 'Lavender'), ('n1498', 'Aromatic Fresh'), ('n1499', 'Rosemary,Lavender,Thyme'), ('n1500', 'Lavender'), ('n1518', 'Lavender'), ('n1536', 'Aromatic'), ('n1538', 'Rosemary,Lemon,Lavender'), ('n1539', 'Rosemary,Lemon,Lavender'), ('n1541', 'Lemon,Lavender'), ('n1546', 'Aromatic'), ('n1554', 'Rosemary,Lavender'), ('n1555', 'Rosemary,Fresh,Lavender'), ('n1583', 'Lavender,Citrus'), ('n1591', 'Aromatic Aquatic'), ('n1640', 'Rosemary,Fresh,Lavender'), ('n1651', 'Honey & The Moon'), ('n1652', 'Honey & The Moon'), ('n1653', 'Honey & The Moon'), ('n1666', 'Aromatic'), ('n1668', 'Rosemary,Lemon,Lavender'), ('n1669', 'Rosemary,Lemon,Lavender'), ('n1671', 'Lemon,Lavender'), ('n1676', 'Aromatic'), ('n1684', 'Rosemary,Lavender'), ('n1685', 'Rosemary,Fresh,Lavender'), ('n1713', 'Lavender,Citrus'), ('n1721', 'Aromatic Aquatic'), ('n1770', 'Rosemary,Fresh,Lavender'), ('n1781', 'Honey & The Moon'), ('n1782', 'Honey & The Moon'), ('n1783', 'Honey & The Moon'), ('n1787', 'Aromatic'), ('n1842', 'Aromatic Aquatic'), ('n1860', 'Crème Vanille'), ('n1862', 'Crème Vanille'), ('n1916', 'Orange,Lemon,Lavender'), ('n1950', 'Lavender'), ('n1951', 'Lavender'), ('n1952', 'Lavender'), ('n2014', 'Orange,Lemon,Lavender'), ('n2048', 'Lavender'), ('n2049', 'Lavender'), ('n2050', 'Lavender'), ('n2117', 'Lavender'), ('n2128', 'Lemon,Lavender'), ('n2154', 'Cedar,Lemon,Lavender'), ('n2155', 'Lavender'), ('n2156', 'Lavender'), ('n2157', 'Lavender'), ('n2197', 'Earthy Greens and Herbs')]\n",
      "\n",
      "Cluster  12\n",
      "[('n69', 'Aromatic, Wood'), ('n95', 'AmberWood'), ('n96', 'Oriental woody'), ('n200', 'Aromatic, Wood'), ('n224', 'AmberWood'), ('n225', 'Oriental woody'), ('n282', 'Aromatic, Wood'), ('n315', 'Aromatic, Wood'), ('n316', 'Woody, aromatic fragrance'), ('n775', 'AmberWood'), ('n885', 'AmberWood'), ('n1006', 'Oriental Woody'), ('n1032', 'Woody and aromatic'), ('n1037', 'Woody aquatic'), ('n1038', 'Woody aquatic'), ('n1062', 'AmberWood'), ('n1083', 'Oriental Woody'), ('n1109', 'Woody and aromatic'), ('n1114', 'Woody aquatic'), ('n1115', 'Woody aquatic'), ('n1139', 'AmberWood'), ('n1163', 'Woody Spicy'), ('n1276', 'Woody Oriental'), ('n1277', 'Woody Oriental'), ('n1327', 'Oriental Woody'), ('n1328', 'Oriental Woody'), ('n1329', 'Oriental Woody'), ('n1330', 'Oriental Woody'), ('n1421', 'Woody Oriental'), ('n1422', 'Woody Oriental'), ('n1472', 'Oriental Woody'), ('n1473', 'Oriental Woody'), ('n1474', 'Oriental Woody'), ('n1475', 'Oriental Woody'), ('n1611', 'Woody Floral Amber'), ('n1741', 'Woody Floral Amber'), ('n1871', 'Tamarind, Cardamom and Bamboo Stem'), ('n1945', 'Woody Spicy'), ('n2043', 'Woody Spicy'), ('n2203', 'Woody Spices'), ('n2287', 'Woody Spices'), ('n2418', 'Woody Spices'), ('n2421', 'Woody Spices'), ('n2471', 'Woody Spices'), ('n2503', 'Woody Spices'), ('n2507', 'Woody Spices'), ('n2510', 'Woody  Spices'), ('n2511', 'Woody Spices'), ('n2513', 'Woody Spices')]\n",
      "\n",
      "Cluster  13\n",
      "[('n9', 'Eau De Parfum'), ('n17', 'CHANEL NO.5 3.4 FL OZ 100mL EAU DE PARFUM'), ('n18', 'CHANEL NO.5 3.4 FL OZ 100mL EAU DE PARFUM'), ('n138', 'Eau De Parfum'), ('n146', 'CHANEL NO.5 3.4 FL OZ 100mL EAU DE PARFUM'), ('n147', 'CHANEL NO.5 3.4 FL OZ 100mL EAU DE PARFUM'), ('n317', 'Chanel Bleu De By for Men Eau De Parfum Spray'), ('n354', 'CHANEL NO.5 3.4 FL OZ 100mL EAU DE PARFUM'), ('n368', 'CHANEL NO.5 3.4 FL OZ 100mL EAU DE PARFUM'), ('n381', 'Eau De Toilette'), ('n421', 'Fougereu00a0'), ('n470', 'Eau De Toilette'), ('n485', 'Eau De Toilette'), ('n525', 'Fougereu00a0'), ('n574', 'Eau De Toilette'), ('n579', 'PAUL SEBASTIAN, Paul Sebastian'), ('n591', 'Dior Sauvage'), ('n593', 'Dior Homme Intense'), ('n639', 'Eau De Parfum'), ('n648', 'Eau De Toilette'), ('n653', 'Dior Homme Intense'), ('n656', 'Eau De Toilette'), ('n939', 'La Vie Est Belle Soleil Cristal'), ('n964', 'Eau De Parfum'), ('n1017', \"L'instant, Guerlain\"), ('n1036', 'Du Coq, Guerlain'), ('n1094', \"L'instant, Guerlain\"), ('n1113', 'Du Coq, Guerlain'), ('n1173', 'La Vie La Mort'), ('n1174', 'La Vie La Mort'), ('n1175', 'La Vie La Mort'), ('n1278', 'PAUL SEBASTIAN, Paul Sebastian'), ('n1423', 'PAUL SEBASTIAN, Paul Sebastian'), ('n1489', 'Le Petit'), ('n1490', 'Le Petit'), ('n1491', 'Le Petit'), ('n1492', 'La Vie La Mort'), ('n1493', 'La Vie La Mort'), ('n1494', 'La Vie La Mort'), ('n1501', 'Eau De Toilette'), ('n1502', 'EROS POUR FEMME'), ('n1503', 'EROS POUR FEMME'), ('n1525', 'Si'), ('n1535', 'Eau De Parfum'), ('n1547', 'Eau De Parfum'), ('n1561', 'Eau De Toilette'), ('n1562', 'Eau De Toilette'), ('n1579', 'Corde, Aqua De Gio, Pour Homme, ADG'), ('n1612', 'Si'), ('n1613', 'Si'), ('n1647', 'Eau De Toilette'), ('n1655', 'Si'), ('n1665', 'Eau De Parfum'), ('n1677', 'Eau De Parfum'), ('n1691', 'Eau De Toilette'), ('n1692', 'Eau De Toilette'), ('n1709', 'Corde, Aqua De Gio, Pour Homme, ADG'), ('n1742', 'Si'), ('n1743', 'Si'), ('n1777', 'Eau De Toilette'), ('n1796', 'Eau De Parfum'), ('n1816', 'Eau De Toilette'), ('n1856', 'Si'), ('n1857', 'Si'), ('n2097', 'Eau de Gucci'), ('n2139', \"Dolly 'Scent from Above' Eau de Toilette\")]\n",
      "\n",
      "Cluster  14\n",
      "[('n297', 'IF | Modern White Floral & Citrus'), ('n298', 'IF | Modern White Floral & Citrus'), ('n299', 'IF | Modern White Floral & Citrus'), ('n429', 'IF | Modern White Floral & Citrus'), ('n430', 'IF | Modern White Floral & Citrus'), ('n431', 'IF | Modern White Floral & Citrus'), ('n533', 'IF | Modern White Floral & Citrus'), ('n534', 'IF | Modern White Floral & Citrus'), ('n535', 'IF | Modern White Floral & Citrus'), ('n612', 'IF | Modern White Floral & Citrus'), ('n613', 'IF | Modern White Floral & Citrus'), ('n614', 'IF | Modern White Floral & Citrus'), ('n1279', 'IF | Modern White Floral & Citrus'), ('n1280', 'IF | Modern White Floral & Citrus'), ('n1281', 'IF | Modern White Floral & Citrus'), ('n1424', 'IF | Modern White Floral & Citrus'), ('n1425', 'IF | Modern White Floral & Citrus'), ('n1426', 'IF | Modern White Floral & Citrus'), ('n1804', 'IF | Modern White Floral & Citrus'), ('n1805', 'IF | Modern White Floral & Citrus'), ('n1806', 'IF | Modern White Floral & Citrus'), ('n1967', 'IF | Modern White Floral & Citrus'), ('n1968', 'IF | Modern White Floral & Citrus'), ('n1969', 'IF | Modern White Floral & Citrus'), ('n2065', 'IF | Modern White Floral & Citrus'), ('n2066', 'IF | Modern White Floral & Citrus'), ('n2067', 'IF | Modern White Floral & Citrus')]\n",
      "\n",
      "Cluster  15\n",
      "[('n21', 'Floral,Cedar,Citrus'), ('n23', 'Sandalwood,Vanilla'), ('n28', 'AmberWood, Floral'), ('n29', 'Floral,Orange,Vanilla,Lemon,Fresh'), ('n31', 'Floral,Cedar,Citrus'), ('n33', 'Sandalwood,Vanilla'), ('n57', 'Sandalwood,Vanilla'), ('n58', 'Floral,Cedar,Citrus'), ('n65', 'Cedar,Fresh,Mint,Lemon,Lavender,Citrus'), ('n93', 'A base of vanilla, vetiver and sandalwood creates a warm, dynamic sillage.'), ('n94', 'Floral,Cedar,Lemon,Fresh'), ('n99', 'Floral,Orange,Vanilla,Lemon,Fresh'), ('n100', 'AmberWood, Floral'), ('n102', 'Floral,Cedar,Fresh,Lemon'), ('n106', 'Floral,Sandalwood,Vanilla,Ylang'), ('n116', 'Floral,Sandalwood,Fresh'), ('n150', 'Floral,Cedar,Citrus'), ('n152', 'Sandalwood,Vanilla'), ('n157', 'AmberWood, Floral'), ('n158', 'Floral,Orange,Vanilla,Lemon,Fresh'), ('n160', 'Floral,Cedar,Citrus'), ('n162', 'Sandalwood,Vanilla'), ('n188', 'Sandalwood,Vanilla'), ('n189', 'Floral,Cedar,Citrus'), ('n196', 'Cedar,Fresh,Mint,Lemon,Lavender,Citrus'), ('n222', 'A base of vanilla, vetiver and sandalwood creates a warm, dynamic sillage.'), ('n223', 'Floral,Cedar,Lemon,Fresh'), ('n228', 'Floral,Orange,Vanilla,Lemon,Fresh'), ('n229', 'AmberWood, Floral'), ('n231', 'Floral,Cedar,Fresh,Lemon'), ('n235', 'Floral,Sandalwood,Vanilla,Ylang'), ('n245', 'Floral,Sandalwood,Fresh'), ('n278', 'Cedar,Fresh,Mint,Lemon,Lavender,Citrus'), ('n287', 'Floral,Cedar,Orange,Fresh,Citrus'), ('n290', 'Floral,Vanilla,Citrus'), ('n300', 'Cedar,Orange,Mint'), ('n301', 'Cedar,Orange,Mint'), ('n302', 'Cedar,Orange,Mint'), ('n303', 'Cedar,Orange,Mint'), ('n304', 'Floral,Sandalwood,Fresh'), ('n310', 'Cedar,Fresh,Mint,Lemon,Lavender,Citrus'), ('n323', 'Cedar,Fresh,Mint,Lemon,Lavender,Citrus'), ('n332', 'Sandalwood'), ('n338', 'Floral,Cedar,Citrus'), ('n341', 'Sandalwood,Vanilla'), ('n352', 'Floral,Sandalwood,Fresh'), ('n422', 'Sandalwood'), ('n526', 'Sandalwood'), ('n595', 'Floral,Cedar,Lavender'), ('n630', 'Sandalwood,Cedar,Orange,Rose'), ('n640', 'Sandalwood, Floral Fruity, Magnolia, Apple'), ('n641', 'Sandalwood, Floral Fruity, Magnolia, Apple'), ('n642', 'Sandalwood, Floral Fruity, Magnolia, Apple'), ('n643', 'Sandalwood, Floral Fruity, Magnolia, Apple'), ('n661', 'Floral,Sandalwood'), ('n777', 'Sandalwood'), ('n887', 'Sandalwood'), ('n952', 'Floral,Vanilla,Fresh,Citrus'), ('n953', 'Floral,Cedarwood,Vanilla,Fresh,Citrus'), ('n975', 'Floral,Raspberry,Cedar,Vanilla,Rose'), ('n1000', 'Floral,Sandalwood,Raspberry,Rose'), ('n1010', 'Sandalwood,Vanilla,Rose'), ('n1012', 'Floral,Cedar'), ('n1087', 'Sandalwood,Vanilla,Rose'), ('n1089', 'Floral,Cedar'), ('n1199', 'Sandalwood'), ('n1204', 'Sandalwood,Fresh'), ('n1205', 'Cedar,Vanilla,Fresh'), ('n1212', 'Floral,Sandalwood,Cedar,Fresh'), ('n1224', 'Sandalwood,Cedar,Cinnamon,Fresh,Lavender,Spicy'), ('n1230', 'Sandalwood,Fresh,Lemon,Citrus'), ('n1231', 'Floral,Sandalwood,Cedar,Fresh,Lemon,Citrus'), ('n1232', 'Sandalwood,Lemon,Fresh,Citrus'), ('n1234', 'Sandalwood,Cedar,Fresh'), ('n1235', 'Floral,Cedar,Vanilla,Fresh,Mint,Lavender'), ('n1236', 'Floral,Cedar,Vanilla,Fresh,Mint,Lavender'), ('n1259', 'A blend of a citrus and floral blended with low notes of sandalwood, vanilla, amber and musk'), ('n1270', 'Cardamom, Woody Amber, Caramel, Wood'), ('n1271', 'Caramel Accord, Cardamom, Fougere Ambery, Amber Wood'), ('n1272', 'Caramel Accord, Fougere Ambery Woody, Cardamom, Amber Wood'), ('n1273', 'Cardamom, Woody Amber, Caramel, Wood'), ('n1274', 'Toffee Accord, Fougère Oriental Woody, Cardamom, Amber Wood'), ('n1282', 'Sandalwood, Floral Fruity, Magnolia, Apple'), ('n1283', 'Sandalwood, Floral Fruity, Magnolia, Apple'), ('n1284', 'Sandalwood, Floral Fruity, Magnolia, Apple'), ('n1285', 'Sandalwood, Floral Fruity, Magnolia, Apple'), ('n1299', 'Floral,Sandalwood,Vanilla'), ('n1315', 'Sandalwood, Fougere Aromatic Woody, Lavandin, Green Mandarin'), ('n1316', 'Sandalwood, Fougere Aromatic Woody, Lavandin, Green Mandarin'), ('n1317', 'Sandalwood, Fougere Aromatic Woody, Lavandin, Green Mandarin'), ('n1344', 'Sandalwood'), ('n1349', 'Sandalwood,Fresh'), ('n1350', 'Cedar,Vanilla,Fresh'), ('n1357', 'Floral,Sandalwood,Cedar,Fresh'), ('n1369', 'Sandalwood,Cedar,Cinnamon,Fresh,Lavender,Spicy'), ('n1375', 'Sandalwood,Fresh,Lemon,Citrus'), ('n1376', 'Floral,Sandalwood,Cedar,Fresh,Lemon,Citrus'), ('n1377', 'Sandalwood,Lemon,Fresh,Citrus'), ('n1379', 'Sandalwood,Cedar,Fresh'), ('n1380', 'Floral,Cedar,Vanilla,Fresh,Mint,Lavender'), ('n1381', 'Floral,Cedar,Vanilla,Fresh,Mint,Lavender'), ('n1404', 'A blend of a citrus and floral blended with low notes of sandalwood, vanilla, amber and musk'), ('n1415', 'Cardamom, Woody Amber, Caramel, Wood'), ('n1416', 'Caramel Accord, Cardamom, Fougere Ambery, Amber Wood'), ('n1417', 'Caramel Accord, Fougere Ambery Woody, Cardamom, Amber Wood'), ('n1418', 'Cardamom, Woody Amber, Caramel, Wood'), ('n1419', 'Toffee Accord, Fougère Oriental Woody, Cardamom, Amber Wood'), ('n1427', 'Sandalwood, Floral Fruity, Magnolia, Apple'), ('n1428', 'Sandalwood, Floral Fruity, Magnolia, Apple'), ('n1429', 'Sandalwood, Floral Fruity, Magnolia, Apple'), ('n1430', 'Sandalwood, Floral Fruity, Magnolia, Apple'), ('n1444', 'Floral,Sandalwood,Vanilla'), ('n1460', 'Sandalwood, Fougere Aromatic Woody, Lavandin, Green Mandarin'), ('n1461', 'Sandalwood, Fougere Aromatic Woody, Lavandin, Green Mandarin'), ('n1462', 'Sandalwood, Fougere Aromatic Woody, Lavandin, Green Mandarin'), ('n1521', 'Kentucky Bourbon, Smoked Vetiver, American Oak'), ('n1524', 'Floral,Orange,Vanilla,Citrus'), ('n1533', 'Cedar,Fresh,Lemon,Citrus'), ('n1534', 'Floral,Cedar,Lemon,Mint'), ('n1551', 'Floral,Cedar,Cedarwood,Orange,Vanilla,Fresh,Pineapple,Almond'), ('n1552', 'Cedar,Vanilla'), ('n1568', 'Floral,Cedar,Vanilla,Pineapple'), ('n1589', 'Rosemary,Cedar,Fresh,Citrus'), ('n1618', 'Floral,Cedar,Lemon,Mint'), ('n1654', 'Floral,Orange,Vanilla,Citrus'), ('n1663', 'Cedar,Fresh,Lemon,Citrus'), ('n1664', 'Floral,Cedar,Lemon,Mint'), ('n1681', 'Floral,Cedar,Cedarwood,Orange,Vanilla,Fresh,Pineapple,Almond'), ('n1682', 'Cedar,Vanilla'), ('n1698', 'Floral,Cedar,Vanilla,Pineapple'), ('n1719', 'Rosemary,Cedar,Fresh,Citrus'), ('n1748', 'Floral,Cedar,Lemon,Mint'), ('n1845', 'Apple, Lavendar, Citrus, Cummin, and Woods.'), ('n1865', 'Cedar,Fresh,Lemon,Citrus'), ('n1866', 'Floral,Cedar,Lemon,Mint'), ('n1880', 'Floral,Sandalwood,Vanilla,Ylang'), ('n1890', 'Floral,Sandalwood,Cedar,Vanilla,Almond'), ('n1891', 'Sandalwood,Vanilla'), ('n1899', 'Floral,Sandalwood,Cedar,Vanilla,Fresh'), ('n1906', 'Sandalwood,Orange,Vanilla'), ('n1920', 'Sandalwood,Rose,Citrus'), ('n1939', 'Floral,Sandalwood,Vanilla,Ylang'), ('n1953', 'Aquatic Accord, Lilac, Musk, Strawberry, Lychee'), ('n1955', 'Violet, Sweet Tobacco, Leather, AmberWood, Black Pepper, Amyris, Bergamot, Patchouli, Cedar'), ('n1960', 'Sandalwood,Citrus'), ('n1961', 'Floral,Sandalwood,Orange'), ('n1962', 'Sandalwood,Rose,Citrus'), ('n1979', 'Floral,Sandalwood,Vanilla,Ylang'), ('n1989', 'Floral,Sandalwood,Cedar,Vanilla,Almond'), ('n1990', 'Sandalwood,Vanilla'), ('n1998', 'Floral,Sandalwood,Cedar,Vanilla,Fresh'), ('n2004', 'Sandalwood,Orange,Vanilla'), ('n2018', 'Sandalwood,Rose,Citrus'), ('n2037', 'Floral,Sandalwood,Vanilla,Ylang'), ('n2051', 'Aquatic Accord, Lilac, Musk, Strawberry, Lychee'), ('n2053', 'Violet, Sweet Tobacco, Leather, AmberWood, Black Pepper, Amyris, Bergamot, Patchouli, Cedar'), ('n2058', 'Sandalwood,Citrus'), ('n2059', 'Floral,Sandalwood,Orange'), ('n2060', 'Sandalwood,Rose,Citrus'), ('n2090', 'Floral,Sandalwood,Cedar,Vanilla'), ('n2103', 'Sandalwood,Coriander'), ('n2121', 'Sandalwood,Fresh,Citrus'), ('n2124', 'Cedar,Lime'), ('n2134', 'Cedar,Orange,Lemon,Lavender'), ('n2135', 'Cedar,Orange,Fresh,Mint,Lemon,Lavender'), ('n2147', 'Rosemary,Sandalwood,Floral,Cedar')]\n",
      "\n",
      "Cluster  16\n",
      "[('n940', 'Warm & Sweet Gourmands'), ('n2161', 'Warm Floral'), ('n2169', 'Warm Floral'), ('n2171', 'Warm Florals'), ('n2176', 'Warm Floral'), ('n2177', 'Warm Floral'), ('n2179', 'Warm Florals'), ('n2181', 'Warm Floral'), ('n2186', 'Warm Floral'), ('n2187', 'Warm Floral'), ('n2189', 'Warm Floral'), ('n2194', 'Warm Floral'), ('n2195', 'Warm Floral'), ('n2212', 'Warm Florals'), ('n2221', 'Warm Florals'), ('n2226', 'Warm Florals'), ('n2227', 'Warm & Sweet Gourmands'), ('n2229', 'Warm Florals'), ('n2237', 'Warm Florals'), ('n2238', 'Warm Florals'), ('n2240', 'Warm Florals'), ('n2259', 'Warm & Sweet Gourmands'), ('n2264', 'Warm Florals'), ('n2266', 'Warm Florals'), ('n2273', 'Warm Floral'), ('n2274', 'Warm Florals'), ('n2276', 'Warm Florals'), ('n2277', 'Warm Florals'), ('n2278', 'Warm Florals'), ('n2284', 'Warm Florals'), ('n2288', 'Warm Florals'), ('n2291', 'Warm Florals'), ('n2292', 'Warm Florals'), ('n2295', 'Warm Floral'), ('n2306', 'Warm Florals'), ('n2331', 'Warm & Sweet Gourmands'), ('n2339', 'Warm & Sweet Gourmands'), ('n2347', 'Warm & Sweet Gourmands'), ('n2376', 'Warm & Sweet Gourmands'), ('n2379', 'Warm & Sweet Gourmands'), ('n2390', 'Warm & Sweet Gourmands'), ('n2402', 'Warm Florals'), ('n2404', 'Warm & Sweet Gourmands'), ('n2408', 'Warm Floral'), ('n2410', 'Warm Florals'), ('n2442', 'Warm Floral'), ('n2457', 'Warm Florals'), ('n2467', 'Warm Florals'), ('n2472', 'Warm & Sweet Gourmands'), ('n2495', 'Warm Florals'), ('n2500', 'Warm Florals'), ('n2501', 'Warm Floral'), ('n2505', 'Warm Floral'), ('n2506', 'Warm Floral'), ('n2512', 'Warm Florals'), ('n2515', 'Warm Florals')]\n",
      "\n",
      "Cluster  17\n",
      "[('n16', 'Orange'), ('n24', 'Citrus'), ('n25', 'Citrusy'), ('n64', 'Citrus'), ('n66', 'Citrus'), ('n67', 'Fresh,Citrus'), ('n68', 'Fresh,Citrus'), ('n73', 'Coriander'), ('n75', 'Floral,Orange,Fresh,Citrus'), ('n105', 'Floral,Fresh,Citrus'), ('n109', 'Orange'), ('n145', 'Orange'), ('n153', 'Citrus'), ('n154', 'Citrusy'), ('n195', 'Citrus'), ('n197', 'Citrus'), ('n198', 'Fresh,Citrus'), ('n199', 'Fresh,Citrus'), ('n204', 'Coriander'), ('n206', 'Floral,Orange,Fresh,Citrus'), ('n234', 'Floral,Fresh,Citrus'), ('n238', 'Orange'), ('n274', 'Orange'), ('n276', 'Orange'), ('n277', 'Fresh,Citrus'), ('n279', 'Citrus'), ('n280', 'Citrus'), ('n281', 'Fresh,Citrus'), ('n284', 'Sweet grapefruit'), ('n311', 'Citrus'), ('n312', 'Citrus'), ('n313', 'Fresh,Citrus'), ('n314', 'Fresh,Citrus'), ('n322', 'Mixing citrus, spicy and woody accords'), ('n324', 'Citrus'), ('n325', 'Citrus'), ('n326', 'Fresh,Citrus'), ('n327', 'Fresh,Citrus'), ('n329', 'Citrus'), ('n333', 'Citrus'), ('n334', 'Citrus'), ('n411', 'Spicy'), ('n436', 'Citrus rose'), ('n448', 'Spicy'), ('n455', 'Spicy'), ('n515', 'Spicy'), ('n540', 'Citrus rose'), ('n552', 'Spicy'), ('n559', 'Spicy'), ('n604', 'Citrus'), ('n605', 'Spicy'), ('n615', 'Spicy, Cardamom, Vetiver, Lemon'), ('n616', 'Spicy, Cardamom, Vetiver, Lemon'), ('n617', 'Spicy, Cardamom, Vetiver, Lemon'), ('n618', 'Spicy, Cardamom, Vetiver, Lemon'), ('n622', 'Fresh,Citrus'), ('n629', 'Orange,Apricot'), ('n652', 'Orange,Rose,Citrus'), ('n654', 'Orange,Coriander'), ('n687', 'Citrus'), ('n700', 'Fresh,Citrus'), ('n706', 'Citrus'), ('n731', 'Citrus'), ('n732', 'Citrus'), ('n773', 'Spicy'), ('n800', 'Citrus'), ('n813', 'Fresh,Citrus'), ('n819', 'Citrus'), ('n844', 'Citrus'), ('n845', 'Citrus'), ('n883', 'Spicy'), ('n1206', 'Blackcurrant and fresh green apple'), ('n1221', 'Cinnamon,Fresh,Spicy'), ('n1222', 'Cinnamon,Fresh,Spicy'), ('n1223', 'Cinnamon,Fresh,Spicy'), ('n1244', 'Fresh,Citrus'), ('n1260', 'Orange,Cinnamon,Mint'), ('n1351', 'Blackcurrant and fresh green apple'), ('n1366', 'Cinnamon,Fresh,Spicy'), ('n1367', 'Cinnamon,Fresh,Spicy'), ('n1368', 'Cinnamon,Fresh,Spicy'), ('n1389', 'Fresh,Citrus'), ('n1405', 'Orange,Cinnamon,Mint'), ('n1505', 'Lemon'), ('n1542', 'Rosemary,Orange,Lemon,Citrus'), ('n1560', 'Citrus, Sea Water, Rosemary, Pellucid Hedione'), ('n1564', 'Citrus, Sea Water, Rosemary, Pellucid Hedione'), ('n1581', 'Rosemary,Citrus'), ('n1587', 'Citrus'), ('n1590', 'Rosemary,Fresh,Citrus'), ('n1627', 'Fresh, Citrus Aquatic'), ('n1632', 'Spicy'), ('n1636', 'Rosemary,Citrus'), ('n1672', 'Rosemary,Orange,Lemon,Citrus'), ('n1690', 'Citrus, Sea Water, Rosemary, Pellucid Hedione'), ('n1694', 'Citrus, Sea Water, Rosemary, Pellucid Hedione'), ('n1711', 'Rosemary,Citrus'), ('n1717', 'Citrus'), ('n1720', 'Rosemary,Fresh,Citrus'), ('n1757', 'Fresh, Citrus Aquatic'), ('n1762', 'Spicy'), ('n1766', 'Rosemary,Citrus'), ('n1789', 'Citrus'), ('n1814', 'Citrus, Sea Water, Rosemary, Pellucid Hedione'), ('n1824', 'Citrus'), ('n1825', 'Citrus'), ('n1833', 'Citrus'), ('n1834', 'Citrus'), ('n1835', 'Citrus'), ('n1843', 'Rosemary,Citrus'), ('n1914', 'Citrus'), ('n1940', 'Pineapple'), ('n2012', 'Citrus'), ('n2038', 'Pineapple'), ('n2151', 'Citrus'), ('n2164', 'Fresh Citrus & Fruits'), ('n2180', 'Fresh Citrus & Fruits'), ('n2183', 'Fresh Citrus & Fruits'), ('n2270', 'Fresh Citrus & Fruits'), ('n2377', 'Fresh Citrus & Fruits'), ('n2380', 'Fresh Citrus & Fruits'), ('n2386', 'Fresh Citrus & Fruits'), ('n2387', 'Fresh Citrus & Fruits'), ('n2394', 'Fresh Citrus & Fruits'), ('n2396', 'Fresh Citrus & Fruits'), ('n2454', 'Cool Spices'), ('n2470', 'Cool Spices'), ('n2474', 'Cool Spices')]\n",
      "\n",
      "Cluster  18\n",
      "[('n14', 'Oriental Floral fragrance'), ('n38', 'Oriental, Floral'), ('n76', 'This mesmerizing perfume combines citrus, floral and woody'), ('n108', 'Oriental Floral fragrance'), ('n122', 'Floral Oriental'), ('n123', 'Floral Oriental'), ('n124', 'Floral Oriental'), ('n143', 'Oriental Floral fragrance'), ('n207', 'This mesmerizing perfume combines citrus, floral and woody'), ('n208', 'Oriental, Floral'), ('n237', 'Oriental Floral fragrance'), ('n251', 'Floral Oriental'), ('n252', 'Floral Oriental'), ('n253', 'Floral Oriental'), ('n273', 'Oriental Floral fragrance'), ('n357', 'Invigorating perfume blends musky'), ('n371', 'Oriental, Floral'), ('n383', 'Oriental floral'), ('n412', 'Masculine Scent,'), ('n427', 'Floral perfume'), ('n428', 'Floral perfume'), ('n437', 'Long lasting scent'), ('n450', 'Floral fragrance'), ('n458', 'Scented'), ('n475', 'Oriental, Floral'), ('n487', 'Oriental floral'), ('n516', 'Masculine Scent,'), ('n531', 'Floral perfume'), ('n532', 'Floral perfume'), ('n541', 'Long lasting scent'), ('n554', 'Floral fragrance'), ('n562', 'Scented'), ('n580', 'Oriental Floral'), ('n581', 'Oriental Floral'), ('n582', 'Oriental Floral'), ('n583', 'Oriental Floral'), ('n584', 'Oriental Floral'), ('n590', 'Miss Blooming Bouquet'), ('n621', 'Scented'), ('n710', 'Oriental, Floral'), ('n758', 'Enchanting fragrance'), ('n764', 'Oriental floral'), ('n766', 'Oriental floral'), ('n823', 'Oriental, Floral'), ('n868', 'Enchanting fragrance'), ('n874', 'Oriental floral'), ('n876', 'Oriental floral'), ('n903', 'Floral Oriental'), ('n904', 'Floral Oriental'), ('n905', 'Floral Oriental'), ('n946', 'Spicy florals, with lower notes of amber and jasmine scent'), ('n948', 'Floral fragrance'), ('n977', 'Oriental floral'), ('n1016', 'Oriental Woody fragrance'), ('n1024', 'Oriental, Floral'), ('n1041', 'Oriental woody fragrance'), ('n1060', 'Floral, green scent'), ('n1064', 'Floral fragrance'), ('n1065', 'Oriental floral'), ('n1066', 'Strikingly Bohemian scent'), ('n1093', 'Oriental Woody fragrance'), ('n1101', 'Oriental, Floral'), ('n1118', 'Oriental woody fragrance'), ('n1137', 'Floral, green scent'), ('n1141', 'Floral fragrance'), ('n1142', 'Oriental floral'), ('n1143', 'Strikingly Bohemian scent'), ('n1187', 'Woody, floral fragrance'), ('n1218', 'Masculine scent'), ('n1239', 'Oriental, Floral'), ('n1242', 'Floral perfume'), ('n1243', 'Floral perfume'), ('n1250', 'Oriental, Floral'), ('n1266', 'Fruity Floral Oriental'), ('n1267', 'Fruity Floral Oriental'), ('n1268', 'Fruity Floral Oriental'), ('n1269', 'Fruity Floral Oriental'), ('n1363', 'Masculine scent'), ('n1384', 'Oriental, Floral'), ('n1387', 'Floral perfume'), ('n1388', 'Floral perfume'), ('n1395', 'Oriental, Floral'), ('n1411', 'Fruity Floral Oriental'), ('n1412', 'Fruity Floral Oriental'), ('n1413', 'Fruity Floral Oriental'), ('n1414', 'Fruity Floral Oriental'), ('n1508', 'Top 10 CA Perfume Spray For Women In June 2020'), ('n1517', 'Scent : A fresh, warm scent for the spirited explorer.'), ('n1519', '20,000 Flowers Under The Sea'), ('n1520', '20,000 Flowers Under The Sea'), ('n1549', 'Floral fragrance'), ('n1567', 'Floral Fruity fragrance'), ('n1572', 'CASHMERE MIST'), ('n1573', 'CASHMERE MIST'), ('n1574', 'Oriental, Floral'), ('n1679', 'Floral fragrance'), ('n1697', 'Floral Fruity fragrance'), ('n1702', 'CASHMERE MIST'), ('n1703', 'CASHMERE MIST'), ('n1704', 'Oriental, Floral'), ('n1884', 'Oriental floral'), ('n1886', 'Oriental floral'), ('n1902', 'CASHMERE MIST'), ('n1903', 'CASHMERE MIST'), ('n1905', 'Oriental, Floral'), ('n1983', 'Oriental floral'), ('n1985', 'Oriental floral'), ('n2001', 'CASHMERE MIST'), ('n2002', 'CASHMERE MIST'), ('n2003', 'Oriental, Floral'), ('n2087', 'Natural scent'), ('n2098', 'Floral Oriental'), ('n2099', 'Floral Oriental'), ('n2100', 'Floral Oriental'), ('n2125', 'Floral,Citrus'), ('n2126', 'Floral,Citrus'), ('n2127', 'Floral,Citrus'), ('n2178', 'HOW TO APPLY: Mist onto brush or directly onto hair as part of your COCO MADEMOISELLE fragrance ritual.')]\n",
      "\n",
      "Cluster  19\n",
      "[('n8', 'Rose'), ('n15', 'A clear and sensual heart reveals a transparent accord of jasmine and May rose.'), ('n35', 'Floral,Vanilla'), ('n36', 'Floral,Vanilla'), ('n39', 'Rose'), ('n47', 'Rose'), ('n62', 'Rose'), ('n103', 'Floral,Vanilla,Rose'), ('n107', 'Floral,Rose'), ('n115', 'Floral,Vanilla'), ('n137', 'Rose'), ('n144', 'A clear and sensual heart reveals a transparent accord of jasmine and May rose.'), ('n164', 'Floral,Vanilla'), ('n165', 'Floral,Vanilla'), ('n167', 'Rose'), ('n178', 'Rose'), ('n193', 'Rose'), ('n232', 'Floral,Vanilla,Rose'), ('n236', 'Floral,Rose'), ('n244', 'Floral,Vanilla'), ('n272', 'A clear and sensual heart reveals a transparent accord of jasmine and May rose.'), ('n305', 'Floral,Vanilla'), ('n328', 'Floral,Orange,Fresh,Rose'), ('n360', 'Floral,Vanilla,Fresh'), ('n370', 'Floral,Vanilla'), ('n382', 'Rose'), ('n395', 'Floral,Vanilla,Rose'), ('n396', 'Floral,Vanilla,Orange'), ('n397', 'Floral,Vanilla,Rose'), ('n439', 'Floral,Lemon,Rose'), ('n486', 'Rose'), ('n499', 'Floral,Vanilla,Rose'), ('n500', 'Floral,Vanilla,Orange'), ('n501', 'Floral,Vanilla,Rose'), ('n543', 'Floral,Lemon,Rose'), ('n602', 'Floral,Lemon,Rose'), ('n651', 'Floral,Rose,Citrus'), ('n703', 'Vanilla,Rose'), ('n767', 'Floral,Cedar,Rose'), ('n772', 'Floral,Raspberry,Vanilla,Rose'), ('n774', 'Floral,Raspberry,Vanilla'), ('n816', 'Vanilla,Rose'), ('n877', 'Floral,Cedar,Rose'), ('n882', 'Floral,Raspberry,Vanilla,Rose'), ('n884', 'Floral,Raspberry,Vanilla'), ('n902', 'Rose'), ('n921', 'Rose'), ('n926', 'Rose'), ('n980', 'Floral,Vanilla'), ('n992', 'Vanilla,Fresh,Rose,Citrus'), ('n993', 'Rose'), ('n1002', 'Floral,Vanilla'), ('n1033', 'Floral,Vanilla,Fresh,Lavender,Rose'), ('n1054', 'Floral,Lemon,Fresh,Rose'), ('n1059', 'Floral,Rose'), ('n1110', 'Floral,Vanilla,Fresh,Lavender,Rose'), ('n1131', 'Floral,Lemon,Fresh,Rose'), ('n1136', 'Floral,Rose'), ('n1215', 'Floral,Pomegranate,Lemon,Rose'), ('n1338', 'Rose'), ('n1360', 'Floral,Pomegranate,Lemon,Rose'), ('n1483', 'Rose'), ('n1530', 'Rose'), ('n1569', 'Rose'), ('n1637', 'Rose'), ('n1660', 'Rose'), ('n1699', 'Rose'), ('n1767', 'Rose'), ('n1799', 'Floral,Vanilla'), ('n1811', 'Floral,Vanilla,Orange'), ('n1846', 'Floral,Vanilla'), ('n1852', 'Floral,Vanilla,Orange'), ('n1954', 'Rose, Bloom Accord, Osmanthus'), ('n2052', 'Rose, Bloom Accord, Osmanthus'), ('n2080', 'Rose'), ('n2096', 'Floral,Vanilla')]\n",
      "\n",
      "Cluster  20\n",
      "[('n125', 'Jasmine , Tuberose, Cassis, Bergamot, Black Cherry'), ('n126', 'Jasmine , Tuberose, Cassis, Bergamot, Black Cherry'), ('n127', 'Jasmine , Tuberose, Cassis, Bergamot, Black Cherry'), ('n128', 'Jasmine , Tuberose, Cassis, Bergamot, Black Cherry'), ('n129', 'Jasmine , Tuberose, Cassis, Bergamot, Black Cherry'), ('n254', 'Jasmine , Tuberose, Cassis, Bergamot, Black Cherry'), ('n255', 'Jasmine , Tuberose, Cassis, Bergamot, Black Cherry'), ('n256', 'Jasmine , Tuberose, Cassis, Bergamot, Black Cherry'), ('n257', 'Jasmine , Tuberose, Cassis, Bergamot, Black Cherry'), ('n258', 'Jasmine , Tuberose, Cassis, Bergamot, Black Cherry'), ('n321', 'Jasmine, Musk, Bergamot, Orange'), ('n393', 'Violet, Jasmine, Musk, Rose, Mandarin, Patchouli'), ('n497', 'Violet, Jasmine, Musk, Rose, Mandarin, Patchouli'), ('n718', 'Rose, blackcurrant and jasmines'), ('n831', 'Rose, blackcurrant and jasmines'), ('n929', 'Jasmine , Tuberose, Cassis, Bergamot, Black Cherry'), ('n930', 'Jasmine , Tuberose, Cassis, Bergamot, Black Cherry'), ('n931', 'Jasmine , Tuberose, Cassis, Bergamot, Black Cherry'), ('n932', 'Jasmine , Tuberose, Cassis, Bergamot, Black Cherry'), ('n933', 'Jasmine , Tuberose, Cassis, Bergamot, Black Cherry'), ('n1265', 'Jasmine , Tuberose, Cassis, Bergamot, Black Cherry'), ('n1410', 'Jasmine , Tuberose, Cassis, Bergamot, Black Cherry'), ('n1609', 'Jasmine'), ('n1641', 'Jasmine'), ('n1739', 'Jasmine'), ('n1771', 'Jasmine'), ('n2104', 'Jasmine , Tuberose, Cassis, Bergamot, Black Cherry'), ('n2105', 'Jasmine , Tuberose, Cassis, Bergamot, Black Cherry'), ('n2106', 'Jasmine , Tuberose, Cassis, Bergamot, Black Cherry'), ('n2107', 'Jasmine , Tuberose, Cassis, Bergamot, Black Cherry'), ('n2108', 'Jasmine , Tuberose, Cassis, Bergamot, Black Cherry')]\n",
      "\n"
     ]
    }
   ],
   "source": [
    "# Perform kmean clustering\n",
    "num_clusters = 20\n",
    "clustering_model = KMeans(n_clusters=num_clusters)\n",
    "clustering_model.fit(embeddings)\n",
    "cluster_assignment = clustering_model.labels_\n",
    "\n",
    "clustered_sentences = [[] for i in range(num_clusters)]\n",
    "for sentence_id, cluster_id in enumerate(cluster_assignment):\n",
    "    clustered_sentences[cluster_id].append((node_ids[sentence_id], scents[sentence_id]))\n",
    "\n",
    "for i, cluster in enumerate(clustered_sentences):\n",
    "    print(\"Cluster \", i+1)\n",
    "    print(cluster)\n",
    "    print(\"\")"
   ]
  },
  {
   "cell_type": "code",
   "execution_count": 25,
   "metadata": {},
   "outputs": [],
   "source": [
    "true_predictions_ss = []\n",
    "\n",
    "for cluster in clustered_sentences:\n",
    "    \n",
    "    #cross multiply in one cluster\n",
    "    for i, leftnode in enumerate(cluster):\n",
    "        for j, rightnode in enumerate(cluster):\n",
    "            if i != j:\n",
    "                true_predictions_ss.append([leftnode[0], leftnode[1], rightnode[0], rightnode[1]])\n",
    "            "
   ]
  },
  {
   "cell_type": "code",
   "execution_count": 26,
   "metadata": {},
   "outputs": [],
   "source": [
    "# true_predictions_ss\n",
    "true_predictions_ss_df = pd.DataFrame(data=np.array(true_predictions_ss), columns=['node_id1', 'scent1',\\\n",
    "                                                                   'node_id2', 'scent2'])"
   ]
  },
  {
   "cell_type": "code",
   "execution_count": 27,
   "metadata": {},
   "outputs": [],
   "source": [
    "true_predictions_ss_df.to_csv(dir_ + 'haveSimilarScents_TRUE_predictions.csv')"
   ]
  },
  {
   "cell_type": "code",
   "execution_count": null,
   "metadata": {},
   "outputs": [],
   "source": []
  }
 ],
 "metadata": {
  "colab": {
   "provenance": []
  },
  "kernelspec": {
   "display_name": "Python 3 (ipykernel)",
   "language": "python",
   "name": "python3"
  },
  "language_info": {
   "codemirror_mode": {
    "name": "ipython",
    "version": 3
   },
   "file_extension": ".py",
   "mimetype": "text/x-python",
   "name": "python",
   "nbconvert_exporter": "python",
   "pygments_lexer": "ipython3",
   "version": "3.9.13"
  },
  "vscode": {
   "interpreter": {
    "hash": "88279d2366fe020547cde40dd65aa0e3aa662a6ec1f3ca12d88834876c85e1a6"
   }
  }
 },
 "nbformat": 4,
 "nbformat_minor": 1
}
