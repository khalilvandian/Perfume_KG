{
 "cells": [
  {
   "cell_type": "markdown",
   "metadata": {
    "id": "z2Q5FfqkJ3xN",
    "pycharm": {
     "name": "#%% md\n"
    }
   },
   "source": [
    "## Intra-Perfume Entity Linking"
   ]
  },
  {
   "cell_type": "code",
   "execution_count": 61,
   "metadata": {
    "id": "fTlKyPqCJ3xO",
    "outputId": "f8d02d9d-601c-4c75-e48e-842d5dba3de7",
    "pycharm": {
     "name": "#%%\n"
    }
   },
   "outputs": [],
   "source": [
    "# !pip install rltk"
   ]
  },
  {
   "cell_type": "markdown",
   "metadata": {
    "id": "K8fyiwzJJ3xP",
    "pycharm": {
     "name": "#%% md\n"
    }
   },
   "source": [
    "### Construct RLTK Datasets"
   ]
  },
  {
   "cell_type": "code",
   "execution_count": 65,
   "metadata": {
    "id": "We7cQGTRJ3xP",
    "pycharm": {
     "name": "#%%\n"
    }
   },
   "outputs": [],
   "source": [
    "import rltk\n",
    "import csv\n",
    "\n",
    "# You can use this tokenizer in case you need to manipulate some data\n",
    "tokenizer = rltk.tokenizer.crf_tokenizer.crf_tokenizer.CrfTokenizer()"
   ]
  },
  {
   "cell_type": "code",
   "execution_count": 66,
   "metadata": {
    "id": "T3Q_rPqmJ3xP",
    "pycharm": {
     "name": "#%%\n"
    }
   },
   "outputs": [],
   "source": [
    "'''\n",
    "Feel free to add more columns here for use in record linkage.\n",
    "'''\n",
    "\n",
    "class Perfume(rltk.Record):\n",
    "    def __init__(self, raw_object):\n",
    "        super().__init__(raw_object)\n",
    "#         self.name = ''\n",
    "\n",
    "    @rltk.cached_property\n",
    "    def id(self):\n",
    "        return self.raw_object['_id']\n",
    "    \n",
    "    @rltk.cached_property\n",
    "    def node_id(self):\n",
    "        return self.raw_object['node_id']\n",
    "\n",
    "    @rltk.cached_property\n",
    "    def name(self):\n",
    "        return self.raw_object['name']\n",
    "    \n",
    "    @rltk.cached_property\n",
    "    def name_tokens(self):\n",
    "        return set(tokenizer.tokenize(self.name))\n",
    "\n",
    "    @rltk.cached_property\n",
    "    def brand(self):\n",
    "        return self.raw_object['brand']\n",
    "    \n",
    "    @rltk.cached_property\n",
    "    def url(self):\n",
    "        return self.raw_object['url']\n",
    "    \n",
    "    @rltk.cached_property\n",
    "    def price(self):\n",
    "        return (self.raw_object['price'])\n",
    "    \n",
    "    @rltk.cached_property\n",
    "    def scent(self):\n",
    "        return self.raw_object['scent']\n"
   ]
  },
  {
   "cell_type": "code",
   "execution_count": 68,
   "metadata": {
    "id": "cZ2VHWnwJ3xQ",
    "pycharm": {
     "name": "#%%\n"
    }
   },
   "outputs": [],
   "source": [
    "dir_ = '../data/entity_linking/'\n",
    "file1 = dir_ + 'allNodes.csv'\n",
    "file2 = dir_ + 'allNodes.csv'\n",
    "\n",
    "ds1 = rltk.Dataset(rltk.CSVReader(open(file1, encoding='utf-8')),record_class=Perfume)\n",
    "ds2 = rltk.Dataset(rltk.CSVReader(open(file2, encoding ='utf-8')),record_class=Perfume)"
   ]
  },
  {
   "cell_type": "code",
   "execution_count": 69,
   "metadata": {
    "id": "5CUrpjGTJ3xQ",
    "outputId": "498d3b0e-a742-4740-8751-3a348661e5d0",
    "pycharm": {
     "name": "#%%\n"
    }
   },
   "outputs": [
    {
     "name": "stdout",
     "output_type": "stream",
     "text": [
      "  id node_id                                name  \\\n",
      "0  0      n1                  Vince camuto amore   \n",
      "1  1      n2                       Chance chanel   \n",
      "2  2      n3                         Chanel no 5   \n",
      "3  3      n4  Chânél coco mademoiselle for women   \n",
      "4  4      n5              Mademoiselle for women   \n",
      "\n",
      "                                name_tokens   brand  \\\n",
      "0                    {amore, camuto, Vince}  Chanel   \n",
      "1                          {chanel, Chance}  Chanel   \n",
      "2                           {5, Chanel, no}  Chanel   \n",
      "3  {women, coco, Chânél, for, mademoiselle}  Chanel   \n",
      "4                {for, Mademoiselle, women}  Chanel   \n",
      "\n",
      "                                                 url   price         scent  \n",
      "0  https://www.amazon.com//sspa/click?ie=UTF8&spc...      92  Floral,Fresh  \n",
      "1  https://www.amazon.com//Chance-Chanel-Tendre-W...  147.24          NULL  \n",
      "2  https://www.amazon.com//CHANEL-No-Eau-Parfum-1...    19.9          NULL  \n",
      "3  https://www.amazon.com//Ch%C3%A2n%C3%A9l-Madem...     146          NULL  \n",
      "4  https://www.amazon.com//Ch%C3%A2n%C3%A9l-Madem...     356          NULL  \n",
      "\n",
      "*********************************************\n",
      "\n",
      "  id node_id                                name  \\\n",
      "0  0      n1                  Vince camuto amore   \n",
      "1  1      n2                       Chance chanel   \n",
      "2  2      n3                         Chanel no 5   \n",
      "3  3      n4  Chânél coco mademoiselle for women   \n",
      "4  4      n5              Mademoiselle for women   \n",
      "\n",
      "                                name_tokens   brand  \\\n",
      "0                    {amore, camuto, Vince}  Chanel   \n",
      "1                          {chanel, Chance}  Chanel   \n",
      "2                           {5, Chanel, no}  Chanel   \n",
      "3  {women, coco, Chânél, for, mademoiselle}  Chanel   \n",
      "4                {for, Mademoiselle, women}  Chanel   \n",
      "\n",
      "                                                 url   price         scent  \n",
      "0  https://www.amazon.com//sspa/click?ie=UTF8&spc...      92  Floral,Fresh  \n",
      "1  https://www.amazon.com//Chance-Chanel-Tendre-W...  147.24          NULL  \n",
      "2  https://www.amazon.com//CHANEL-No-Eau-Parfum-1...    19.9          NULL  \n",
      "3  https://www.amazon.com//Ch%C3%A2n%C3%A9l-Madem...     146          NULL  \n",
      "4  https://www.amazon.com//Ch%C3%A2n%C3%A9l-Madem...     356          NULL  \n"
     ]
    }
   ],
   "source": [
    "# print some entries\n",
    "print(ds1.generate_dataframe().head(5))\n",
    "print('\\n*********************************************\\n')\n",
    "print(ds2.generate_dataframe().head(5))"
   ]
  },
  {
   "cell_type": "markdown",
   "metadata": {
    "id": "OCpi3AqZJ3xR",
    "pycharm": {
     "name": "#%% md\n"
    }
   },
   "source": [
    "### sameAs - Entity Linking"
   ]
  },
  {
   "cell_type": "code",
   "execution_count": 70,
   "metadata": {
    "id": "oQ3jFoFSJ3xS",
    "pycharm": {
     "name": "#%%\n"
    }
   },
   "outputs": [],
   "source": [
    "def name_string_similarity_1(r1, r2):\n",
    "    ''' Example dummy similiary function '''\n",
    "    s1 = r1.name\n",
    "    s2 = r2.name\n",
    "    \n",
    "    return rltk.jaro_winkler_similarity(s1, s2)\n",
    "    \n",
    "def name_string_similarity_2(r1, r2):\n",
    "    ''' Example dummy similiary function '''\n",
    "    s1 = r1.name_tokens\n",
    "    s2 = r2.name_tokens\n",
    "    \n",
    "    return rltk.jaccard_index_similarity(s1, s2)"
   ]
  },
  {
   "cell_type": "code",
   "execution_count": 71,
   "metadata": {
    "id": "fGf52bBcJ3xS",
    "pycharm": {
     "name": "#%%\n"
    }
   },
   "outputs": [],
   "source": [
    "# threshold value to determine if we are confident the record match\n",
    "MY_TRESH = 0.5 # this number is just an example, you need to change it\n",
    "\n",
    "# entity linkage scoring function\n",
    "def rule_based_method(r1, r2):\n",
    "    score_1 = name_string_similarity_1(r1, r2)\n",
    "    score_2 = name_string_similarity_2(r1, r2)\n",
    "    \n",
    "    total = 0.5 * score_1 + 0.5 * score_2\n",
    "#     total = score_1\n",
    "    \n",
    "    # return two values: boolean if they match or not, float to determine confidence\n",
    "    return total > MY_TRESH, total"
   ]
  },
  {
   "cell_type": "markdown",
   "metadata": {
    "id": "32c-kCWqJ3xT",
    "pycharm": {
     "name": "#%% md\n"
    }
   },
   "source": [
    "##### Save predictions"
   ]
  },
  {
   "cell_type": "code",
   "execution_count": 72,
   "metadata": {
    "id": "UfC2TKISJ3xT",
    "pycharm": {
     "name": "#%%\n"
    }
   },
   "outputs": [],
   "source": [
    "predictions = []\n",
    "true_predictions = []\n",
    "\n",
    "\n",
    "candidate_pairs = rltk.get_record_pairs(ds1, ds2)\n",
    "for r1, r2 in candidate_pairs:\n",
    "    if r1.brand == r2.brand and r1.node_id != r2.node_id:\n",
    "        result, confidence = rule_based_method(r1, r2)\n",
    "#         print(result, confidence)\n",
    "        predictions.append([r1.node_id, r1.name, r1.url, r2.node_id, r2.name, r2.url, result, confidence])\n",
    "        if result is True:\n",
    "            true_predictions.append([r1.node_id, r1.name, r1.url, r2.node_id, r2.name, r2.url, result, confidence])\n"
   ]
  },
  {
   "cell_type": "code",
   "execution_count": 73,
   "metadata": {
    "id": "4UCWB2Q6J3xT",
    "outputId": "5a2d2a1d-3c4a-4d87-da59-89cc94ee6f8b",
    "pycharm": {
     "name": "#%%\n"
    }
   },
   "outputs": [
    {
     "data": {
      "text/plain": [
       "(1868770, 10801, 10801)"
      ]
     },
     "execution_count": 73,
     "metadata": {},
     "output_type": "execute_result"
    }
   ],
   "source": [
    "len(predictions), len(ds1.generate_dataframe()), len(ds2.generate_dataframe())"
   ]
  },
  {
   "cell_type": "code",
   "execution_count": 74,
   "metadata": {
    "id": "dvnuzp4OJ3xU",
    "pycharm": {
     "name": "#%%\n"
    }
   },
   "outputs": [],
   "source": [
    "import pandas as pd\n",
    "import numpy as np\n",
    "\n",
    "# predictions_df = pd.DataFrame(data=np.array(predictions), columns=['node_id1', 'name1', 'url1',\\\n",
    "#                                                                    'node_id2', 'name2', 'url2',\\\n",
    "#                                                                    'result', 'confidence'])\n"
   ]
  },
  {
   "cell_type": "code",
   "execution_count": 75,
   "metadata": {},
   "outputs": [],
   "source": [
    "# predictions_df.to_csv(dir_ + 'sameAs_predictions.csv')"
   ]
  },
  {
   "cell_type": "code",
   "execution_count": 76,
   "metadata": {},
   "outputs": [],
   "source": [
    "true_predictions_df = pd.DataFrame(data=np.array(true_predictions), columns=['node_id1', 'name1', 'url1',\\\n",
    "                                                                   'node_id2', 'name2', 'url2',\\\n",
    "                                                                   'result', 'confidence'])"
   ]
  },
  {
   "cell_type": "code",
   "execution_count": 77,
   "metadata": {},
   "outputs": [
    {
     "data": {
      "text/html": [
       "<div>\n",
       "<style scoped>\n",
       "    .dataframe tbody tr th:only-of-type {\n",
       "        vertical-align: middle;\n",
       "    }\n",
       "\n",
       "    .dataframe tbody tr th {\n",
       "        vertical-align: top;\n",
       "    }\n",
       "\n",
       "    .dataframe thead th {\n",
       "        text-align: right;\n",
       "    }\n",
       "</style>\n",
       "<table border=\"1\" class=\"dataframe\">\n",
       "  <thead>\n",
       "    <tr style=\"text-align: right;\">\n",
       "      <th></th>\n",
       "      <th>node_id1</th>\n",
       "      <th>name1</th>\n",
       "      <th>url1</th>\n",
       "      <th>node_id2</th>\n",
       "      <th>name2</th>\n",
       "      <th>url2</th>\n",
       "      <th>result</th>\n",
       "      <th>confidence</th>\n",
       "    </tr>\n",
       "  </thead>\n",
       "  <tbody>\n",
       "    <tr>\n",
       "      <th>0</th>\n",
       "      <td>n1</td>\n",
       "      <td>Vince camuto amore</td>\n",
       "      <td>https://www.amazon.com//sspa/click?ie=UTF8&amp;spc...</td>\n",
       "      <td>n34</td>\n",
       "      <td>Vince camuto</td>\n",
       "      <td>https://www.amazon.com//Vince-Camuto-Parfum-Sp...</td>\n",
       "      <td>True</td>\n",
       "      <td>0.8</td>\n",
       "    </tr>\n",
       "    <tr>\n",
       "      <th>1</th>\n",
       "      <td>n1</td>\n",
       "      <td>Vince camuto amore</td>\n",
       "      <td>https://www.amazon.com//sspa/click?ie=UTF8&amp;spc...</td>\n",
       "      <td>n81</td>\n",
       "      <td>Vince camuto ciao</td>\n",
       "      <td>https://www.amazon.com//sspa/click?ie=UTF8&amp;spc...</td>\n",
       "      <td>True</td>\n",
       "      <td>0.7215686274509804</td>\n",
       "    </tr>\n",
       "    <tr>\n",
       "      <th>2</th>\n",
       "      <td>n1</td>\n",
       "      <td>Vince camuto amore</td>\n",
       "      <td>https://www.amazon.com//sspa/click?ie=UTF8&amp;spc...</td>\n",
       "      <td>n82</td>\n",
       "      <td>Vince camuto ciao</td>\n",
       "      <td>https://www.amazon.com//sspa/click?ie=UTF8&amp;spc...</td>\n",
       "      <td>True</td>\n",
       "      <td>0.7215686274509804</td>\n",
       "    </tr>\n",
       "    <tr>\n",
       "      <th>3</th>\n",
       "      <td>n1</td>\n",
       "      <td>Vince camuto amore</td>\n",
       "      <td>https://www.amazon.com//sspa/click?ie=UTF8&amp;spc...</td>\n",
       "      <td>n83</td>\n",
       "      <td>Vince camuto ciao</td>\n",
       "      <td>https://www.amazon.com//sspa/click?ie=UTF8&amp;spc...</td>\n",
       "      <td>True</td>\n",
       "      <td>0.7215686274509804</td>\n",
       "    </tr>\n",
       "    <tr>\n",
       "      <th>4</th>\n",
       "      <td>n1</td>\n",
       "      <td>Vince camuto amore</td>\n",
       "      <td>https://www.amazon.com//sspa/click?ie=UTF8&amp;spc...</td>\n",
       "      <td>n130</td>\n",
       "      <td>Vince camuto amore</td>\n",
       "      <td>https://www.amazon.com//sspa/click?ie=UTF8&amp;spc...</td>\n",
       "      <td>True</td>\n",
       "      <td>1.0</td>\n",
       "    </tr>\n",
       "    <tr>\n",
       "      <th>...</th>\n",
       "      <td>...</td>\n",
       "      <td>...</td>\n",
       "      <td>...</td>\n",
       "      <td>...</td>\n",
       "      <td>...</td>\n",
       "      <td>...</td>\n",
       "      <td>...</td>\n",
       "      <td>...</td>\n",
       "    </tr>\n",
       "    <tr>\n",
       "      <th>318115</th>\n",
       "      <td>n2902</td>\n",
       "      <td>Shalis woman</td>\n",
       "      <td>NULL</td>\n",
       "      <td>n2077</td>\n",
       "      <td>Shalis</td>\n",
       "      <td>NULL</td>\n",
       "      <td>True</td>\n",
       "      <td>0.7</td>\n",
       "    </tr>\n",
       "    <tr>\n",
       "      <th>318116</th>\n",
       "      <td>n2902</td>\n",
       "      <td>Shalis woman</td>\n",
       "      <td>NULL</td>\n",
       "      <td>n2175</td>\n",
       "      <td>Shalis man</td>\n",
       "      <td>NULL</td>\n",
       "      <td>True</td>\n",
       "      <td>0.65</td>\n",
       "    </tr>\n",
       "    <tr>\n",
       "      <th>318117</th>\n",
       "      <td>n2904</td>\n",
       "      <td>Almarasim oud perfume</td>\n",
       "      <td>NULL</td>\n",
       "      <td>n774</td>\n",
       "      <td>Aljefri oud</td>\n",
       "      <td>NULL</td>\n",
       "      <td>True</td>\n",
       "      <td>0.506096681096681</td>\n",
       "    </tr>\n",
       "    <tr>\n",
       "      <th>318118</th>\n",
       "      <td>n2904</td>\n",
       "      <td>Almarasim oud perfume</td>\n",
       "      <td>NULL</td>\n",
       "      <td>n1764</td>\n",
       "      <td>Arabian oud perfume bussma</td>\n",
       "      <td>NULL</td>\n",
       "      <td>True</td>\n",
       "      <td>0.5657509157509157</td>\n",
       "    </tr>\n",
       "    <tr>\n",
       "      <th>318119</th>\n",
       "      <td>n2905</td>\n",
       "      <td>Women lacoste pour femme eau de parfum 90 ml</td>\n",
       "      <td>NULL</td>\n",
       "      <td>n1415</td>\n",
       "      <td>Lacoste eau de lacoste pour femme</td>\n",
       "      <td>NULL</td>\n",
       "      <td>True</td>\n",
       "      <td>0.5812289562289563</td>\n",
       "    </tr>\n",
       "  </tbody>\n",
       "</table>\n",
       "<p>318120 rows × 8 columns</p>\n",
       "</div>"
      ],
      "text/plain": [
       "       node_id1                                         name1  \\\n",
       "0            n1                            Vince camuto amore   \n",
       "1            n1                            Vince camuto amore   \n",
       "2            n1                            Vince camuto amore   \n",
       "3            n1                            Vince camuto amore   \n",
       "4            n1                            Vince camuto amore   \n",
       "...         ...                                           ...   \n",
       "318115    n2902                                  Shalis woman   \n",
       "318116    n2902                                  Shalis woman   \n",
       "318117    n2904                         Almarasim oud perfume   \n",
       "318118    n2904                         Almarasim oud perfume   \n",
       "318119    n2905  Women lacoste pour femme eau de parfum 90 ml   \n",
       "\n",
       "                                                     url1 node_id2  \\\n",
       "0       https://www.amazon.com//sspa/click?ie=UTF8&spc...      n34   \n",
       "1       https://www.amazon.com//sspa/click?ie=UTF8&spc...      n81   \n",
       "2       https://www.amazon.com//sspa/click?ie=UTF8&spc...      n82   \n",
       "3       https://www.amazon.com//sspa/click?ie=UTF8&spc...      n83   \n",
       "4       https://www.amazon.com//sspa/click?ie=UTF8&spc...     n130   \n",
       "...                                                   ...      ...   \n",
       "318115                                               NULL    n2077   \n",
       "318116                                               NULL    n2175   \n",
       "318117                                               NULL     n774   \n",
       "318118                                               NULL    n1764   \n",
       "318119                                               NULL    n1415   \n",
       "\n",
       "                                    name2  \\\n",
       "0                            Vince camuto   \n",
       "1                       Vince camuto ciao   \n",
       "2                       Vince camuto ciao   \n",
       "3                       Vince camuto ciao   \n",
       "4                      Vince camuto amore   \n",
       "...                                   ...   \n",
       "318115                             Shalis   \n",
       "318116                         Shalis man   \n",
       "318117                        Aljefri oud   \n",
       "318118         Arabian oud perfume bussma   \n",
       "318119  Lacoste eau de lacoste pour femme   \n",
       "\n",
       "                                                     url2 result  \\\n",
       "0       https://www.amazon.com//Vince-Camuto-Parfum-Sp...   True   \n",
       "1       https://www.amazon.com//sspa/click?ie=UTF8&spc...   True   \n",
       "2       https://www.amazon.com//sspa/click?ie=UTF8&spc...   True   \n",
       "3       https://www.amazon.com//sspa/click?ie=UTF8&spc...   True   \n",
       "4       https://www.amazon.com//sspa/click?ie=UTF8&spc...   True   \n",
       "...                                                   ...    ...   \n",
       "318115                                               NULL   True   \n",
       "318116                                               NULL   True   \n",
       "318117                                               NULL   True   \n",
       "318118                                               NULL   True   \n",
       "318119                                               NULL   True   \n",
       "\n",
       "                confidence  \n",
       "0                      0.8  \n",
       "1       0.7215686274509804  \n",
       "2       0.7215686274509804  \n",
       "3       0.7215686274509804  \n",
       "4                      1.0  \n",
       "...                    ...  \n",
       "318115                 0.7  \n",
       "318116                0.65  \n",
       "318117   0.506096681096681  \n",
       "318118  0.5657509157509157  \n",
       "318119  0.5812289562289563  \n",
       "\n",
       "[318120 rows x 8 columns]"
      ]
     },
     "execution_count": 77,
     "metadata": {},
     "output_type": "execute_result"
    }
   ],
   "source": [
    "true_predictions_df"
   ]
  },
  {
   "cell_type": "code",
   "execution_count": 78,
   "metadata": {},
   "outputs": [
    {
     "ename": "PermissionError",
     "evalue": "[Errno 13] Permission denied: '../data/entity_linking/sameAs_TRUE_predictions_jaro_jaccard_0.5.csv'",
     "output_type": "error",
     "traceback": [
      "\u001b[1;31m---------------------------------------------------------------------------\u001b[0m",
      "\u001b[1;31mPermissionError\u001b[0m                           Traceback (most recent call last)",
      "\u001b[1;32m~\\AppData\\Local\\Temp\\ipykernel_13068\\939190302.py\u001b[0m in \u001b[0;36m<module>\u001b[1;34m\u001b[0m\n\u001b[1;32m----> 1\u001b[1;33m \u001b[0mtrue_predictions_df\u001b[0m\u001b[1;33m.\u001b[0m\u001b[0mto_csv\u001b[0m\u001b[1;33m(\u001b[0m\u001b[0mdir_\u001b[0m \u001b[1;33m+\u001b[0m \u001b[1;34m'sameAs_TRUE_predictions_jaro_jaccard_0.5.csv'\u001b[0m\u001b[1;33m)\u001b[0m\u001b[1;33m\u001b[0m\u001b[1;33m\u001b[0m\u001b[0m\n\u001b[0m",
      "\u001b[1;32mD:\\Anaconda\\lib\\site-packages\\pandas\\core\\generic.py\u001b[0m in \u001b[0;36mto_csv\u001b[1;34m(self, path_or_buf, sep, na_rep, float_format, columns, header, index, index_label, mode, encoding, compression, quoting, quotechar, line_terminator, chunksize, date_format, doublequote, escapechar, decimal, errors, storage_options)\u001b[0m\n\u001b[0;32m   3549\u001b[0m         )\n\u001b[0;32m   3550\u001b[0m \u001b[1;33m\u001b[0m\u001b[0m\n\u001b[1;32m-> 3551\u001b[1;33m         return DataFrameRenderer(formatter).to_csv(\n\u001b[0m\u001b[0;32m   3552\u001b[0m             \u001b[0mpath_or_buf\u001b[0m\u001b[1;33m,\u001b[0m\u001b[1;33m\u001b[0m\u001b[1;33m\u001b[0m\u001b[0m\n\u001b[0;32m   3553\u001b[0m             \u001b[0mline_terminator\u001b[0m\u001b[1;33m=\u001b[0m\u001b[0mline_terminator\u001b[0m\u001b[1;33m,\u001b[0m\u001b[1;33m\u001b[0m\u001b[1;33m\u001b[0m\u001b[0m\n",
      "\u001b[1;32mD:\\Anaconda\\lib\\site-packages\\pandas\\io\\formats\\format.py\u001b[0m in \u001b[0;36mto_csv\u001b[1;34m(self, path_or_buf, encoding, sep, columns, index_label, mode, compression, quoting, quotechar, line_terminator, chunksize, date_format, doublequote, escapechar, errors, storage_options)\u001b[0m\n\u001b[0;32m   1178\u001b[0m             \u001b[0mformatter\u001b[0m\u001b[1;33m=\u001b[0m\u001b[0mself\u001b[0m\u001b[1;33m.\u001b[0m\u001b[0mfmt\u001b[0m\u001b[1;33m,\u001b[0m\u001b[1;33m\u001b[0m\u001b[1;33m\u001b[0m\u001b[0m\n\u001b[0;32m   1179\u001b[0m         )\n\u001b[1;32m-> 1180\u001b[1;33m         \u001b[0mcsv_formatter\u001b[0m\u001b[1;33m.\u001b[0m\u001b[0msave\u001b[0m\u001b[1;33m(\u001b[0m\u001b[1;33m)\u001b[0m\u001b[1;33m\u001b[0m\u001b[1;33m\u001b[0m\u001b[0m\n\u001b[0m\u001b[0;32m   1181\u001b[0m \u001b[1;33m\u001b[0m\u001b[0m\n\u001b[0;32m   1182\u001b[0m         \u001b[1;32mif\u001b[0m \u001b[0mcreated_buffer\u001b[0m\u001b[1;33m:\u001b[0m\u001b[1;33m\u001b[0m\u001b[1;33m\u001b[0m\u001b[0m\n",
      "\u001b[1;32mD:\\Anaconda\\lib\\site-packages\\pandas\\io\\formats\\csvs.py\u001b[0m in \u001b[0;36msave\u001b[1;34m(self)\u001b[0m\n\u001b[0;32m    239\u001b[0m         \"\"\"\n\u001b[0;32m    240\u001b[0m         \u001b[1;31m# apply compression and byte/text conversion\u001b[0m\u001b[1;33m\u001b[0m\u001b[1;33m\u001b[0m\u001b[0m\n\u001b[1;32m--> 241\u001b[1;33m         with get_handle(\n\u001b[0m\u001b[0;32m    242\u001b[0m             \u001b[0mself\u001b[0m\u001b[1;33m.\u001b[0m\u001b[0mfilepath_or_buffer\u001b[0m\u001b[1;33m,\u001b[0m\u001b[1;33m\u001b[0m\u001b[1;33m\u001b[0m\u001b[0m\n\u001b[0;32m    243\u001b[0m             \u001b[0mself\u001b[0m\u001b[1;33m.\u001b[0m\u001b[0mmode\u001b[0m\u001b[1;33m,\u001b[0m\u001b[1;33m\u001b[0m\u001b[1;33m\u001b[0m\u001b[0m\n",
      "\u001b[1;32mD:\\Anaconda\\lib\\site-packages\\pandas\\io\\common.py\u001b[0m in \u001b[0;36mget_handle\u001b[1;34m(path_or_buf, mode, encoding, compression, memory_map, is_text, errors, storage_options)\u001b[0m\n\u001b[0;32m    784\u001b[0m         \u001b[1;32mif\u001b[0m \u001b[0mioargs\u001b[0m\u001b[1;33m.\u001b[0m\u001b[0mencoding\u001b[0m \u001b[1;32mand\u001b[0m \u001b[1;34m\"b\"\u001b[0m \u001b[1;32mnot\u001b[0m \u001b[1;32min\u001b[0m \u001b[0mioargs\u001b[0m\u001b[1;33m.\u001b[0m\u001b[0mmode\u001b[0m\u001b[1;33m:\u001b[0m\u001b[1;33m\u001b[0m\u001b[1;33m\u001b[0m\u001b[0m\n\u001b[0;32m    785\u001b[0m             \u001b[1;31m# Encoding\u001b[0m\u001b[1;33m\u001b[0m\u001b[1;33m\u001b[0m\u001b[0m\n\u001b[1;32m--> 786\u001b[1;33m             handle = open(\n\u001b[0m\u001b[0;32m    787\u001b[0m                 \u001b[0mhandle\u001b[0m\u001b[1;33m,\u001b[0m\u001b[1;33m\u001b[0m\u001b[1;33m\u001b[0m\u001b[0m\n\u001b[0;32m    788\u001b[0m                 \u001b[0mioargs\u001b[0m\u001b[1;33m.\u001b[0m\u001b[0mmode\u001b[0m\u001b[1;33m,\u001b[0m\u001b[1;33m\u001b[0m\u001b[1;33m\u001b[0m\u001b[0m\n",
      "\u001b[1;31mPermissionError\u001b[0m: [Errno 13] Permission denied: '../data/entity_linking/sameAs_TRUE_predictions_jaro_jaccard_0.5.csv'"
     ]
    }
   ],
   "source": [
    "true_predictions_df.to_csv(dir_ + 'sameAs_TRUE_predictions_jaro_jaccard_0.5.csv')"
   ]
  },
  {
   "cell_type": "markdown",
   "metadata": {},
   "source": [
    "### haveSimilarPrices Entity Linking"
   ]
  },
  {
   "cell_type": "code",
   "execution_count": null,
   "metadata": {},
   "outputs": [],
   "source": [
    "true_predictions_sp = []\n",
    "\n",
    "candidate_pairs = rltk.get_record_pairs(ds1, ds2)\n",
    "for r1, r2 in candidate_pairs:\n",
    "    if (r2.price.isdigit() and r1.price.isdigit()) and \\\n",
    "    (float(r2.price) >= float(r1.price)-5 and float(r2.price) <= float(r1.price)+5)\\\n",
    "    and r1.node_id != r2.node_id:\n",
    "        true_predictions_sp.append([r1.node_id, r1.name, r1.price, r2.node_id, r2.name, r2.price])\n"
   ]
  },
  {
   "cell_type": "code",
   "execution_count": null,
   "metadata": {},
   "outputs": [],
   "source": [
    "true_predictions_sp_df = pd.DataFrame(data=np.array(true_predictions_sp), columns=['node_id1', 'name1', 'price1',\\\n",
    "                                                                   'node_id2', 'name2', 'price2'])"
   ]
  },
  {
   "cell_type": "code",
   "execution_count": null,
   "metadata": {},
   "outputs": [],
   "source": [
    "true_predictions_sp_df.to_csv(dir_ + 'haveSimilarPrices_TRUE_predictions.csv')"
   ]
  },
  {
   "cell_type": "markdown",
   "metadata": {},
   "source": [
    "### haveSimilarScents Entity Linking"
   ]
  },
  {
   "cell_type": "code",
   "execution_count": null,
   "metadata": {},
   "outputs": [],
   "source": [
    "# !pip install -U sentence-transformers"
   ]
  },
  {
   "cell_type": "code",
   "execution_count": null,
   "metadata": {},
   "outputs": [],
   "source": [
    "allNodes_df = ds1.generate_dataframe()\n",
    "allNodes_df = allNodes_df.loc[allNodes_df['scent']!='NULL']\n",
    "allNodes_df = allNodes_df.loc[allNodes_df['scent']!='None']\n",
    "allNodes_df"
   ]
  },
  {
   "cell_type": "code",
   "execution_count": null,
   "metadata": {},
   "outputs": [],
   "source": [
    "scents = list(allNodes_df['scent'])\n",
    "node_ids = list(allNodes_df['node_id'])"
   ]
  },
  {
   "cell_type": "code",
   "execution_count": null,
   "metadata": {},
   "outputs": [],
   "source": [
    "from sentence_transformers import SentenceTransformer\n",
    "model = SentenceTransformer('all-MiniLM-L6-v2')\n",
    "\n",
    "#Our sentences we like to encode\n",
    "sentences = scents\n",
    "\n",
    "#Sentences are encoded by calling model.encode()\n",
    "embeddings = model.encode(sentences)"
   ]
  },
  {
   "cell_type": "code",
   "execution_count": null,
   "metadata": {},
   "outputs": [],
   "source": [
    "embeddings.shape"
   ]
  },
  {
   "cell_type": "code",
   "execution_count": null,
   "metadata": {},
   "outputs": [],
   "source": [
    "from sklearn.decomposition import PCA\n",
    "from sklearn.cluster import KMeans\n",
    "from sentence_transformers import SentenceTransformer, LoggingHandler, util, evaluation, models, InputExample\n",
    "import logging\n",
    "import os\n",
    "import gzip\n",
    "import csv\n",
    "import random\n",
    "import numpy as np\n",
    "import torch"
   ]
  },
  {
   "cell_type": "code",
   "execution_count": null,
   "metadata": {},
   "outputs": [],
   "source": [
    "# Perform kmean clustering\n",
    "num_clusters = 20\n",
    "clustering_model = KMeans(n_clusters=num_clusters)\n",
    "clustering_model.fit(embeddings)\n",
    "cluster_assignment = clustering_model.labels_\n",
    "\n",
    "clustered_sentences = [[] for i in range(num_clusters)]\n",
    "for sentence_id, cluster_id in enumerate(cluster_assignment):\n",
    "    clustered_sentences[cluster_id].append((node_ids[sentence_id], scents[sentence_id]))\n",
    "\n",
    "for i, cluster in enumerate(clustered_sentences):\n",
    "    print(\"Cluster \", i+1)\n",
    "    print(cluster)\n",
    "    print(\"\")"
   ]
  },
  {
   "cell_type": "code",
   "execution_count": null,
   "metadata": {},
   "outputs": [],
   "source": [
    "true_predictions_ss = []\n",
    "\n",
    "for cluster in clustered_sentences:\n",
    "    \n",
    "    #cross multiply in one cluster\n",
    "    for i, leftnode in enumerate(cluster):\n",
    "        for j, rightnode in enumerate(cluster):\n",
    "            if i != j:\n",
    "                true_predictions_ss.append([leftnode[0], leftnode[1], rightnode[0], rightnode[1]])\n",
    "            "
   ]
  },
  {
   "cell_type": "code",
   "execution_count": null,
   "metadata": {},
   "outputs": [],
   "source": [
    "# true_predictions_ss\n",
    "true_predictions_ss_df = pd.DataFrame(data=np.array(true_predictions_ss), columns=['node_id1', 'scent1',\\\n",
    "                                                                   'node_id2', 'scent2'])"
   ]
  },
  {
   "cell_type": "code",
   "execution_count": null,
   "metadata": {},
   "outputs": [],
   "source": [
    "true_predictions_ss_df.to_csv(dir_ + 'haveSimilarScents_TRUE_predictions.csv')"
   ]
  },
  {
   "cell_type": "code",
   "execution_count": null,
   "metadata": {},
   "outputs": [],
   "source": []
  }
 ],
 "metadata": {
  "colab": {
   "provenance": []
  },
  "kernelspec": {
   "display_name": "Python 3 (ipykernel)",
   "language": "python",
   "name": "python3"
  },
  "language_info": {
   "codemirror_mode": {
    "name": "ipython",
    "version": 3
   },
   "file_extension": ".py",
   "mimetype": "text/x-python",
   "name": "python",
   "nbconvert_exporter": "python",
   "pygments_lexer": "ipython3",
   "version": "3.9.13"
  },
  "vscode": {
   "interpreter": {
    "hash": "88279d2366fe020547cde40dd65aa0e3aa662a6ec1f3ca12d88834876c85e1a6"
   }
  }
 },
 "nbformat": 4,
 "nbformat_minor": 1
}
