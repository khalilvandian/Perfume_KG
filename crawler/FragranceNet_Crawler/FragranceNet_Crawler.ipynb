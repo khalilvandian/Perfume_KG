{
 "cells": [
  {
   "cell_type": "code",
   "execution_count": 1,
   "id": "fc08e6ca",
   "metadata": {},
   "outputs": [],
   "source": [
    "import requests as rqs\n",
    "from lxml import etree\n",
    "from fragrance_net import *\n",
    "import re\n",
    "os.chdir(\"../FragranceNet_Crawler/\")"
   ]
  },
  {
   "cell_type": "code",
   "execution_count": 2,
   "id": "ae1f4ed5",
   "metadata": {},
   "outputs": [],
   "source": [
    "HEADERS = {\n",
    "    \"authority\": \"www.fragrancenet.com\",\n",
    "    \"scheme\":\"https\",\n",
    "    \"accept\":\"text/html,application/xhtml+xml,application/xml;q=0.9,image/avif,image/webp,image/apng,*/*;q=0.8,application/signed-exchange;v=b3;q=0.90\",\n",
    "    \"accept-language\": \"en-US,en;q=0.9,zh-CN;q=0.8,zh;q=0.7,fr;q=0.6\",\n",
    "    \"cookie\": 'cookie: MV_SESSION_ID=sAVUmIMKKg9u7jao:rr.com; osid=f15ef2e6e1df7c1157bdfe5aa5b55b5970dbde4e74939c656e843fff7e74bbe1dd8885994b3816fa845886a7d399d963ea3cea2a52ef84e81ece2314d75774ff0919dd99f621909821a1fcdd94ff3ed1982e06f7c2059b4baaceb67f415106ca; currency=currencyUS; affiliate_source=msnus_c_company_terms_fragrancenet_e; __ssid=5d305568ce4e7d027dde1201aa519bc; _fbp=fb.1.1665361570586.205449920; _gcl_au=1.1.156068357.1665361571; _tt_enable_cookie=1; _ttp=c1df9d1c-4ef8-4c3a-b5f5-d333e21817d3; __attentive_id=de4ae5f9f8114a3aa37e8bfd737c3264; __attentive_cco=1665361570947; __attentive_utm_param_source=msn; __attentive_utm_param_medium=cpc; _attn_=eyJ1Ijoie1wiY29cIjoxNjY1MzYxNTcwOTYzLFwidW9cIjoxNjY1MzYxNTcwOTYzLFwibWFcIjoyMTkwMCxcImluXCI6ZmFsc2UsXCJ2YWxcIjpcImRlNGFlNWY5ZjgxMTRhM2FhMzdlOGJmZDczN2MzMjY0XCJ9In0=; __cflb=02DiuCtxEWiftc1CUpjdjPdaPYsm24341yP9Sw25Ny8n8; _gid=GA1.2.942822070.1665626964; _clck=dpbnj9|1|f5o|0; cto_axid=qUesyq71kYYvK24sRohYc4OI3egqoEbR; __attentive_dv=1; __cf_bm=Pl2dwbJyJaAOeJc5WURUFvFfngPtDHH.E97iuRfLOJ8-1665642532-0-AZniagm4upha+ci7w4Zo0yuskgFHp7ipkMW+cUNOXOglfP+3ABCbLLvUODXwU4BWCJq586F2gSbLLSHu7efoDQ7OSRkOInpiTksM+uW+if3/5ImXKp7eHHgAdEuMhMAF87BMw7rYWGb/CWj6LKG8mkQIleTdta5lGC+p9OKddDUV; __attentive_ss_referrer=\"https://www.fragrancenet.com/cologne?page=5\"; amp_365902=OVH-3G9mu-TluZRq4JUBGI...1gf80g11s.1gf818iik.0.7.7; _ga_KQ2KKNE243=GS1.1.1665642532.4.1.1665643336.14.0.0; _ga=GA1.1.1688695203.1665361571; _uetsid=0fb77f204a9c11ed9ee5ebd4ace768a9; _uetvid=24069be0483211edac5f77e39f50f77a; _uetmsclkid=_uet36ecb17ba74c119b88eed238c1d12410; __attentive_pv=2; cto_bundle=IFVTu19UUWE2bHFPMFYlMkJ2Njc3ZDJsd29Tc2J1TUxWRzdQdzZUZk55MDhJJTJGaXNock0xYjVoaXVMUnBVUWhaVWIySEZiNm5KZElKNHk4Ulp0T3ZpYVhKZFZHNndxQlJYYm0lMkJOZzI1ZEhTRFkxOTJLJTJGNGdrbzdUcFkwTWYxJTJGaVJtbUN4WTdQaVNwQWI2ZUc4RyUyRjg5d1k4T2ZudXclM0QlM0Q; _clsk=yw8aec|1665643337421|3|1|d.clarity.ms/collect',\n",
    "    \"device-memory\": \"8\",\n",
    "    \"sec-ch-ua\": '\"Chromium\";v=\"106\", \"Microsoft Edge\";v=\"106\", \"Not;A=Brand\";v=\"99\"',\n",
    "    \"sec-ch-platform\": '\"Windows\"',\n",
    "    \"user-agent\": \"Mozilla/5.0 (Windows NT 10.0; Win64; x64) AppleWebKit/537.36 (KHTML, like Gecko) Chrome/106.0.0.0 Safari/537.36 Edg/106.0.1370.37\",\n",
    "}\n",
    "\n"
   ]
  },
  {
   "cell_type": "code",
   "execution_count": 3,
   "id": "66dc393c",
   "metadata": {},
   "outputs": [],
   "source": [
    "base_URL = \"https://www.fragrancenet.com/fragrances?page={0}\"\n",
    "max_page = 100\n",
    "page_pattern = base_URL"
   ]
  },
  {
   "cell_type": "code",
   "execution_count": 4,
   "id": "c5439d45",
   "metadata": {},
   "outputs": [],
   "source": [
    "option = webdriver.ChromeOptions()\n",
    "option.add_experimental_option(\"debuggerAddress\", \"127.0.0.1:9222\")\n",
    "driver = webdriver.Chrome(\"./chromedriver.exe\", options=option)"
   ]
  },
  {
   "cell_type": "code",
   "execution_count": 5,
   "id": "fde84e36",
   "metadata": {},
   "outputs": [
    {
     "name": "stdout",
     "output_type": "stream",
     "text": [
      "Opening Webdriver Page...\n",
      "---> Processing Search Page: 100... done.\n",
      "Webdriver Page closed.\n"
     ]
    }
   ],
   "source": [
    "all_urls = []\n",
    "print(\"Opening Webdriver Page...\")\n",
    "# driver = webdriver.Chrome(\"./chromedriver.exe\")\n",
    "checker = CheckAntiCrawl()\n",
    "for page in range(max_page):\n",
    "    print(f\"\\r---> Processing Search Page: {page+1}...\", end='')\n",
    "    driver.get(page_pattern.format(page+1))\n",
    "    checker.check()\n",
    "    elements = driver.find_elements(\"xpath\", \"//div[@id='resultSet']//div[@class='resultItem heightSync']//a[@role='button']\")\n",
    "    for element in elements:\n",
    "        href = element.get_attribute(\"href\")\n",
    "        all_urls.append(href)\n",
    "print(\" done.\")\n",
    "print(\"Webdriver Page closed.\")\n",
    "# return all_urls\n"
   ]
  },
  {
   "cell_type": "code",
   "execution_count": 6,
   "id": "566893f2",
   "metadata": {},
   "outputs": [
    {
     "name": "stdout",
     "output_type": "stream",
     "text": [
      " Processing items: 2400/2400... done.\n"
     ]
    }
   ],
   "source": [
    "items = []\n",
    "for idx, url in enumerate(all_urls):\n",
    "    sleep(0.5)\n",
    "    print(f\"\\r Processing items: {idx+1}/{len(all_urls)}...\", end='')\n",
    "    driver.get(url)\n",
    "    checker.check()\n",
    "    node = etree.HTML(driver.page_source)\n",
    "    brand = \"\".join(node.xpath(\"//*[@id='brandTitle']/text()\")).strip()\n",
    "    infos = node.xpath(\"//div[@role='option']//*[@class='desktopText']/*[@class='text']/text()\")\n",
    "    prices = node.xpath(\"//div[@role='option']//*[@class='pricing']/text()\")\n",
    "    ratings = node.xpath(\"//div[contains(@id, 'star')][@class='reviewRating starRating']/@data-score\")\n",
    "\n",
    "    comment_text = node.xpath(\"//*[@id='reviewContent']//*[@data-review_id]//*[@class='text']/text()\")\n",
    "    comment_rating=node.xpath(\"//*[@id='reviewContent']//*[@data-review_id]//*[@data-score]/@data-score\")\n",
    "\n",
    "    comments = list(map(lambda x,y: (x, y), comment_rating, comment_text))\n",
    "\n",
    "    for idx, info in enumerate(infos):\n",
    "        sr = re.search(\"[0-9]+.*[0-9]* oz\", info)\n",
    "        if (sr):\n",
    "            title = info[:sr.start()].strip()\n",
    "            size = sr.group()\n",
    "        else:\n",
    "            title = info\n",
    "            size = None\n",
    "        price = prices[idx]\n",
    "        items.append({\n",
    "            \"name\": title,\n",
    "            \"size\": size,\n",
    "            \"brand\": brand,\n",
    "            \"scent\": None,\n",
    "            \"url\": url,\n",
    "            \"price\": price,\n",
    "            \"ratings\": ratings[0] if len(ratings) else None,\n",
    "            \"comments\": comments,\n",
    "            \"platform\": 2,\n",
    "        })\n",
    "        \n",
    "print(\" done.\")"
   ]
  },
  {
   "cell_type": "code",
   "execution_count": 7,
   "id": "497fa8a2",
   "metadata": {},
   "outputs": [
    {
     "data": {
      "text/plain": [
       "5633218"
      ]
     },
     "execution_count": 7,
     "metadata": {},
     "output_type": "execute_result"
    }
   ],
   "source": [
    "parser.dump(\"../../data/fragranceNet.jsonl\", items)"
   ]
  }
 ],
 "metadata": {
  "kernelspec": {
   "display_name": "Python 3.8.7 64-bit",
   "language": "python",
   "name": "python3"
  },
  "language_info": {
   "codemirror_mode": {
    "name": "ipython",
    "version": 3
   },
   "file_extension": ".py",
   "mimetype": "text/x-python",
   "name": "python",
   "nbconvert_exporter": "python",
   "pygments_lexer": "ipython3",
   "version": "3.8.7"
  },
  "vscode": {
   "interpreter": {
    "hash": "304f6f1c55a5330ebd6c610e41dcea78226f028e8a7621ab537d29f1e1ef2968"
   }
  }
 },
 "nbformat": 4,
 "nbformat_minor": 5
}
