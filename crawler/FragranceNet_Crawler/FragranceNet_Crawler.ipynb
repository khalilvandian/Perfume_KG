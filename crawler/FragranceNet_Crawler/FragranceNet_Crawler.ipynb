{
 "cells": [
  {
   "cell_type": "code",
   "execution_count": 1,
   "id": "fc08e6ca",
   "metadata": {},
   "outputs": [],
   "source": [
    "import requests as rqs\n",
    "from lxml import etree\n",
    "from fragrance_net import *"
   ]
  },
  {
   "cell_type": "code",
   "execution_count": 18,
   "id": "ae1f4ed5",
   "metadata": {},
   "outputs": [],
   "source": [
    "HEADERS = {\n",
    "    \"authority\": \"www.fragrancenet.com\",\n",
    "    \"scheme\":\"https\",\n",
    "    \"accept\":\"text/html,application/xhtml+xml,application/xml;q=0.9,image/avif,image/webp,image/apng,*/*;q=0.8,application/signed-exchange;v=b3;q=0.90\",\n",
    "    \"accept-language\": \"en-US,en;q=0.9,zh-CN;q=0.8,zh;q=0.7,fr;q=0.6\",\n",
    "    \"cookie\": 'cookie: MV_SESSION_ID=sAVUmIMKKg9u7jao:rr.com; osid=f15ef2e6e1df7c1157bdfe5aa5b55b5970dbde4e74939c656e843fff7e74bbe1dd8885994b3816fa845886a7d399d963ea3cea2a52ef84e81ece2314d75774ff0919dd99f621909821a1fcdd94ff3ed1982e06f7c2059b4baaceb67f415106ca; currency=currencyUS; affiliate_source=msnus_c_company_terms_fragrancenet_e; __ssid=5d305568ce4e7d027dde1201aa519bc; _fbp=fb.1.1665361570586.205449920; _gcl_au=1.1.156068357.1665361571; _tt_enable_cookie=1; _ttp=c1df9d1c-4ef8-4c3a-b5f5-d333e21817d3; __attentive_id=de4ae5f9f8114a3aa37e8bfd737c3264; __attentive_cco=1665361570947; __attentive_utm_param_source=msn; __attentive_utm_param_medium=cpc; _attn_=eyJ1Ijoie1wiY29cIjoxNjY1MzYxNTcwOTYzLFwidW9cIjoxNjY1MzYxNTcwOTYzLFwibWFcIjoyMTkwMCxcImluXCI6ZmFsc2UsXCJ2YWxcIjpcImRlNGFlNWY5ZjgxMTRhM2FhMzdlOGJmZDczN2MzMjY0XCJ9In0=; __cflb=02DiuCtxEWiftc1CUpjdjPdaPYsm24341yP9Sw25Ny8n8; _gid=GA1.2.942822070.1665626964; _clck=dpbnj9|1|f5o|0; cto_axid=qUesyq71kYYvK24sRohYc4OI3egqoEbR; __attentive_dv=1; __cf_bm=Pl2dwbJyJaAOeJc5WURUFvFfngPtDHH.E97iuRfLOJ8-1665642532-0-AZniagm4upha+ci7w4Zo0yuskgFHp7ipkMW+cUNOXOglfP+3ABCbLLvUODXwU4BWCJq586F2gSbLLSHu7efoDQ7OSRkOInpiTksM+uW+if3/5ImXKp7eHHgAdEuMhMAF87BMw7rYWGb/CWj6LKG8mkQIleTdta5lGC+p9OKddDUV; __attentive_ss_referrer=\"https://www.fragrancenet.com/cologne?page=5\"; amp_365902=OVH-3G9mu-TluZRq4JUBGI...1gf80g11s.1gf818iik.0.7.7; _ga_KQ2KKNE243=GS1.1.1665642532.4.1.1665643336.14.0.0; _ga=GA1.1.1688695203.1665361571; _uetsid=0fb77f204a9c11ed9ee5ebd4ace768a9; _uetvid=24069be0483211edac5f77e39f50f77a; _uetmsclkid=_uet36ecb17ba74c119b88eed238c1d12410; __attentive_pv=2; cto_bundle=IFVTu19UUWE2bHFPMFYlMkJ2Njc3ZDJsd29Tc2J1TUxWRzdQdzZUZk55MDhJJTJGaXNock0xYjVoaXVMUnBVUWhaVWIySEZiNm5KZElKNHk4Ulp0T3ZpYVhKZFZHNndxQlJYYm0lMkJOZzI1ZEhTRFkxOTJLJTJGNGdrbzdUcFkwTWYxJTJGaVJtbUN4WTdQaVNwQWI2ZUc4RyUyRjg5d1k4T2ZudXclM0QlM0Q; _clsk=yw8aec|1665643337421|3|1|d.clarity.ms/collect',\n",
    "    \"device-memory\": \"8\",\n",
    "    \"sec-ch-ua\": '\"Chromium\";v=\"106\", \"Microsoft Edge\";v=\"106\", \"Not;A=Brand\";v=\"99\"',\n",
    "    \"sec-ch-platform\": '\"Windows\"',\n",
    "    \"user-agent\": \"Mozilla/5.0 (Windows NT 10.0; Win64; x64) AppleWebKit/537.36 (KHTML, like Gecko) Chrome/106.0.0.0 Safari/537.36 Edg/106.0.1370.37\",\n",
    "}\n",
    "\n"
   ]
  },
  {
   "cell_type": "code",
   "execution_count": 5,
   "id": "66dc393c",
   "metadata": {},
   "outputs": [],
   "source": [
    "base_URL = \"https://www.fragrancenet.com/fragrances?page={0}\"\n",
    "max_page = 5\n",
    "page_pattern = base_URL"
   ]
  },
  {
   "cell_type": "code",
   "execution_count": 6,
   "id": "c5439d45",
   "metadata": {},
   "outputs": [],
   "source": [
    "option = webdriver.ChromeOptions()\n",
    "option.add_experimental_option(\"debuggerAddress\", \"127.0.0.1:9222\")\n",
    "driver = webdriver.Chrome(\"./chromedriver.exe\", options=option)"
   ]
  },
  {
   "cell_type": "code",
   "execution_count": 11,
   "id": "fde84e36",
   "metadata": {},
   "outputs": [
    {
     "name": "stdout",
     "output_type": "stream",
     "text": [
      "Opening Webdriver Page...\n",
      "---> Processing Search Page: 5... done.\n",
      "Webdriver Page closed.\n"
     ]
    }
   ],
   "source": [
    "all_urls = []\n",
    "print(\"Opening Webdriver Page...\")\n",
    "# driver = webdriver.Chrome(\"./chromedriver.exe\")\n",
    "checker = CheckAntiCrawl()\n",
    "for page in range(max_page):\n",
    "    print(f\"\\r---> Processing Search Page: {page+1}...\", end='')\n",
    "    driver.get(page_pattern.format(page+1))\n",
    "    checker.check()\n",
    "    elements = driver.find_elements(\"xpath\", \"//div[@id='resultSet']//div[@class='resultItem heightSync']//a[@role='button']\")\n",
    "    for element in elements:\n",
    "        href = element.get_attribute(\"href\")\n",
    "        all_urls.append(href)\n",
    "print(\" done.\")\n",
    "print(\"Webdriver Page closed.\")\n",
    "# return all_urls\n"
   ]
  },
  {
   "cell_type": "code",
   "execution_count": 13,
   "id": "49c29b0d",
   "metadata": {},
   "outputs": [
    {
     "data": {
      "text/plain": [
       "120"
      ]
     },
     "execution_count": 13,
     "metadata": {},
     "output_type": "execute_result"
    }
   ],
   "source": [
    "len(all_urls)"
   ]
  },
  {
   "cell_type": "code",
   "execution_count": 43,
   "id": "76618a94",
   "metadata": {},
   "outputs": [],
   "source": [
    "t1 = parser.load(\"../../data/amazon.jsonl\")\n",
    "t2 = parser.load(\"../../data/sephora.jsonl\")"
   ]
  },
  {
   "cell_type": "code",
   "execution_count": 21,
   "id": "03e77220",
   "metadata": {},
   "outputs": [],
   "source": [
    "t1.extend(t2)"
   ]
  },
  {
   "cell_type": "code",
   "execution_count": 22,
   "id": "6177fba0",
   "metadata": {},
   "outputs": [
    {
     "data": {
      "text/plain": [
       "dict_keys(['title', 'price', 'style', 'ratings', 'comments', 'Brand', 'Item Form', 'Item Volume', 'Scent', 'Material Type Free', 'Package Dimensions', 'Item model number', 'Manufacturer'])"
      ]
     },
     "execution_count": 22,
     "metadata": {},
     "output_type": "execute_result"
    }
   ],
   "source": [
    "t1[0].keys()"
   ]
  },
  {
   "cell_type": "code",
   "execution_count": 39,
   "id": "803223c7",
   "metadata": {},
   "outputs": [
    {
     "data": {
      "text/plain": [
       "{'title': 'Makeup Organizer 360 Degree Rotating Adjustable Cosmetic Storage Organizer Large Skin Care Cosmetic Display Cases Perfume Jewelry Organizer for Bathroom Dresser Countertop (Clear)',\n",
       " 'price': '',\n",
       " 'style': '',\n",
       " 'ratings': {'Overall': ['4.3 out of 5']},\n",
       " 'comments': [('4.0 out of 5 stars',\n",
       "   'This was easy to assemble and holds a lot of makeup and accessories. It rotates and is a nice way to organize the things I need to get my day started. It’s very tall, and that might be the only thing I wasn’t expecting, but you get used to it’s height.'),\n",
       "  ('4.0 out of 5 stars',\n",
       "   'I love this organizer its great and holds a lot when i first go it a couple pieces were broken but i just ended up leaving it off an using that section for my tall bottles so it was fine'),\n",
       "  ('5.0 out of 5 stars',\n",
       "   'This organizer is great! It rotates nicely smooth and fits a lot of products. You the stacks are movable and customized to the desired level. Also very easy to assemble.'),\n",
       "  ('5.0 out of 5 stars',\n",
       "   'If you struggle with having too many toiletries in your cupboard, this device will drastically help you organize and make your items much more accessible and visible. It was very easy to put together, and you can customize the height of the tiers to your needs.'),\n",
       "  ('4.0 out of 5 stars',\n",
       "   'Really good just it’s hard to fit your products because there’s not an infinite amount of space so it does look a little cluttered but over all a good buy'),\n",
       "  ('5.0 out of 5 stars',\n",
       "   'I was looking for something to house all of my skin care products, and this is perfect. It’s really nicely sized and easy to put together.'),\n",
       "  ('4.0 out of 5 stars',\n",
       "   'Good product with good space  but I didn’t receive the rubber rings so it’s not sturdy'),\n",
       "  ('5.0 out of 5 stars',\n",
       "   'This is exactly what I was looking for to keep everything organized.'),\n",
       "  ('3.0 out of 5 stars',\n",
       "   'It’s great for storage and you can adjust the little shelves so it fits better with what you’re trying to organize on there. My only complaint and maybe because I have slight OCD is that if you put something very heavy on it or if you pack a lot of stuff on one side it won’t rotate as smooth. I had to reorganize my stuff a few times to get it smoothed out but even then it still isn’t 100%. Other than that great value, if you bought this already to make it smoother just make sure to balance it out on all sides or be like me and make the screw tighter on the bottom. Uf you don’t care about stuff like that I would just buy it as it it fit most if not all my makeup.'),\n",
       "  ('5.0 out of 5 stars',\n",
       "   'This product was great and exactly what I needed. It was easy to assemble and it’s pretty durable. I love the 360 spinning feature.'),\n",
       "  ('4.0 out of 5 stars',\n",
       "   'Bathroom Easy to assemble but worried that it’s no sturdy enough without the reinforcement elastics that were supposed to be included'),\n",
       "  ('5.0 out of 5 stars',\n",
       "   'This organizer has transformed my bathroom counter space.  I highly recommend this to anyone who needs a great beauty storage solution.  I loved that it was very simple to put together and is very sturdy.'),\n",
       "  ('5.0 out of 5 stars',\n",
       "   'The media could not be loaded.     I liked it, it just like the picture shows. It holds enough. Use the little rubber bands after you have organized your stuff. Its helps to use them'),\n",
       "  ('5.0 out of 5 stars',\n",
       "   'I loved it perfect for my perfumes, skin care, sprays and more!!!'),\n",
       "  ('4.0 out of 5 stars',\n",
       "   'It was easy to assemble and fits great on my bathroom counter. My only issue is some times when I remove items, the shelves will pop out of the grooves. I may try gluing it to make it more sturdy.'),\n",
       "  ('5.0 out of 5 stars', 'Very useful and beautiful'),\n",
       "  ('4.0 out of 5 stars',\n",
       "   'Easy to assemble, and many different configurations for all different sized items.'),\n",
       "  ('5.0 out of 5 stars',\n",
       "   'It works well. You can organize and see everything in front of you.'),\n",
       "  ('5.0 out of 5 stars',\n",
       "   'The media could not be loaded.     Love this organizer, it was easy to put together and it does a great job of displaying my fragrances'),\n",
       "  ('5.0 out of 5 stars',\n",
       "   \"This product has been a game changer. Using the very small amount of space on the vanity allows me to see & use products easily. The configuration is easy to change as I use things up and haul out replacement products lost in the cabinet. It also helps the area stay cleaner because stray stuff can't land there. I am thrilled.\"),\n",
       "  ('5.0 out of 5 stars',\n",
       "   'Really cute organizer. Easy to put together and holds my daily skin care products!'),\n",
       "  ('5.0 out of 5 stars',\n",
       "   'I bought two. One for my sink top for various toiletries and another for my vanity. They are wonderful.'),\n",
       "  ('5.0 out of 5 stars',\n",
       "   'This is just what I needed. It’s saves space in my small bsthroom'),\n",
       "  ('5.0 out of 5 stars',\n",
       "   'Just what I want to see and use for my cosmetics and perfumes at home. I even got one for my husband.'),\n",
       "  ('5.0 out of 5 stars', 'Good'),\n",
       "  ('2.0 out of 5 stars', 'Cheaply made, shelves fall out of holes to easy'),\n",
       "  ('1.0 out of 5 stars', 'The media could not be loaded.     Llego quebrado'),\n",
       "  ('5.0 out of 5 stars',\n",
       "   'I love everything about it I personally used it for all my nail polish and all the accessories')],\n",
       " '': ''}"
      ]
     },
     "execution_count": 39,
     "metadata": {},
     "output_type": "execute_result"
    }
   ],
   "source": [
    "t1[14]"
   ]
  },
  {
   "cell_type": "code",
   "execution_count": 46,
   "id": "96dad74a",
   "metadata": {},
   "outputs": [],
   "source": [
    "brands = []\n",
    "for idx,t in enumerate(t2):\n",
    "    if 'Brand' in t:\n",
    "        brands.append(t[\"Brand\"])\n",
    "\n"
   ]
  },
  {
   "cell_type": "code",
   "execution_count": 49,
   "id": "919e2a5f",
   "metadata": {},
   "outputs": [
    {
     "data": {
      "text/plain": [
       "51"
      ]
     },
     "execution_count": 49,
     "metadata": {},
     "output_type": "execute_result"
    }
   ],
   "source": [
    "len(set(brands))"
   ]
  }
 ],
 "metadata": {
  "kernelspec": {
   "display_name": "Python 3.8.7 64-bit",
   "language": "python",
   "name": "python3"
  },
  "language_info": {
   "codemirror_mode": {
    "name": "ipython",
    "version": 3
   },
   "file_extension": ".py",
   "mimetype": "text/x-python",
   "name": "python",
   "nbconvert_exporter": "python",
   "pygments_lexer": "ipython3",
   "version": "3.8.7"
  },
  "vscode": {
   "interpreter": {
    "hash": "304f6f1c55a5330ebd6c610e41dcea78226f028e8a7621ab537d29f1e1ef2968"
   }
  }
 },
 "nbformat": 4,
 "nbformat_minor": 5
}
