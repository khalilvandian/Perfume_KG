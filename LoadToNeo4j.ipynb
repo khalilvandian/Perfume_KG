{
 "cells": [
  {
   "cell_type": "code",
   "execution_count": 3,
   "metadata": {},
   "outputs": [],
   "source": [
    "from neo4j import GraphDatabase\n",
    "from rdflib_neo4j import Neo4jStoreConfig, Neo4jStore, HANDLE_VOCAB_URI_STRATEGY\n",
    "from rdflib import Graph\n",
    "\n",
    "# URI examples: \"neo4j://localhost\", \"neo4j+s://xxx.databases.neo4j.io\"\n",
    "URI = \"neo4j+s://53601604.databases.neo4j.io\"\n",
    "AUTH = (\"neo4j\", \"P2Ui4U8o4mpSotvcLNAVXock_1IpcJh5rFANct7uKSc\")\n",
    "\n",
    "with GraphDatabase.driver(URI, auth=AUTH) as driver:\n",
    "    driver.verify_connectivity()"
   ]
  },
  {
   "cell_type": "code",
   "execution_count": 5,
   "metadata": {},
   "outputs": [
    {
     "name": "stdout",
     "output_type": "stream",
     "text": [
      "Uniqueness constraint on :Resource(uri) is created.\n",
      "The store is now: Open\n"
     ]
    },
    {
     "name": "stderr",
     "output_type": "stream",
     "text": [
      "ERROR:neo4j.io:Failed to write data to connection ResolvedIPv4Address(('35.189.250.174', 7687)) (ResolvedIPv4Address(('35.189.250.174', 7687)))\n",
      "ERROR:neo4j.io:Failed to write data to connection IPv4Address(('53601604.databases.neo4j.io', 7687)) (ResolvedIPv4Address(('35.189.250.174', 7687)))\n"
     ]
    },
    {
     "name": "stdout",
     "output_type": "stream",
     "text": [
      "The store is now: Closed\n",
      "IMPORTED 220555 TRIPLES\n"
     ]
    }
   ],
   "source": [
    "# set the configuration to connect to your Aura DB\n",
    "AURA_DB_URI=\"neo4j+s://53601604.databases.neo4j.io\"\n",
    "AURA_DB_USERNAME=\"neo4j\"\n",
    "AURA_DB_PWD=\"P2Ui4U8o4mpSotvcLNAVXock_1IpcJh5rFANct7uKSc\"\n",
    "\n",
    "auth_data = {'uri': AURA_DB_URI,\n",
    "             'database': \"neo4j\",\n",
    "             'user': AURA_DB_USERNAME,\n",
    "             'pwd': AURA_DB_PWD}\n",
    "\n",
    "# Define your custom mappings & store config\n",
    "config = Neo4jStoreConfig(auth_data=auth_data,\n",
    "                        #   custom_prefixes=prefixes,\n",
    "                          handle_vocab_uri_strategy=HANDLE_VOCAB_URI_STRATEGY.IGNORE,\n",
    "                          batching=True)\n",
    "\n",
    "file_path = 'B:\\Projects\\Perfume_KG\\Ontology\\PerfumeKG_Loaded_Reasoned_02.rdf'\n",
    "\n",
    "# Create the RDF Graph, parse & ingest the data to Neo4j, and close the store(If the field batching is set to True in the Neo4jStoreConfig, remember to close the store to prevent the loss of any uncommitted records.)\n",
    "neo4j_aura = Graph(store=Neo4jStore(config=config))\n",
    "# Calling the parse method will implictly open the store\n",
    "neo4j_aura.parse(file_path)\n",
    "neo4j_aura.close(True)\n"
   ]
  }
 ],
 "metadata": {
  "kernelspec": {
   "display_name": "PerfumeApp",
   "language": "python",
   "name": "python3"
  },
  "language_info": {
   "codemirror_mode": {
    "name": "ipython",
    "version": 3
   },
   "file_extension": ".py",
   "mimetype": "text/x-python",
   "name": "python",
   "nbconvert_exporter": "python",
   "pygments_lexer": "ipython3",
   "version": "3.11.10"
  }
 },
 "nbformat": 4,
 "nbformat_minor": 2
}
